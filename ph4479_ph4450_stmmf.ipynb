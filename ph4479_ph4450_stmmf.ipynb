{
  "nbformat": 4,
  "nbformat_minor": 0,
  "metadata": {
    "colab": {
      "name": "ph4479-ph4450_stmmf.ipynb",
      "provenance": [],
      "collapsed_sections": []
    },
    "kernelspec": {
      "name": "python3",
      "display_name": "Python 3"
    },
    "accelerator": "GPU"
  },
  "cells": [
    {
      "cell_type": "markdown",
      "metadata": {
        "id": "e4FmLP9QR37I",
        "colab_type": "text"
      },
      "source": [
        "#Seeing Through Multimode fibers\n",
        "##Tsarantanis Dimitrios - 4479\n",
        "##Ximerakis Ioannis - 4450"
      ]
    },
    {
      "cell_type": "markdown",
      "metadata": {
        "id": "ssyQqU4rilU6",
        "colab_type": "text"
      },
      "source": [
        "###Mounting Drive###"
      ]
    },
    {
      "cell_type": "code",
      "metadata": {
        "id": "T-Xb_jjkdVYf",
        "colab_type": "code",
        "colab": {
          "base_uri": "https://localhost:8080/",
          "height": 122
        },
        "outputId": "f0d16863-0e81-4402-9f0b-1f42704fb6eb"
      },
      "source": [
        "from google.colab import drive\n",
        "drive.mount('/content/drive')"
      ],
      "execution_count": 1,
      "outputs": [
        {
          "output_type": "stream",
          "text": [
            "Go to this URL in a browser: https://accounts.google.com/o/oauth2/auth?client_id=947318989803-6bn6qk8qdgf4n4g3pfee6491hc0brc4i.apps.googleusercontent.com&redirect_uri=urn%3aietf%3awg%3aoauth%3a2.0%3aoob&response_type=code&scope=email%20https%3a%2f%2fwww.googleapis.com%2fauth%2fdocs.test%20https%3a%2f%2fwww.googleapis.com%2fauth%2fdrive%20https%3a%2f%2fwww.googleapis.com%2fauth%2fdrive.photos.readonly%20https%3a%2f%2fwww.googleapis.com%2fauth%2fpeopleapi.readonly\n",
            "\n",
            "Enter your authorization code:\n",
            "··········\n",
            "Mounted at /content/drive\n"
          ],
          "name": "stdout"
        }
      ]
    },
    {
      "cell_type": "markdown",
      "metadata": {
        "id": "Te3SpHWeR-bg",
        "colab_type": "text"
      },
      "source": [
        "###Setup###"
      ]
    },
    {
      "cell_type": "code",
      "metadata": {
        "id": "UsLs-Uzed5l_",
        "colab_type": "code",
        "outputId": "8f4af70b-ebc4-4742-f72f-155426f43b4f",
        "colab": {
          "base_uri": "https://localhost:8080/",
          "height": 34
        }
      },
      "source": [
        "try :\n",
        "  # In Google Colab\n",
        "  %tensorflow_version 2.x\n",
        "except :\n",
        "  pass\n",
        "\n",
        "# Import Tensorflow\n",
        "import tensorflow as tf\n",
        "\n",
        "# Assure TensorFlow version >= 2 is installed. Otherwise install TensorFlow 2.0 version.\n",
        "try :\n",
        "  assert tf.__version__ >= \"2.0\"\n",
        "  print (\"TensorFlow version found:\", tf.__version__)\n",
        "except :\n",
        "  !pip install tensorflow==2.0\n",
        "\n",
        "# Import NumPy and Matplotlib.\n",
        "import numpy as np\n",
        "import matplotlib.pyplot as plt"
      ],
      "execution_count": 2,
      "outputs": [
        {
          "output_type": "stream",
          "text": [
            "TensorFlow version found: 2.2.0-rc3\n"
          ],
          "name": "stdout"
        }
      ]
    },
    {
      "cell_type": "code",
      "metadata": {
        "id": "ed9G_fMp4ni3",
        "colab_type": "code",
        "colab": {}
      },
      "source": [
        "import h5py\n",
        "\n",
        "import os\n",
        "import random\n",
        "import pandas as pd\n",
        "import numpy as np\n",
        "import matplotlib.pyplot as plt\n",
        "\n",
        "%matplotlib inline\n",
        "\n",
        "from tqdm import tqdm_notebook, tnrange\n",
        "from itertools import chain\n",
        "from skimage.io import imread, imshow, concatenate_images\n",
        "from skimage.transform import resize\n",
        "from skimage.morphology import label\n",
        "from sklearn.model_selection import train_test_split\n",
        "\n",
        "import tensorflow as tf\n",
        "\n",
        "from tensorflow.keras.models import Model, load_model\n",
        "from tensorflow.keras.layers import Input, BatchNormalization, Activation, Dense, Dropout\n",
        "from tensorflow.keras.layers import Lambda, RepeatVector, Reshape\n",
        "from tensorflow.keras.layers import Conv2D, Conv2DTranspose\n",
        "from tensorflow.keras.layers import MaxPooling2D, GlobalMaxPool2D\n",
        "from tensorflow.keras.layers import concatenate, add\n",
        "from tensorflow.keras.callbacks import EarlyStopping, ModelCheckpoint, ReduceLROnPlateau\n",
        "from tensorflow.keras.optimizers import Adam\n",
        "from tensorflow.keras.preprocessing.image import ImageDataGenerator, array_to_img, img_to_array, load_img\n",
        "from tensorflow.keras.utils import plot_model"
      ],
      "execution_count": 0,
      "outputs": []
    },
    {
      "cell_type": "markdown",
      "metadata": {
        "id": "-jbUmith5AxM",
        "colab_type": "text"
      },
      "source": [
        "##A. Speckle Pattern Classification##"
      ]
    },
    {
      "cell_type": "markdown",
      "metadata": {
        "id": "TOXeSWYo5MMg",
        "colab_type": "text"
      },
      "source": [
        "##1. 1km Input Phase##"
      ]
    },
    {
      "cell_type": "code",
      "metadata": {
        "id": "JhIQs9BRxnRr",
        "colab_type": "code",
        "colab": {}
      },
      "source": [
        "#Loading speckles from dataset\n",
        "f = h5py.File('/content/drive/My Drive/fiber data Crete/1km/Input Phase/processed/32_down_input_data.h5', 'r')"
      ],
      "execution_count": 0,
      "outputs": []
    },
    {
      "cell_type": "code",
      "metadata": {
        "id": "DS4FHE2c76st",
        "colab_type": "code",
        "outputId": "8ab0aaf3-2a38-4b81-89cd-ab96d348f3cc",
        "colab": {
          "base_uri": "https://localhost:8080/",
          "height": 34
        }
      },
      "source": [
        "f.keys()"
      ],
      "execution_count": 5,
      "outputs": [
        {
          "output_type": "execute_result",
          "data": {
            "text/plain": [
              "<KeysViewHDF5 ['input_data']>"
            ]
          },
          "metadata": {
            "tags": []
          },
          "execution_count": 5
        }
      ]
    },
    {
      "cell_type": "code",
      "metadata": {
        "id": "QcYU-j_8eL6E",
        "colab_type": "code",
        "colab": {}
      },
      "source": [
        "x=f['input_data']"
      ],
      "execution_count": 0,
      "outputs": []
    },
    {
      "cell_type": "code",
      "metadata": {
        "id": "GE1N3wpleVCa",
        "colab_type": "code",
        "outputId": "5ecbcc0b-de93-4e12-82bf-f0d3f2aee187",
        "colab": {
          "base_uri": "https://localhost:8080/",
          "height": 34
        }
      },
      "source": [
        "x.shape"
      ],
      "execution_count": 7,
      "outputs": [
        {
          "output_type": "execute_result",
          "data": {
            "text/plain": [
              "(20000, 32, 32, 1)"
            ]
          },
          "metadata": {
            "tags": []
          },
          "execution_count": 7
        }
      ]
    },
    {
      "cell_type": "code",
      "metadata": {
        "id": "JDXBxl5Gnj-M",
        "colab_type": "code",
        "outputId": "6739dbb0-6eb5-495b-9da6-61440a6fa12e",
        "colab": {
          "base_uri": "https://localhost:8080/",
          "height": 283
        }
      },
      "source": [
        "plt.imshow(x[1,:,:,0],cmap='gray')"
      ],
      "execution_count": 8,
      "outputs": [
        {
          "output_type": "execute_result",
          "data": {
            "text/plain": [
              "<matplotlib.image.AxesImage at 0x7fe093b58978>"
            ]
          },
          "metadata": {
            "tags": []
          },
          "execution_count": 8
        },
        {
          "output_type": "display_data",
          "data": {
            "image/png": "[encoded data removed]",
            "text/plain": [
              "<Figure size 432x288 with 1 Axes>"
            ]
          },
          "metadata": {
            "tags": [],
            "needs_background": "light"
          }
        }
      ]
    },
    {
      "cell_type": "code",
      "metadata": {
        "id": "vSgHWLJMf6Zm",
        "colab_type": "code",
        "colab": {}
      },
      "source": [
        "#Loading labels from dataset\n",
        "g = h5py.File('/content/drive/My Drive/fiber data Crete/1km/Input Phase/processed/32_down_output_class_onehot.h5', 'r')"
      ],
      "execution_count": 0,
      "outputs": []
    },
    {
      "cell_type": "code",
      "metadata": {
        "id": "BVHxhTd6naQP",
        "colab_type": "code",
        "outputId": "ab6583f6-f8f5-4ceb-e19e-9b6522c82b78",
        "colab": {
          "base_uri": "https://localhost:8080/",
          "height": 34
        }
      },
      "source": [
        "list(g.keys())"
      ],
      "execution_count": 10,
      "outputs": [
        {
          "output_type": "execute_result",
          "data": {
            "text/plain": [
              "['output_class_onehot']"
            ]
          },
          "metadata": {
            "tags": []
          },
          "execution_count": 10
        }
      ]
    },
    {
      "cell_type": "code",
      "metadata": {
        "id": "k60qKlJXoYSC",
        "colab_type": "code",
        "colab": {}
      },
      "source": [
        "y=g['output_class_onehot']"
      ],
      "execution_count": 0,
      "outputs": []
    },
    {
      "cell_type": "code",
      "metadata": {
        "id": "deTDnBc_oiWr",
        "colab_type": "code",
        "outputId": "e1701251-b760-4ede-b7b7-ad1068f6eaf1",
        "colab": {
          "base_uri": "https://localhost:8080/",
          "height": 34
        }
      },
      "source": [
        "y.shape"
      ],
      "execution_count": 12,
      "outputs": [
        {
          "output_type": "execute_result",
          "data": {
            "text/plain": [
              "(20000, 10)"
            ]
          },
          "metadata": {
            "tags": []
          },
          "execution_count": 12
        }
      ]
    },
    {
      "cell_type": "code",
      "metadata": {
        "id": "HW4YBxFDojVb",
        "colab_type": "code",
        "colab": {}
      },
      "source": [
        "#Converting data to numpy arrays\n",
        "x_full=np.array(x)\n",
        "y_full=np.array(y)\n",
        "#Splitting to train and test sets\n",
        "x_train, x_test, y_train, y_test = train_test_split(x_full, y_full, test_size = 0.2, random_state = 42)"
      ],
      "execution_count": 0,
      "outputs": []
    },
    {
      "cell_type": "code",
      "metadata": {
        "id": "CC8CtFx2ov1x",
        "colab_type": "code",
        "outputId": "44fcc8ef-3ff6-42bb-dc19-4b6b568be901",
        "colab": {
          "base_uri": "https://localhost:8080/",
          "height": 34
        }
      },
      "source": [
        "y_test.shape"
      ],
      "execution_count": 14,
      "outputs": [
        {
          "output_type": "execute_result",
          "data": {
            "text/plain": [
              "(4000, 10)"
            ]
          },
          "metadata": {
            "tags": []
          },
          "execution_count": 14
        }
      ]
    },
    {
      "cell_type": "code",
      "metadata": {
        "id": "A9e4AE1W1vbP",
        "colab_type": "code",
        "colab": {}
      },
      "source": [
        "#Splitting test set to test and validation\n",
        "x_test, x_valid, y_test, y_valid = train_test_split(x_test, y_test, test_size = 0.5, random_state = 42)"
      ],
      "execution_count": 0,
      "outputs": []
    },
    {
      "cell_type": "code",
      "metadata": {
        "id": "CGl09Ygj2AzE",
        "colab_type": "code",
        "outputId": "6e9cc577-d30c-44dc-a101-35e15a64ee29",
        "colab": {
          "base_uri": "https://localhost:8080/",
          "height": 119
        }
      },
      "source": [
        "print(x_train.shape)\n",
        "print(x_test.shape)\n",
        "print(x_valid.shape)\n",
        "print(y_train.shape)\n",
        "print(y_test.shape)\n",
        "print(y_valid.shape)"
      ],
      "execution_count": 16,
      "outputs": [
        {
          "output_type": "stream",
          "text": [
            "(16000, 32, 32, 1)\n",
            "(2000, 32, 32, 1)\n",
            "(2000, 32, 32, 1)\n",
            "(16000, 10)\n",
            "(2000, 10)\n",
            "(2000, 10)\n"
          ],
          "name": "stdout"
        }
      ]
    },
    {
      "cell_type": "code",
      "metadata": {
        "id": "Uu_9Ya94r5cM",
        "colab_type": "code",
        "outputId": "fb8db5f4-b047-4c8c-8e05-a61690131693",
        "colab": {
          "base_uri": "https://localhost:8080/",
          "height": 1000
        }
      },
      "source": [
        "#Classification Network\n",
        "from tensorflow.keras.models import Sequential\n",
        "from tensorflow.keras.layers import Conv2D, MaxPool2D, Flatten, Dense, Dropout\n",
        "from tensorflow.keras.optimizers import SGD, Adam\n",
        "tf.keras.backend.clear_session\n",
        "\n",
        "\n",
        "model = Sequential()\n",
        "model.add(Conv2D(input_shape=(32,32,1),padding=\"same\",filters=32,kernel_size=(3,3), activation=\"relu\"))\n",
        "model.add(Conv2D(kernel_size=(3,3),padding=\"same\",filters=32, activation=\"relu\"))\n",
        "\n",
        "\n",
        "model.add(Conv2D(kernel_size=(3,3),padding=\"same\",filters=64, activation=\"relu\"))\n",
        "model.add(Conv2D(kernel_size=(3,3),padding=\"same\",filters=64, activation=\"relu\"))\n",
        "model.add(MaxPool2D(pool_size=(2,2),padding = 'same',strides=(2,2)))\n",
        "\n",
        "model.add(Conv2D(kernel_size=(3,3),padding=\"same\",filters=128, activation=\"relu\"))\n",
        "model.add(Conv2D(kernel_size=(3,3),padding=\"same\",filters=128, activation=\"relu\"))\n",
        "model.add(MaxPool2D(pool_size=(2,2),padding = 'same',strides=(2,2)))\n",
        "\n",
        "model.add(Conv2D(kernel_size=(3,3),padding=\"same\",filters=256, activation=\"relu\"))\n",
        "model.add(Conv2D(kernel_size=(3,3),padding=\"same\",filters=256, activation=\"relu\"))\n",
        "model.add(MaxPool2D(pool_size=(2,2),padding = 'same',strides=(2,2)))\n",
        "\n",
        "\n",
        "model.add(Flatten())\n",
        "\n",
        "model.add(Dropout(0.40)) \n",
        "model.add(Dense(256,activation='relu'))\n",
        "\n",
        "model.add(Dense(10, activation = 'softmax'))\n",
        "\n",
        "model.summary()\n",
        "\n",
        "from tensorflow.keras.callbacks import EarlyStopping\n",
        "early_stopping = EarlyStopping(patience = 20, restore_best_weights = True)\n",
        "\n",
        "model.compile(loss = \"categorical_crossentropy\", optimizer = Adam(lr=0.0001), metrics = [\"accuracy\"])\n",
        "\n",
        "history = model.fit(x_train, y_train,\n",
        "                  validation_data = (x_valid, y_valid),\n",
        "                  epochs = 50, batch_size = 500, callbacks = [early_stopping])"
      ],
      "execution_count": 17,
      "outputs": [
        {
          "output_type": "stream",
          "text": [
            "Model: \"sequential\"\n",
            "_________________________________________________________________\n",
            "Layer (type)                 Output Shape              Param #   \n",
            "=================================================================\n",
            "conv2d (Conv2D)              (None, 32, 32, 32)        320       \n",
            "_________________________________________________________________\n",
            "conv2d_1 (Conv2D)            (None, 32, 32, 32)        9248      \n",
            "_________________________________________________________________\n",
            "conv2d_2 (Conv2D)            (None, 32, 32, 64)        18496     \n",
            "_________________________________________________________________\n",
            "conv2d_3 (Conv2D)            (None, 32, 32, 64)        36928     \n",
            "_________________________________________________________________\n",
            "max_pooling2d (MaxPooling2D) (None, 16, 16, 64)        0         \n",
            "_________________________________________________________________\n",
            "conv2d_4 (Conv2D)            (None, 16, 16, 128)       73856     \n",
            "_________________________________________________________________\n",
            "conv2d_5 (Conv2D)            (None, 16, 16, 128)       147584    \n",
            "_________________________________________________________________\n",
            "max_pooling2d_1 (MaxPooling2 (None, 8, 8, 128)         0         \n",
            "_________________________________________________________________\n",
            "conv2d_6 (Conv2D)            (None, 8, 8, 256)         295168    \n",
            "_________________________________________________________________\n",
            "conv2d_7 (Conv2D)            (None, 8, 8, 256)         590080    \n",
            "_________________________________________________________________\n",
            "max_pooling2d_2 (MaxPooling2 (None, 4, 4, 256)         0         \n",
            "_________________________________________________________________\n",
            "flatten (Flatten)            (None, 4096)              0         \n",
            "_________________________________________________________________\n",
            "dropout (Dropout)            (None, 4096)              0         \n",
            "_________________________________________________________________\n",
            "dense (Dense)                (None, 256)               1048832   \n",
            "_________________________________________________________________\n",
            "dense_1 (Dense)              (None, 10)                2570      \n",
            "=================================================================\n",
            "Total params: 2,223,082\n",
            "Trainable params: 2,223,082\n",
            "Non-trainable params: 0\n",
            "_________________________________________________________________\n",
            "Epoch 1/50\n",
            "32/32 [==============================] - 8s 237ms/step - loss: 2.3434 - accuracy: 0.1024 - val_loss: 2.3002 - val_accuracy: 0.1085\n",
            "Epoch 2/50\n",
            "32/32 [==============================] - 7s 229ms/step - loss: 2.3015 - accuracy: 0.1149 - val_loss: 2.3017 - val_accuracy: 0.1135\n",
            "Epoch 3/50\n",
            "32/32 [==============================] - 7s 230ms/step - loss: 2.2991 - accuracy: 0.1151 - val_loss: 2.2981 - val_accuracy: 0.1190\n",
            "Epoch 4/50\n",
            "32/32 [==============================] - 7s 230ms/step - loss: 2.2957 - accuracy: 0.1207 - val_loss: 2.2965 - val_accuracy: 0.1190\n",
            "Epoch 5/50\n",
            "32/32 [==============================] - 7s 231ms/step - loss: 2.2927 - accuracy: 0.1254 - val_loss: 2.2946 - val_accuracy: 0.1285\n",
            "Epoch 6/50\n",
            "32/32 [==============================] - 7s 232ms/step - loss: 2.2868 - accuracy: 0.1353 - val_loss: 2.2988 - val_accuracy: 0.1095\n",
            "Epoch 7/50\n",
            "32/32 [==============================] - 7s 232ms/step - loss: 2.2796 - accuracy: 0.1462 - val_loss: 2.2909 - val_accuracy: 0.1325\n",
            "Epoch 8/50\n",
            "32/32 [==============================] - 7s 232ms/step - loss: 2.2655 - accuracy: 0.1594 - val_loss: 2.2820 - val_accuracy: 0.1375\n",
            "Epoch 9/50\n",
            "32/32 [==============================] - 7s 233ms/step - loss: 2.2456 - accuracy: 0.1761 - val_loss: 2.2772 - val_accuracy: 0.1505\n",
            "Epoch 10/50\n",
            "32/32 [==============================] - 7s 233ms/step - loss: 2.2198 - accuracy: 0.1991 - val_loss: 2.2763 - val_accuracy: 0.1425\n",
            "Epoch 11/50\n",
            "32/32 [==============================] - 7s 234ms/step - loss: 2.1795 - accuracy: 0.2179 - val_loss: 2.2625 - val_accuracy: 0.1650\n",
            "Epoch 12/50\n",
            "32/32 [==============================] - 7s 234ms/step - loss: 2.1323 - accuracy: 0.2482 - val_loss: 2.2495 - val_accuracy: 0.1665\n",
            "Epoch 13/50\n",
            "32/32 [==============================] - 8s 235ms/step - loss: 2.0549 - accuracy: 0.2825 - val_loss: 2.2146 - val_accuracy: 0.1925\n",
            "Epoch 14/50\n",
            "32/32 [==============================] - 8s 235ms/step - loss: 1.9732 - accuracy: 0.3193 - val_loss: 2.1944 - val_accuracy: 0.2065\n",
            "Epoch 15/50\n",
            "32/32 [==============================] - 8s 236ms/step - loss: 1.8811 - accuracy: 0.3643 - val_loss: 2.1682 - val_accuracy: 0.2215\n",
            "Epoch 16/50\n",
            "32/32 [==============================] - 8s 236ms/step - loss: 1.7813 - accuracy: 0.3944 - val_loss: 2.1630 - val_accuracy: 0.2325\n",
            "Epoch 17/50\n",
            "32/32 [==============================] - 8s 236ms/step - loss: 1.6562 - accuracy: 0.4522 - val_loss: 2.1255 - val_accuracy: 0.2450\n",
            "Epoch 18/50\n",
            "32/32 [==============================] - 8s 236ms/step - loss: 1.5456 - accuracy: 0.4918 - val_loss: 2.1329 - val_accuracy: 0.2550\n",
            "Epoch 19/50\n",
            "32/32 [==============================] - 8s 235ms/step - loss: 1.4285 - accuracy: 0.5327 - val_loss: 2.1278 - val_accuracy: 0.2550\n",
            "Epoch 20/50\n",
            "32/32 [==============================] - 8s 236ms/step - loss: 1.3132 - accuracy: 0.5754 - val_loss: 2.1021 - val_accuracy: 0.2815\n",
            "Epoch 21/50\n",
            "32/32 [==============================] - 8s 236ms/step - loss: 1.1942 - accuracy: 0.6166 - val_loss: 2.0955 - val_accuracy: 0.2870\n",
            "Epoch 22/50\n",
            "32/32 [==============================] - 8s 236ms/step - loss: 1.0821 - accuracy: 0.6586 - val_loss: 2.0985 - val_accuracy: 0.3065\n",
            "Epoch 23/50\n",
            "32/32 [==============================] - 8s 235ms/step - loss: 0.9772 - accuracy: 0.6923 - val_loss: 2.1306 - val_accuracy: 0.2965\n",
            "Epoch 24/50\n",
            "32/32 [==============================] - 8s 236ms/step - loss: 0.8715 - accuracy: 0.7339 - val_loss: 2.1332 - val_accuracy: 0.3075\n",
            "Epoch 25/50\n",
            "32/32 [==============================] - 8s 236ms/step - loss: 0.7867 - accuracy: 0.7587 - val_loss: 2.1591 - val_accuracy: 0.3025\n",
            "Epoch 26/50\n",
            "32/32 [==============================] - 8s 236ms/step - loss: 0.7170 - accuracy: 0.7824 - val_loss: 2.1947 - val_accuracy: 0.3125\n",
            "Epoch 27/50\n",
            "32/32 [==============================] - 8s 236ms/step - loss: 0.6353 - accuracy: 0.8109 - val_loss: 2.1880 - val_accuracy: 0.3210\n",
            "Epoch 28/50\n",
            "32/32 [==============================] - 8s 235ms/step - loss: 0.5618 - accuracy: 0.8334 - val_loss: 2.2481 - val_accuracy: 0.3300\n",
            "Epoch 29/50\n",
            "32/32 [==============================] - 8s 236ms/step - loss: 0.5071 - accuracy: 0.8542 - val_loss: 2.2433 - val_accuracy: 0.3240\n",
            "Epoch 30/50\n",
            "32/32 [==============================] - 8s 236ms/step - loss: 0.4374 - accuracy: 0.8794 - val_loss: 2.2593 - val_accuracy: 0.3385\n",
            "Epoch 31/50\n",
            "32/32 [==============================] - 8s 237ms/step - loss: 0.3862 - accuracy: 0.8936 - val_loss: 2.2762 - val_accuracy: 0.3325\n",
            "Epoch 32/50\n",
            "32/32 [==============================] - 8s 236ms/step - loss: 0.3443 - accuracy: 0.9060 - val_loss: 2.3135 - val_accuracy: 0.3410\n",
            "Epoch 33/50\n",
            "32/32 [==============================] - 8s 236ms/step - loss: 0.3116 - accuracy: 0.9187 - val_loss: 2.3654 - val_accuracy: 0.3370\n",
            "Epoch 34/50\n",
            "32/32 [==============================] - 8s 236ms/step - loss: 0.2829 - accuracy: 0.9229 - val_loss: 2.3388 - val_accuracy: 0.3390\n",
            "Epoch 35/50\n",
            "32/32 [==============================] - 8s 237ms/step - loss: 0.2573 - accuracy: 0.9333 - val_loss: 2.4506 - val_accuracy: 0.3320\n",
            "Epoch 36/50\n",
            "32/32 [==============================] - 8s 237ms/step - loss: 0.2307 - accuracy: 0.9406 - val_loss: 2.4586 - val_accuracy: 0.3370\n",
            "Epoch 37/50\n",
            "32/32 [==============================] - 8s 236ms/step - loss: 0.2072 - accuracy: 0.9471 - val_loss: 2.4701 - val_accuracy: 0.3355\n",
            "Epoch 38/50\n",
            "32/32 [==============================] - 8s 236ms/step - loss: 0.1921 - accuracy: 0.9516 - val_loss: 2.4910 - val_accuracy: 0.3465\n",
            "Epoch 39/50\n",
            "32/32 [==============================] - 8s 236ms/step - loss: 0.1825 - accuracy: 0.9546 - val_loss: 2.5235 - val_accuracy: 0.3415\n",
            "Epoch 40/50\n",
            "32/32 [==============================] - 8s 236ms/step - loss: 0.1645 - accuracy: 0.9601 - val_loss: 2.5349 - val_accuracy: 0.3530\n",
            "Epoch 41/50\n",
            "32/32 [==============================] - 8s 237ms/step - loss: 0.1513 - accuracy: 0.9624 - val_loss: 2.6012 - val_accuracy: 0.3430\n"
          ],
          "name": "stdout"
        }
      ]
    },
    {
      "cell_type": "code",
      "metadata": {
        "id": "PNoVYVMms4PB",
        "colab_type": "code",
        "outputId": "96820cc6-a827-4dbc-be6a-2613f93791c5",
        "colab": {
          "base_uri": "https://localhost:8080/",
          "height": 51
        }
      },
      "source": [
        "model.evaluate(x_test,y_test)"
      ],
      "execution_count": 18,
      "outputs": [
        {
          "output_type": "stream",
          "text": [
            "63/63 [==============================] - 1s 13ms/step - loss: 2.0423 - accuracy: 0.3010\n"
          ],
          "name": "stdout"
        },
        {
          "output_type": "execute_result",
          "data": {
            "text/plain": [
              "[2.0422871112823486, 0.3009999990463257]"
            ]
          },
          "metadata": {
            "tags": []
          },
          "execution_count": 18
        }
      ]
    },
    {
      "cell_type": "markdown",
      "metadata": {
        "id": "RZ1Seqta6ZtB",
        "colab_type": "text"
      },
      "source": [
        "##2. 1km Input Amplitude##"
      ]
    },
    {
      "cell_type": "code",
      "metadata": {
        "colab_type": "code",
        "id": "pQE65AuNPaHe",
        "colab": {}
      },
      "source": [
        "#Loading speckles from dataset\n",
        "f = h5py.File('/content/drive/My Drive/fiber data Crete/1km/Input Amplitude/processed/32_down_input_data.h5', 'r')\n"
      ],
      "execution_count": 0,
      "outputs": []
    },
    {
      "cell_type": "code",
      "metadata": {
        "colab_type": "code",
        "outputId": "b1198238-5465-4b4f-8455-a440c12a30d4",
        "id": "mttvT3ECPaHp",
        "colab": {
          "base_uri": "https://localhost:8080/",
          "height": 34
        }
      },
      "source": [
        "f.keys()"
      ],
      "execution_count": 20,
      "outputs": [
        {
          "output_type": "execute_result",
          "data": {
            "text/plain": [
              "<KeysViewHDF5 ['input_data']>"
            ]
          },
          "metadata": {
            "tags": []
          },
          "execution_count": 20
        }
      ]
    },
    {
      "cell_type": "code",
      "metadata": {
        "colab_type": "code",
        "id": "065X4sUWPaHr",
        "colab": {}
      },
      "source": [
        "x=f['input_data']"
      ],
      "execution_count": 0,
      "outputs": []
    },
    {
      "cell_type": "code",
      "metadata": {
        "colab_type": "code",
        "outputId": "9736a364-53e9-4953-e9ea-720dcd2e9134",
        "id": "qfC2GZK1PaHu",
        "colab": {
          "base_uri": "https://localhost:8080/",
          "height": 34
        }
      },
      "source": [
        "x.shape"
      ],
      "execution_count": 22,
      "outputs": [
        {
          "output_type": "execute_result",
          "data": {
            "text/plain": [
              "(20000, 32, 32, 1)"
            ]
          },
          "metadata": {
            "tags": []
          },
          "execution_count": 22
        }
      ]
    },
    {
      "cell_type": "code",
      "metadata": {
        "colab_type": "code",
        "outputId": "90fa7d27-1faa-4e6f-b42a-5620c6b72f45",
        "id": "HqIBOe46PaHy",
        "colab": {
          "base_uri": "https://localhost:8080/",
          "height": 283
        }
      },
      "source": [
        "plt.imshow(x[1,:,:,0],cmap='gray')"
      ],
      "execution_count": 23,
      "outputs": [
        {
          "output_type": "execute_result",
          "data": {
            "text/plain": [
              "<matplotlib.image.AxesImage at 0x7fe037a39358>"
            ]
          },
          "metadata": {
            "tags": []
          },
          "execution_count": 23
        },
        {
          "output_type": "display_data",
          "data": {
            "image/png": "[encoded data removed]",
            "text/plain": [
              "<Figure size 432x288 with 1 Axes>"
            ]
          },
          "metadata": {
            "tags": [],
            "needs_background": "light"
          }
        }
      ]
    },
    {
      "cell_type": "code",
      "metadata": {
        "colab_type": "code",
        "id": "UoM-k6enPaH0",
        "colab": {}
      },
      "source": [
        "#Loading labels from dataset\n",
        "g = h5py.File('/content/drive/My Drive/fiber data Crete/1km/Input Amplitude/processed/32_down_output_class_onehot.h5', 'r')"
      ],
      "execution_count": 0,
      "outputs": []
    },
    {
      "cell_type": "code",
      "metadata": {
        "colab_type": "code",
        "outputId": "b3e8d917-1a66-4249-928f-f0636d0dad11",
        "id": "aas6wxyZPaH2",
        "colab": {
          "base_uri": "https://localhost:8080/",
          "height": 34
        }
      },
      "source": [
        "list(g.keys())"
      ],
      "execution_count": 25,
      "outputs": [
        {
          "output_type": "execute_result",
          "data": {
            "text/plain": [
              "['output_class_onehot']"
            ]
          },
          "metadata": {
            "tags": []
          },
          "execution_count": 25
        }
      ]
    },
    {
      "cell_type": "code",
      "metadata": {
        "colab_type": "code",
        "id": "BdWQp0E1PaH5",
        "colab": {}
      },
      "source": [
        "y=g['output_class_onehot']"
      ],
      "execution_count": 0,
      "outputs": []
    },
    {
      "cell_type": "code",
      "metadata": {
        "colab_type": "code",
        "outputId": "b2ccee98-823d-43b1-a266-e092442c6762",
        "id": "Hx4-4I8dPaH7",
        "colab": {
          "base_uri": "https://localhost:8080/",
          "height": 34
        }
      },
      "source": [
        "y.shape"
      ],
      "execution_count": 27,
      "outputs": [
        {
          "output_type": "execute_result",
          "data": {
            "text/plain": [
              "(20000, 10)"
            ]
          },
          "metadata": {
            "tags": []
          },
          "execution_count": 27
        }
      ]
    },
    {
      "cell_type": "code",
      "metadata": {
        "colab_type": "code",
        "id": "IzqpAGSZPaH9",
        "colab": {}
      },
      "source": [
        "#Converting data to numpy arrays\n",
        "x_full=np.array(x)\n",
        "y_full=np.array(y)\n",
        "#Splitting to train and test sets\n",
        "x_train, x_test, y_train, y_test = train_test_split(x_full, y_full, test_size = 0.2, random_state = 42)"
      ],
      "execution_count": 0,
      "outputs": []
    },
    {
      "cell_type": "code",
      "metadata": {
        "colab_type": "code",
        "outputId": "dfe635c0-cd28-4011-a7b8-d7da0c22da18",
        "id": "U-PenmDhPaH_",
        "colab": {
          "base_uri": "https://localhost:8080/",
          "height": 34
        }
      },
      "source": [
        "y_test.shape"
      ],
      "execution_count": 29,
      "outputs": [
        {
          "output_type": "execute_result",
          "data": {
            "text/plain": [
              "(4000, 10)"
            ]
          },
          "metadata": {
            "tags": []
          },
          "execution_count": 29
        }
      ]
    },
    {
      "cell_type": "code",
      "metadata": {
        "colab_type": "code",
        "id": "1VLFhPqPPaIC",
        "colab": {}
      },
      "source": [
        "#Splitting test set to test and validation\n",
        "x_test, x_valid, y_test, y_valid = train_test_split(x_test, y_test, test_size = 0.5, random_state = 42)"
      ],
      "execution_count": 0,
      "outputs": []
    },
    {
      "cell_type": "code",
      "metadata": {
        "colab_type": "code",
        "outputId": "456da151-57f1-46b1-bdac-49788cab11f1",
        "id": "9UsSFuJPPaIE",
        "colab": {
          "base_uri": "https://localhost:8080/",
          "height": 119
        }
      },
      "source": [
        "print(x_train.shape)\n",
        "print(x_test.shape)\n",
        "print(x_valid.shape)\n",
        "print(y_train.shape)\n",
        "print(y_test.shape)\n",
        "print(y_valid.shape)"
      ],
      "execution_count": 31,
      "outputs": [
        {
          "output_type": "stream",
          "text": [
            "(16000, 32, 32, 1)\n",
            "(2000, 32, 32, 1)\n",
            "(2000, 32, 32, 1)\n",
            "(16000, 10)\n",
            "(2000, 10)\n",
            "(2000, 10)\n"
          ],
          "name": "stdout"
        }
      ]
    },
    {
      "cell_type": "code",
      "metadata": {
        "colab_type": "code",
        "outputId": "2329020e-69b8-4d49-ac12-c2e0ac80bc8b",
        "id": "cfQZ1pawPaIK",
        "colab": {
          "base_uri": "https://localhost:8080/",
          "height": 1000
        }
      },
      "source": [
        "#Classification network\n",
        "from tensorflow.keras.models import Sequential\n",
        "from tensorflow.keras.layers import Conv2D, MaxPool2D, Flatten, Dense, Dropout\n",
        "from tensorflow.keras.optimizers import SGD, Adam\n",
        "tf.keras.backend.clear_session\n",
        "\n",
        "\n",
        "model = Sequential()\n",
        "model.add(Conv2D(input_shape=(32,32,1),padding=\"same\",filters=32,kernel_size=(3,3), activation=\"relu\"))\n",
        "model.add(Conv2D(kernel_size=(3,3),padding=\"same\",filters=32, activation=\"relu\"))\n",
        "\n",
        "\n",
        "model.add(Conv2D(kernel_size=(3,3),padding=\"same\",filters=64, activation=\"relu\"))\n",
        "model.add(Conv2D(kernel_size=(3,3),padding=\"same\",filters=64, activation=\"relu\"))\n",
        "model.add(MaxPool2D(pool_size=(2,2),padding = 'same',strides=(2,2)))\n",
        "\n",
        "model.add(Conv2D(kernel_size=(3,3),padding=\"same\",filters=128, activation=\"relu\"))\n",
        "model.add(Conv2D(kernel_size=(3,3),padding=\"same\",filters=128, activation=\"relu\"))\n",
        "model.add(MaxPool2D(pool_size=(2,2),padding = 'same',strides=(2,2)))\n",
        "\n",
        "model.add(Conv2D(kernel_size=(3,3),padding=\"same\",filters=256, activation=\"relu\"))\n",
        "model.add(Conv2D(kernel_size=(3,3),padding=\"same\",filters=256, activation=\"relu\"))\n",
        "model.add(MaxPool2D(pool_size=(2,2),padding = 'same',strides=(2,2)))\n",
        "\n",
        "\n",
        "model.add(Flatten())\n",
        "\n",
        "model.add(Dropout(0.40)) \n",
        "model.add(Dense(256,activation='relu'))\n",
        "\n",
        "model.add(Dense(10, activation = 'softmax'))\n",
        "\n",
        "model.summary()\n",
        "\n",
        "from tensorflow.keras.callbacks import EarlyStopping\n",
        "early_stopping = EarlyStopping(patience = 20, restore_best_weights = True)\n",
        "\n",
        "model.compile(loss = \"categorical_crossentropy\", optimizer = Adam(lr=0.0001), metrics = [\"accuracy\"])\n",
        "\n",
        "history = model.fit(x_train, y_train,\n",
        "                  validation_data = (x_valid, y_valid),\n",
        "                  epochs = 50, batch_size = 500, callbacks = [early_stopping])"
      ],
      "execution_count": 32,
      "outputs": [
        {
          "output_type": "stream",
          "text": [
            "Model: \"sequential_1\"\n",
            "_________________________________________________________________\n",
            "Layer (type)                 Output Shape              Param #   \n",
            "=================================================================\n",
            "conv2d_8 (Conv2D)            (None, 32, 32, 32)        320       \n",
            "_________________________________________________________________\n",
            "conv2d_9 (Conv2D)            (None, 32, 32, 32)        9248      \n",
            "_________________________________________________________________\n",
            "conv2d_10 (Conv2D)           (None, 32, 32, 64)        18496     \n",
            "_________________________________________________________________\n",
            "conv2d_11 (Conv2D)           (None, 32, 32, 64)        36928     \n",
            "_________________________________________________________________\n",
            "max_pooling2d_3 (MaxPooling2 (None, 16, 16, 64)        0         \n",
            "_________________________________________________________________\n",
            "conv2d_12 (Conv2D)           (None, 16, 16, 128)       73856     \n",
            "_________________________________________________________________\n",
            "conv2d_13 (Conv2D)           (None, 16, 16, 128)       147584    \n",
            "_________________________________________________________________\n",
            "max_pooling2d_4 (MaxPooling2 (None, 8, 8, 128)         0         \n",
            "_________________________________________________________________\n",
            "conv2d_14 (Conv2D)           (None, 8, 8, 256)         295168    \n",
            "_________________________________________________________________\n",
            "conv2d_15 (Conv2D)           (None, 8, 8, 256)         590080    \n",
            "_________________________________________________________________\n",
            "max_pooling2d_5 (MaxPooling2 (None, 4, 4, 256)         0         \n",
            "_________________________________________________________________\n",
            "flatten_1 (Flatten)          (None, 4096)              0         \n",
            "_________________________________________________________________\n",
            "dropout_1 (Dropout)          (None, 4096)              0         \n",
            "_________________________________________________________________\n",
            "dense_2 (Dense)              (None, 256)               1048832   \n",
            "_________________________________________________________________\n",
            "dense_3 (Dense)              (None, 10)                2570      \n",
            "=================================================================\n",
            "Total params: 2,223,082\n",
            "Trainable params: 2,223,082\n",
            "Non-trainable params: 0\n",
            "_________________________________________________________________\n",
            "Epoch 1/50\n",
            "32/32 [==============================] - 8s 243ms/step - loss: 2.3326 - accuracy: 0.1130 - val_loss: 2.2965 - val_accuracy: 0.1200\n",
            "Epoch 2/50\n",
            "32/32 [==============================] - 8s 236ms/step - loss: 2.2964 - accuracy: 0.1168 - val_loss: 2.2975 - val_accuracy: 0.1155\n",
            "Epoch 3/50\n",
            "32/32 [==============================] - 8s 240ms/step - loss: 2.2932 - accuracy: 0.1172 - val_loss: 2.2926 - val_accuracy: 0.1325\n",
            "Epoch 4/50\n",
            "32/32 [==============================] - 8s 235ms/step - loss: 2.2842 - accuracy: 0.1351 - val_loss: 2.2947 - val_accuracy: 0.1140\n",
            "Epoch 5/50\n",
            "32/32 [==============================] - 8s 237ms/step - loss: 2.2769 - accuracy: 0.1412 - val_loss: 2.2758 - val_accuracy: 0.1200\n",
            "Epoch 6/50\n",
            "32/32 [==============================] - 8s 236ms/step - loss: 2.2598 - accuracy: 0.1588 - val_loss: 2.2704 - val_accuracy: 0.1410\n",
            "Epoch 7/50\n",
            "32/32 [==============================] - 8s 236ms/step - loss: 2.2285 - accuracy: 0.1859 - val_loss: 2.2268 - val_accuracy: 0.1880\n",
            "Epoch 8/50\n",
            "32/32 [==============================] - 8s 237ms/step - loss: 2.1792 - accuracy: 0.2155 - val_loss: 2.2028 - val_accuracy: 0.2095\n",
            "Epoch 9/50\n",
            "32/32 [==============================] - 8s 237ms/step - loss: 2.1230 - accuracy: 0.2381 - val_loss: 2.1335 - val_accuracy: 0.2450\n",
            "Epoch 10/50\n",
            "32/32 [==============================] - 8s 236ms/step - loss: 2.0904 - accuracy: 0.2501 - val_loss: 2.1396 - val_accuracy: 0.2275\n",
            "Epoch 11/50\n",
            "32/32 [==============================] - 8s 236ms/step - loss: 2.0173 - accuracy: 0.2990 - val_loss: 2.0764 - val_accuracy: 0.2570\n",
            "Epoch 12/50\n",
            "32/32 [==============================] - 8s 237ms/step - loss: 1.9301 - accuracy: 0.3326 - val_loss: 1.9991 - val_accuracy: 0.2970\n",
            "Epoch 13/50\n",
            "32/32 [==============================] - 8s 237ms/step - loss: 1.8486 - accuracy: 0.3576 - val_loss: 1.9702 - val_accuracy: 0.3070\n",
            "Epoch 14/50\n",
            "32/32 [==============================] - 8s 237ms/step - loss: 1.7668 - accuracy: 0.3958 - val_loss: 1.8908 - val_accuracy: 0.3350\n",
            "Epoch 15/50\n",
            "32/32 [==============================] - 8s 237ms/step - loss: 1.6829 - accuracy: 0.4259 - val_loss: 1.8906 - val_accuracy: 0.3405\n",
            "Epoch 16/50\n",
            "32/32 [==============================] - 8s 237ms/step - loss: 1.6399 - accuracy: 0.4393 - val_loss: 1.8286 - val_accuracy: 0.3675\n",
            "Epoch 17/50\n",
            "32/32 [==============================] - 8s 236ms/step - loss: 1.5272 - accuracy: 0.4852 - val_loss: 1.8334 - val_accuracy: 0.3555\n",
            "Epoch 18/50\n",
            "32/32 [==============================] - 8s 237ms/step - loss: 1.4611 - accuracy: 0.5094 - val_loss: 1.7934 - val_accuracy: 0.3780\n",
            "Epoch 19/50\n",
            "32/32 [==============================] - 8s 237ms/step - loss: 1.3794 - accuracy: 0.5404 - val_loss: 1.7319 - val_accuracy: 0.4145\n",
            "Epoch 20/50\n",
            "32/32 [==============================] - 8s 236ms/step - loss: 1.2958 - accuracy: 0.5691 - val_loss: 1.7455 - val_accuracy: 0.4010\n",
            "Epoch 21/50\n",
            "32/32 [==============================] - 8s 237ms/step - loss: 1.2206 - accuracy: 0.5934 - val_loss: 1.7388 - val_accuracy: 0.3955\n",
            "Epoch 22/50\n",
            "32/32 [==============================] - 8s 236ms/step - loss: 1.1503 - accuracy: 0.6241 - val_loss: 1.6706 - val_accuracy: 0.4490\n",
            "Epoch 23/50\n",
            "32/32 [==============================] - 8s 237ms/step - loss: 1.0992 - accuracy: 0.6354 - val_loss: 1.6909 - val_accuracy: 0.4265\n",
            "Epoch 24/50\n",
            "32/32 [==============================] - 8s 236ms/step - loss: 1.0403 - accuracy: 0.6593 - val_loss: 1.7160 - val_accuracy: 0.4260\n",
            "Epoch 25/50\n",
            "32/32 [==============================] - 8s 237ms/step - loss: 0.9465 - accuracy: 0.6891 - val_loss: 1.6799 - val_accuracy: 0.4420\n",
            "Epoch 26/50\n",
            "32/32 [==============================] - 8s 237ms/step - loss: 0.8729 - accuracy: 0.7154 - val_loss: 1.6251 - val_accuracy: 0.4720\n",
            "Epoch 27/50\n",
            "32/32 [==============================] - 8s 236ms/step - loss: 0.8245 - accuracy: 0.7347 - val_loss: 1.6330 - val_accuracy: 0.4655\n",
            "Epoch 28/50\n",
            "32/32 [==============================] - 8s 236ms/step - loss: 0.7809 - accuracy: 0.7469 - val_loss: 1.6467 - val_accuracy: 0.4665\n",
            "Epoch 29/50\n",
            "32/32 [==============================] - 8s 236ms/step - loss: 0.7220 - accuracy: 0.7657 - val_loss: 1.6843 - val_accuracy: 0.4645\n",
            "Epoch 30/50\n",
            "32/32 [==============================] - 8s 237ms/step - loss: 0.6632 - accuracy: 0.7862 - val_loss: 1.6182 - val_accuracy: 0.4890\n",
            "Epoch 31/50\n",
            "32/32 [==============================] - 8s 236ms/step - loss: 0.6280 - accuracy: 0.7970 - val_loss: 1.6905 - val_accuracy: 0.4625\n",
            "Epoch 32/50\n",
            "32/32 [==============================] - 8s 236ms/step - loss: 0.5724 - accuracy: 0.8179 - val_loss: 1.6253 - val_accuracy: 0.5060\n",
            "Epoch 33/50\n",
            "32/32 [==============================] - 8s 236ms/step - loss: 0.5309 - accuracy: 0.8321 - val_loss: 1.6432 - val_accuracy: 0.4930\n",
            "Epoch 34/50\n",
            "32/32 [==============================] - 8s 236ms/step - loss: 0.4731 - accuracy: 0.8499 - val_loss: 1.7171 - val_accuracy: 0.4855\n",
            "Epoch 35/50\n",
            "32/32 [==============================] - 8s 236ms/step - loss: 0.4618 - accuracy: 0.8524 - val_loss: 1.6528 - val_accuracy: 0.4955\n",
            "Epoch 36/50\n",
            "32/32 [==============================] - 8s 236ms/step - loss: 0.4163 - accuracy: 0.8719 - val_loss: 1.6814 - val_accuracy: 0.5020\n",
            "Epoch 37/50\n",
            "32/32 [==============================] - 8s 236ms/step - loss: 0.3854 - accuracy: 0.8804 - val_loss: 1.6714 - val_accuracy: 0.5120\n",
            "Epoch 38/50\n",
            "32/32 [==============================] - 8s 236ms/step - loss: 0.3576 - accuracy: 0.8906 - val_loss: 1.6863 - val_accuracy: 0.5105\n",
            "Epoch 39/50\n",
            "32/32 [==============================] - 8s 236ms/step - loss: 0.3365 - accuracy: 0.8951 - val_loss: 1.7145 - val_accuracy: 0.5135\n",
            "Epoch 40/50\n",
            "32/32 [==============================] - 8s 236ms/step - loss: 0.3147 - accuracy: 0.9029 - val_loss: 1.6871 - val_accuracy: 0.5065\n",
            "Epoch 41/50\n",
            "32/32 [==============================] - 8s 236ms/step - loss: 0.2870 - accuracy: 0.9128 - val_loss: 1.7383 - val_accuracy: 0.5195\n",
            "Epoch 42/50\n",
            "32/32 [==============================] - 8s 236ms/step - loss: 0.2708 - accuracy: 0.9176 - val_loss: 1.7367 - val_accuracy: 0.5050\n",
            "Epoch 43/50\n",
            "32/32 [==============================] - 8s 236ms/step - loss: 0.2488 - accuracy: 0.9263 - val_loss: 1.7204 - val_accuracy: 0.5230\n",
            "Epoch 44/50\n",
            "32/32 [==============================] - 8s 236ms/step - loss: 0.2253 - accuracy: 0.9342 - val_loss: 1.7664 - val_accuracy: 0.5180\n",
            "Epoch 45/50\n",
            "32/32 [==============================] - 8s 236ms/step - loss: 0.2202 - accuracy: 0.9341 - val_loss: 1.7881 - val_accuracy: 0.5245\n",
            "Epoch 46/50\n",
            "32/32 [==============================] - 8s 236ms/step - loss: 0.2123 - accuracy: 0.9375 - val_loss: 1.9176 - val_accuracy: 0.4920\n",
            "Epoch 47/50\n",
            "32/32 [==============================] - 8s 236ms/step - loss: 0.1959 - accuracy: 0.9437 - val_loss: 1.8027 - val_accuracy: 0.5260\n",
            "Epoch 48/50\n",
            "32/32 [==============================] - 8s 236ms/step - loss: 0.1717 - accuracy: 0.9495 - val_loss: 1.8703 - val_accuracy: 0.5110\n",
            "Epoch 49/50\n",
            "32/32 [==============================] - 8s 236ms/step - loss: 0.1746 - accuracy: 0.9503 - val_loss: 1.8478 - val_accuracy: 0.5155\n",
            "Epoch 50/50\n",
            "32/32 [==============================] - 8s 236ms/step - loss: 0.1751 - accuracy: 0.9480 - val_loss: 1.8529 - val_accuracy: 0.5200\n"
          ],
          "name": "stdout"
        }
      ]
    },
    {
      "cell_type": "code",
      "metadata": {
        "colab_type": "code",
        "outputId": "7bd57fba-6481-4e55-e732-5e1ffbca6887",
        "id": "5BmG10UVPaIN",
        "colab": {
          "base_uri": "https://localhost:8080/",
          "height": 51
        }
      },
      "source": [
        "model.evaluate(x_test,y_test)"
      ],
      "execution_count": 33,
      "outputs": [
        {
          "output_type": "stream",
          "text": [
            "63/63 [==============================] - 1s 11ms/step - loss: 1.5826 - accuracy: 0.5020\n"
          ],
          "name": "stdout"
        },
        {
          "output_type": "execute_result",
          "data": {
            "text/plain": [
              "[1.5825806856155396, 0.5019999742507935]"
            ]
          },
          "metadata": {
            "tags": []
          },
          "execution_count": 33
        }
      ]
    },
    {
      "cell_type": "markdown",
      "metadata": {
        "id": "VQ_VaIet6uBP",
        "colab_type": "text"
      },
      "source": [
        "##3. 10cm Input Phase##"
      ]
    },
    {
      "cell_type": "code",
      "metadata": {
        "colab_type": "code",
        "id": "YcPdH5sjQaXB",
        "colab": {}
      },
      "source": [
        "#Loading speckles from dataset\n",
        "f = h5py.File('/content/drive/My Drive/fiber data Crete/10cm/Input_Phase/processed/32_down_input_processed_data.h5', 'r')\n"
      ],
      "execution_count": 0,
      "outputs": []
    },
    {
      "cell_type": "code",
      "metadata": {
        "colab_type": "code",
        "outputId": "abe5aa40-5d81-47f3-8730-bcae3381728e",
        "id": "uhoKDthqQaXE",
        "colab": {
          "base_uri": "https://localhost:8080/",
          "height": 34
        }
      },
      "source": [
        "f.keys()"
      ],
      "execution_count": 35,
      "outputs": [
        {
          "output_type": "execute_result",
          "data": {
            "text/plain": [
              "<KeysViewHDF5 ['input_processed_data']>"
            ]
          },
          "metadata": {
            "tags": []
          },
          "execution_count": 35
        }
      ]
    },
    {
      "cell_type": "code",
      "metadata": {
        "colab_type": "code",
        "id": "W7UCXVlAQaXH",
        "colab": {}
      },
      "source": [
        "x=f['input_processed_data']"
      ],
      "execution_count": 0,
      "outputs": []
    },
    {
      "cell_type": "code",
      "metadata": {
        "colab_type": "code",
        "outputId": "1a49f379-5079-443a-ce2d-8707c7609810",
        "id": "Fyxd64EHQaXJ",
        "colab": {
          "base_uri": "https://localhost:8080/",
          "height": 34
        }
      },
      "source": [
        "x.shape"
      ],
      "execution_count": 37,
      "outputs": [
        {
          "output_type": "execute_result",
          "data": {
            "text/plain": [
              "(20000, 32, 32, 1)"
            ]
          },
          "metadata": {
            "tags": []
          },
          "execution_count": 37
        }
      ]
    },
    {
      "cell_type": "code",
      "metadata": {
        "colab_type": "code",
        "outputId": "b546ca90-f46d-4b9b-a6ef-9d38241dfcf6",
        "id": "_JfKjT0_QaXP",
        "colab": {
          "base_uri": "https://localhost:8080/",
          "height": 283
        }
      },
      "source": [
        "plt.imshow(x[1,:,:,0],cmap='gray')"
      ],
      "execution_count": 38,
      "outputs": [
        {
          "output_type": "execute_result",
          "data": {
            "text/plain": [
              "<matplotlib.image.AxesImage at 0x7fe0387d42e8>"
            ]
          },
          "metadata": {
            "tags": []
          },
          "execution_count": 38
        },
        {
          "output_type": "display_data",
          "data": {
            "image/png": "[encoded data removed]",
            "text/plain": [
              "<Figure size 432x288 with 1 Axes>"
            ]
          },
          "metadata": {
            "tags": [],
            "needs_background": "light"
          }
        }
      ]
    },
    {
      "cell_type": "code",
      "metadata": {
        "colab_type": "code",
        "id": "-dkoTKE8QaXR",
        "colab": {}
      },
      "source": [
        "#Loading labels from dataset\n",
        "g = h5py.File('/content/drive/My Drive/fiber data Crete/10cm/Input_Phase/processed/32_down_output_class_onehot.h5', 'r')"
      ],
      "execution_count": 0,
      "outputs": []
    },
    {
      "cell_type": "code",
      "metadata": {
        "colab_type": "code",
        "outputId": "98ac939f-77b0-4748-fbc0-8dea3057167a",
        "id": "tk3l9alXQaXT",
        "colab": {
          "base_uri": "https://localhost:8080/",
          "height": 34
        }
      },
      "source": [
        "list(g.keys())"
      ],
      "execution_count": 40,
      "outputs": [
        {
          "output_type": "execute_result",
          "data": {
            "text/plain": [
              "['output_class_onehot']"
            ]
          },
          "metadata": {
            "tags": []
          },
          "execution_count": 40
        }
      ]
    },
    {
      "cell_type": "code",
      "metadata": {
        "colab_type": "code",
        "id": "JjzkFOpAQaXW",
        "colab": {}
      },
      "source": [
        "y=g['output_class_onehot']"
      ],
      "execution_count": 0,
      "outputs": []
    },
    {
      "cell_type": "code",
      "metadata": {
        "colab_type": "code",
        "outputId": "242f0f28-42b9-4a92-ad03-5986ed34026b",
        "id": "aqnzO3n3QaXZ",
        "colab": {
          "base_uri": "https://localhost:8080/",
          "height": 34
        }
      },
      "source": [
        "y.shape"
      ],
      "execution_count": 42,
      "outputs": [
        {
          "output_type": "execute_result",
          "data": {
            "text/plain": [
              "(20000, 10)"
            ]
          },
          "metadata": {
            "tags": []
          },
          "execution_count": 42
        }
      ]
    },
    {
      "cell_type": "code",
      "metadata": {
        "colab_type": "code",
        "id": "KMq40ojRQaXd",
        "colab": {}
      },
      "source": [
        "#Converting data to numpy arrays\n",
        "x_full=np.array(x)\n",
        "y_full=np.array(y)\n",
        "#Splitting to train and test set\n",
        "x_train, x_test, y_train, y_test = train_test_split(x_full, y_full, test_size = 0.2, random_state = 42)"
      ],
      "execution_count": 0,
      "outputs": []
    },
    {
      "cell_type": "code",
      "metadata": {
        "colab_type": "code",
        "outputId": "a47a8f38-b0dd-431d-abdb-acd69d20e1d1",
        "id": "hpWIwR1mQaXf",
        "colab": {
          "base_uri": "https://localhost:8080/",
          "height": 34
        }
      },
      "source": [
        "y_test.shape"
      ],
      "execution_count": 44,
      "outputs": [
        {
          "output_type": "execute_result",
          "data": {
            "text/plain": [
              "(4000, 10)"
            ]
          },
          "metadata": {
            "tags": []
          },
          "execution_count": 44
        }
      ]
    },
    {
      "cell_type": "code",
      "metadata": {
        "colab_type": "code",
        "id": "0EXBde-BQaXh",
        "colab": {}
      },
      "source": [
        "#Splitting test set to test and validation\n",
        "x_test, x_valid, y_test, y_valid = train_test_split(x_test, y_test, test_size = 0.5, random_state = 42)"
      ],
      "execution_count": 0,
      "outputs": []
    },
    {
      "cell_type": "code",
      "metadata": {
        "colab_type": "code",
        "outputId": "5741151b-16ed-4aba-c1ea-68cf11852032",
        "id": "-kcL6ZfzQaXj",
        "colab": {
          "base_uri": "https://localhost:8080/",
          "height": 119
        }
      },
      "source": [
        "print(x_train.shape)\n",
        "print(x_test.shape)\n",
        "print(x_valid.shape)\n",
        "print(y_train.shape)\n",
        "print(y_test.shape)\n",
        "print(y_valid.shape)"
      ],
      "execution_count": 46,
      "outputs": [
        {
          "output_type": "stream",
          "text": [
            "(16000, 32, 32, 1)\n",
            "(2000, 32, 32, 1)\n",
            "(2000, 32, 32, 1)\n",
            "(16000, 10)\n",
            "(2000, 10)\n",
            "(2000, 10)\n"
          ],
          "name": "stdout"
        }
      ]
    },
    {
      "cell_type": "code",
      "metadata": {
        "colab_type": "code",
        "outputId": "fe17f40f-567a-4d6c-94aa-601ad31b63d3",
        "id": "3Y_QyhXWQaXs",
        "colab": {
          "base_uri": "https://localhost:8080/",
          "height": 1000
        }
      },
      "source": [
        "#Classification network\n",
        "from tensorflow.keras.models import Sequential\n",
        "from tensorflow.keras.layers import Conv2D, MaxPool2D, Flatten, Dense, Dropout\n",
        "from tensorflow.keras.optimizers import SGD, Adam\n",
        "tf.keras.backend.clear_session\n",
        "\n",
        "\n",
        "model = Sequential()\n",
        "model.add(Conv2D(input_shape=(32,32,1),padding=\"same\",filters=32,kernel_size=(3,3), activation=\"relu\"))\n",
        "model.add(Conv2D(kernel_size=(3,3),padding=\"same\",filters=32, activation=\"relu\"))\n",
        "\n",
        "\n",
        "model.add(Conv2D(kernel_size=(3,3),padding=\"same\",filters=64, activation=\"relu\"))\n",
        "model.add(Conv2D(kernel_size=(3,3),padding=\"same\",filters=64, activation=\"relu\"))\n",
        "model.add(MaxPool2D(pool_size=(2,2),padding = 'same',strides=(2,2)))\n",
        "\n",
        "model.add(Conv2D(kernel_size=(3,3),padding=\"same\",filters=128, activation=\"relu\"))\n",
        "model.add(Conv2D(kernel_size=(3,3),padding=\"same\",filters=128, activation=\"relu\"))\n",
        "model.add(MaxPool2D(pool_size=(2,2),padding = 'same',strides=(2,2)))\n",
        "\n",
        "model.add(Conv2D(kernel_size=(3,3),padding=\"same\",filters=256, activation=\"relu\"))\n",
        "model.add(Conv2D(kernel_size=(3,3),padding=\"same\",filters=256, activation=\"relu\"))\n",
        "model.add(MaxPool2D(pool_size=(2,2),padding = 'same',strides=(2,2)))\n",
        "\n",
        "\n",
        "model.add(Flatten())\n",
        "\n",
        "model.add(Dropout(0.40)) \n",
        "model.add(Dense(256,activation='relu'))\n",
        "\n",
        "model.add(Dense(10, activation = 'softmax'))\n",
        "\n",
        "model.summary()\n",
        "\n",
        "from tensorflow.keras.callbacks import EarlyStopping\n",
        "early_stopping = EarlyStopping(patience = 20, restore_best_weights = True)\n",
        "\n",
        "model.compile(loss = \"categorical_crossentropy\", optimizer = Adam(lr=0.0001), metrics = [\"accuracy\"])\n",
        "\n",
        "history = model.fit(x_train, y_train,\n",
        "                  validation_data = (x_valid, y_valid),\n",
        "                  epochs = 50, batch_size = 500, callbacks = [early_stopping])"
      ],
      "execution_count": 47,
      "outputs": [
        {
          "output_type": "stream",
          "text": [
            "Model: \"sequential_2\"\n",
            "_________________________________________________________________\n",
            "Layer (type)                 Output Shape              Param #   \n",
            "=================================================================\n",
            "conv2d_16 (Conv2D)           (None, 32, 32, 32)        320       \n",
            "_________________________________________________________________\n",
            "conv2d_17 (Conv2D)           (None, 32, 32, 32)        9248      \n",
            "_________________________________________________________________\n",
            "conv2d_18 (Conv2D)           (None, 32, 32, 64)        18496     \n",
            "_________________________________________________________________\n",
            "conv2d_19 (Conv2D)           (None, 32, 32, 64)        36928     \n",
            "_________________________________________________________________\n",
            "max_pooling2d_6 (MaxPooling2 (None, 16, 16, 64)        0         \n",
            "_________________________________________________________________\n",
            "conv2d_20 (Conv2D)           (None, 16, 16, 128)       73856     \n",
            "_________________________________________________________________\n",
            "conv2d_21 (Conv2D)           (None, 16, 16, 128)       147584    \n",
            "_________________________________________________________________\n",
            "max_pooling2d_7 (MaxPooling2 (None, 8, 8, 128)         0         \n",
            "_________________________________________________________________\n",
            "conv2d_22 (Conv2D)           (None, 8, 8, 256)         295168    \n",
            "_________________________________________________________________\n",
            "conv2d_23 (Conv2D)           (None, 8, 8, 256)         590080    \n",
            "_________________________________________________________________\n",
            "max_pooling2d_8 (MaxPooling2 (None, 4, 4, 256)         0         \n",
            "_________________________________________________________________\n",
            "flatten_2 (Flatten)          (None, 4096)              0         \n",
            "_________________________________________________________________\n",
            "dropout_2 (Dropout)          (None, 4096)              0         \n",
            "_________________________________________________________________\n",
            "dense_4 (Dense)              (None, 256)               1048832   \n",
            "_________________________________________________________________\n",
            "dense_5 (Dense)              (None, 10)                2570      \n",
            "=================================================================\n",
            "Total params: 2,223,082\n",
            "Trainable params: 2,223,082\n",
            "Non-trainable params: 0\n",
            "_________________________________________________________________\n",
            "Epoch 1/50\n",
            "32/32 [==============================] - 8s 241ms/step - loss: 2.4632 - accuracy: 0.1236 - val_loss: 2.2656 - val_accuracy: 0.2100\n",
            "Epoch 2/50\n",
            "32/32 [==============================] - 8s 235ms/step - loss: 2.2249 - accuracy: 0.2104 - val_loss: 2.1242 - val_accuracy: 0.3480\n",
            "Epoch 3/50\n",
            "32/32 [==============================] - 8s 235ms/step - loss: 1.9502 - accuracy: 0.3599 - val_loss: 1.6391 - val_accuracy: 0.4975\n",
            "Epoch 4/50\n",
            "32/32 [==============================] - 8s 236ms/step - loss: 1.4426 - accuracy: 0.5178 - val_loss: 1.1077 - val_accuracy: 0.6635\n",
            "Epoch 5/50\n",
            "32/32 [==============================] - 8s 236ms/step - loss: 1.0789 - accuracy: 0.6432 - val_loss: 0.8472 - val_accuracy: 0.7330\n",
            "Epoch 6/50\n",
            "32/32 [==============================] - 8s 236ms/step - loss: 0.8736 - accuracy: 0.7152 - val_loss: 0.7249 - val_accuracy: 0.7890\n",
            "Epoch 7/50\n",
            "32/32 [==============================] - 8s 236ms/step - loss: 0.7570 - accuracy: 0.7559 - val_loss: 0.6280 - val_accuracy: 0.8175\n",
            "Epoch 8/50\n",
            "32/32 [==============================] - 8s 236ms/step - loss: 0.6648 - accuracy: 0.7881 - val_loss: 0.5861 - val_accuracy: 0.8240\n",
            "Epoch 9/50\n",
            "32/32 [==============================] - 8s 237ms/step - loss: 0.6100 - accuracy: 0.8049 - val_loss: 0.5235 - val_accuracy: 0.8495\n",
            "Epoch 10/50\n",
            "32/32 [==============================] - 8s 237ms/step - loss: 0.5325 - accuracy: 0.8331 - val_loss: 0.4925 - val_accuracy: 0.8540\n",
            "Epoch 11/50\n",
            "32/32 [==============================] - 8s 236ms/step - loss: 0.4944 - accuracy: 0.8436 - val_loss: 0.4702 - val_accuracy: 0.8565\n",
            "Epoch 12/50\n",
            "32/32 [==============================] - 8s 237ms/step - loss: 0.4594 - accuracy: 0.8529 - val_loss: 0.4384 - val_accuracy: 0.8715\n",
            "Epoch 13/50\n",
            "32/32 [==============================] - 8s 236ms/step - loss: 0.4189 - accuracy: 0.8707 - val_loss: 0.4272 - val_accuracy: 0.8725\n",
            "Epoch 14/50\n",
            "32/32 [==============================] - 8s 237ms/step - loss: 0.3874 - accuracy: 0.8814 - val_loss: 0.4176 - val_accuracy: 0.8715\n",
            "Epoch 15/50\n",
            "32/32 [==============================] - 8s 237ms/step - loss: 0.3671 - accuracy: 0.8874 - val_loss: 0.4112 - val_accuracy: 0.8735\n",
            "Epoch 16/50\n",
            "32/32 [==============================] - 8s 237ms/step - loss: 0.3335 - accuracy: 0.8963 - val_loss: 0.3828 - val_accuracy: 0.8925\n",
            "Epoch 17/50\n",
            "32/32 [==============================] - 8s 236ms/step - loss: 0.3249 - accuracy: 0.8989 - val_loss: 0.3686 - val_accuracy: 0.8855\n",
            "Epoch 18/50\n",
            "32/32 [==============================] - 8s 236ms/step - loss: 0.3053 - accuracy: 0.9054 - val_loss: 0.3789 - val_accuracy: 0.8820\n",
            "Epoch 19/50\n",
            "32/32 [==============================] - 8s 236ms/step - loss: 0.2810 - accuracy: 0.9126 - val_loss: 0.3831 - val_accuracy: 0.8830\n",
            "Epoch 20/50\n",
            "32/32 [==============================] - 8s 236ms/step - loss: 0.2602 - accuracy: 0.9193 - val_loss: 0.3416 - val_accuracy: 0.8985\n",
            "Epoch 21/50\n",
            "32/32 [==============================] - 8s 236ms/step - loss: 0.2458 - accuracy: 0.9235 - val_loss: 0.3488 - val_accuracy: 0.8930\n",
            "Epoch 22/50\n",
            "32/32 [==============================] - 8s 236ms/step - loss: 0.2320 - accuracy: 0.9277 - val_loss: 0.3495 - val_accuracy: 0.9010\n",
            "Epoch 23/50\n",
            "32/32 [==============================] - 8s 237ms/step - loss: 0.2155 - accuracy: 0.9334 - val_loss: 0.3363 - val_accuracy: 0.9025\n",
            "Epoch 24/50\n",
            "32/32 [==============================] - 8s 236ms/step - loss: 0.1999 - accuracy: 0.9383 - val_loss: 0.3748 - val_accuracy: 0.8865\n",
            "Epoch 25/50\n",
            "32/32 [==============================] - 8s 236ms/step - loss: 0.1827 - accuracy: 0.9441 - val_loss: 0.3377 - val_accuracy: 0.9030\n",
            "Epoch 26/50\n",
            "32/32 [==============================] - 8s 236ms/step - loss: 0.1714 - accuracy: 0.9474 - val_loss: 0.3398 - val_accuracy: 0.9010\n",
            "Epoch 27/50\n",
            "32/32 [==============================] - 8s 237ms/step - loss: 0.1570 - accuracy: 0.9514 - val_loss: 0.3166 - val_accuracy: 0.9060\n",
            "Epoch 28/50\n",
            "32/32 [==============================] - 8s 236ms/step - loss: 0.1422 - accuracy: 0.9560 - val_loss: 0.3298 - val_accuracy: 0.9045\n",
            "Epoch 29/50\n",
            "32/32 [==============================] - 8s 236ms/step - loss: 0.1402 - accuracy: 0.9581 - val_loss: 0.3301 - val_accuracy: 0.9085\n",
            "Epoch 30/50\n",
            "32/32 [==============================] - 8s 235ms/step - loss: 0.1276 - accuracy: 0.9597 - val_loss: 0.3258 - val_accuracy: 0.9040\n",
            "Epoch 31/50\n",
            "32/32 [==============================] - 8s 236ms/step - loss: 0.1182 - accuracy: 0.9641 - val_loss: 0.3412 - val_accuracy: 0.9015\n",
            "Epoch 32/50\n",
            "32/32 [==============================] - 8s 236ms/step - loss: 0.1057 - accuracy: 0.9698 - val_loss: 0.3252 - val_accuracy: 0.9105\n",
            "Epoch 33/50\n",
            "32/32 [==============================] - 8s 236ms/step - loss: 0.0970 - accuracy: 0.9723 - val_loss: 0.3210 - val_accuracy: 0.9115\n",
            "Epoch 34/50\n",
            "32/32 [==============================] - 8s 236ms/step - loss: 0.0899 - accuracy: 0.9736 - val_loss: 0.3379 - val_accuracy: 0.9000\n",
            "Epoch 35/50\n",
            "32/32 [==============================] - 8s 236ms/step - loss: 0.0844 - accuracy: 0.9742 - val_loss: 0.3194 - val_accuracy: 0.9145\n",
            "Epoch 36/50\n",
            "32/32 [==============================] - 8s 236ms/step - loss: 0.0785 - accuracy: 0.9763 - val_loss: 0.3520 - val_accuracy: 0.9000\n",
            "Epoch 37/50\n",
            "32/32 [==============================] - 8s 236ms/step - loss: 0.0684 - accuracy: 0.9806 - val_loss: 0.3281 - val_accuracy: 0.9050\n",
            "Epoch 38/50\n",
            "32/32 [==============================] - 8s 236ms/step - loss: 0.0661 - accuracy: 0.9822 - val_loss: 0.3272 - val_accuracy: 0.9085\n",
            "Epoch 39/50\n",
            "32/32 [==============================] - 8s 237ms/step - loss: 0.0594 - accuracy: 0.9844 - val_loss: 0.3403 - val_accuracy: 0.9090\n",
            "Epoch 40/50\n",
            "32/32 [==============================] - 8s 236ms/step - loss: 0.0573 - accuracy: 0.9833 - val_loss: 0.3281 - val_accuracy: 0.9085\n",
            "Epoch 41/50\n",
            "32/32 [==============================] - 8s 236ms/step - loss: 0.0577 - accuracy: 0.9832 - val_loss: 0.3296 - val_accuracy: 0.9095\n",
            "Epoch 42/50\n",
            "32/32 [==============================] - 8s 236ms/step - loss: 0.0506 - accuracy: 0.9859 - val_loss: 0.3822 - val_accuracy: 0.9015\n",
            "Epoch 43/50\n",
            "32/32 [==============================] - 8s 236ms/step - loss: 0.0488 - accuracy: 0.9871 - val_loss: 0.3367 - val_accuracy: 0.9090\n",
            "Epoch 44/50\n",
            "32/32 [==============================] - 8s 236ms/step - loss: 0.0425 - accuracy: 0.9891 - val_loss: 0.3435 - val_accuracy: 0.9080\n",
            "Epoch 45/50\n",
            "32/32 [==============================] - 8s 236ms/step - loss: 0.0401 - accuracy: 0.9902 - val_loss: 0.3683 - val_accuracy: 0.9080\n",
            "Epoch 46/50\n",
            "32/32 [==============================] - 8s 236ms/step - loss: 0.0391 - accuracy: 0.9897 - val_loss: 0.3365 - val_accuracy: 0.9155\n",
            "Epoch 47/50\n",
            "32/32 [==============================] - 8s 236ms/step - loss: 0.0360 - accuracy: 0.9911 - val_loss: 0.3609 - val_accuracy: 0.9105\n"
          ],
          "name": "stdout"
        }
      ]
    },
    {
      "cell_type": "code",
      "metadata": {
        "colab_type": "code",
        "outputId": "9b71e202-2e7b-4b65-980e-150d063e877a",
        "id": "0nHPTgJ-QaXv",
        "colab": {
          "base_uri": "https://localhost:8080/",
          "height": 51
        }
      },
      "source": [
        "model.evaluate(x_test,y_test)"
      ],
      "execution_count": 48,
      "outputs": [
        {
          "output_type": "stream",
          "text": [
            "63/63 [==============================] - 1s 10ms/step - loss: 0.3178 - accuracy: 0.9060\n"
          ],
          "name": "stdout"
        },
        {
          "output_type": "execute_result",
          "data": {
            "text/plain": [
              "[0.31776589155197144, 0.906000018119812]"
            ]
          },
          "metadata": {
            "tags": []
          },
          "execution_count": 48
        }
      ]
    },
    {
      "cell_type": "markdown",
      "metadata": {
        "id": "yAp77Knt64kD",
        "colab_type": "text"
      },
      "source": [
        "##4. 10cm Input Amplitude##"
      ]
    },
    {
      "cell_type": "code",
      "metadata": {
        "colab_type": "code",
        "id": "ktqYC8mbSVLw",
        "colab": {}
      },
      "source": [
        "#Loading speckles from dataset\n",
        "f = h5py.File('/content/drive/My Drive/fiber data Crete/10cm/Input_Amplitude/processed/32_down_input_processed_data.h5', 'r')\n"
      ],
      "execution_count": 0,
      "outputs": []
    },
    {
      "cell_type": "code",
      "metadata": {
        "colab_type": "code",
        "outputId": "b159faa1-76d2-466e-c0b9-c78abe5b2864",
        "id": "23AV6WHcSVL3",
        "colab": {
          "base_uri": "https://localhost:8080/",
          "height": 34
        }
      },
      "source": [
        "f.keys()"
      ],
      "execution_count": 50,
      "outputs": [
        {
          "output_type": "execute_result",
          "data": {
            "text/plain": [
              "<KeysViewHDF5 ['input_processed_data']>"
            ]
          },
          "metadata": {
            "tags": []
          },
          "execution_count": 50
        }
      ]
    },
    {
      "cell_type": "code",
      "metadata": {
        "colab_type": "code",
        "id": "1RwbCutySVL7",
        "colab": {}
      },
      "source": [
        "x=f['input_processed_data']"
      ],
      "execution_count": 0,
      "outputs": []
    },
    {
      "cell_type": "code",
      "metadata": {
        "colab_type": "code",
        "outputId": "8d723398-739c-49a3-e081-4e06612f228a",
        "id": "GlYJSl5iSVL8",
        "colab": {
          "base_uri": "https://localhost:8080/",
          "height": 34
        }
      },
      "source": [
        "x.shape"
      ],
      "execution_count": 52,
      "outputs": [
        {
          "output_type": "execute_result",
          "data": {
            "text/plain": [
              "(20000, 32, 32, 1)"
            ]
          },
          "metadata": {
            "tags": []
          },
          "execution_count": 52
        }
      ]
    },
    {
      "cell_type": "code",
      "metadata": {
        "colab_type": "code",
        "outputId": "81569e9b-87bc-489f-c3b6-572b37e51275",
        "id": "kcpH5htGSVMB",
        "colab": {
          "base_uri": "https://localhost:8080/",
          "height": 283
        }
      },
      "source": [
        "plt.imshow(x[1,:,:,0],cmap='gray')"
      ],
      "execution_count": 53,
      "outputs": [
        {
          "output_type": "execute_result",
          "data": {
            "text/plain": [
              "<matplotlib.image.AxesImage at 0x7fe039ac6160>"
            ]
          },
          "metadata": {
            "tags": []
          },
          "execution_count": 53
        },
        {
          "output_type": "display_data",
          "data": {
            "image/png": "[encoded data removed]",
            "text/plain": [
              "<Figure size 432x288 with 1 Axes>"
            ]
          },
          "metadata": {
            "tags": [],
            "needs_background": "light"
          }
        }
      ]
    },
    {
      "cell_type": "code",
      "metadata": {
        "colab_type": "code",
        "id": "VYZX1eYTSVMF",
        "colab": {}
      },
      "source": [
        "#Loading labels from dataset\n",
        "g = h5py.File('/content/drive/My Drive/fiber data Crete/10cm/Input_Amplitude/processed/32_down_output_class_onehot.h5', 'r')"
      ],
      "execution_count": 0,
      "outputs": []
    },
    {
      "cell_type": "code",
      "metadata": {
        "colab_type": "code",
        "outputId": "6bf08360-b89d-44d7-cb0c-21d788242106",
        "id": "OzE1q5EPSVMH",
        "colab": {
          "base_uri": "https://localhost:8080/",
          "height": 34
        }
      },
      "source": [
        "list(g.keys())"
      ],
      "execution_count": 55,
      "outputs": [
        {
          "output_type": "execute_result",
          "data": {
            "text/plain": [
              "['output_class_onehot']"
            ]
          },
          "metadata": {
            "tags": []
          },
          "execution_count": 55
        }
      ]
    },
    {
      "cell_type": "code",
      "metadata": {
        "colab_type": "code",
        "id": "ZGMkwEe1SVMJ",
        "colab": {}
      },
      "source": [
        "y=g['output_class_onehot']"
      ],
      "execution_count": 0,
      "outputs": []
    },
    {
      "cell_type": "code",
      "metadata": {
        "colab_type": "code",
        "outputId": "85ff94d7-4c0a-41e6-939b-717777d63317",
        "id": "RnljjA6USVML",
        "colab": {
          "base_uri": "https://localhost:8080/",
          "height": 34
        }
      },
      "source": [
        "y.shape"
      ],
      "execution_count": 57,
      "outputs": [
        {
          "output_type": "execute_result",
          "data": {
            "text/plain": [
              "(20000, 10)"
            ]
          },
          "metadata": {
            "tags": []
          },
          "execution_count": 57
        }
      ]
    },
    {
      "cell_type": "code",
      "metadata": {
        "colab_type": "code",
        "id": "9jURqCGOSVMM",
        "colab": {}
      },
      "source": [
        "#Converting data to numpy arrays\n",
        "x_full=np.array(x)\n",
        "y_full=np.array(y)\n",
        "#Splitting data to train and test sets\n",
        "x_train, x_test, y_train, y_test = train_test_split(x_full, y_full, test_size = 0.2, random_state = 42)"
      ],
      "execution_count": 0,
      "outputs": []
    },
    {
      "cell_type": "code",
      "metadata": {
        "colab_type": "code",
        "outputId": "1494d13e-39ad-4dc3-e083-3af028885c56",
        "id": "IMtsy7L0SVMP",
        "colab": {
          "base_uri": "https://localhost:8080/",
          "height": 34
        }
      },
      "source": [
        "y_test.shape"
      ],
      "execution_count": 59,
      "outputs": [
        {
          "output_type": "execute_result",
          "data": {
            "text/plain": [
              "(4000, 10)"
            ]
          },
          "metadata": {
            "tags": []
          },
          "execution_count": 59
        }
      ]
    },
    {
      "cell_type": "code",
      "metadata": {
        "colab_type": "code",
        "id": "oJQtCkrySVMS",
        "colab": {}
      },
      "source": [
        "#Splitting test set to test and validation\n",
        "x_test, x_valid, y_test, y_valid = train_test_split(x_test, y_test, test_size = 0.5, random_state = 42)"
      ],
      "execution_count": 0,
      "outputs": []
    },
    {
      "cell_type": "code",
      "metadata": {
        "colab_type": "code",
        "outputId": "3952b2d1-e085-485a-f691-9df09e7acd10",
        "id": "qdmXA--rSVMU",
        "colab": {
          "base_uri": "https://localhost:8080/",
          "height": 119
        }
      },
      "source": [
        "print(x_train.shape)\n",
        "print(x_test.shape)\n",
        "print(x_valid.shape)\n",
        "print(y_train.shape)\n",
        "print(y_test.shape)\n",
        "print(y_valid.shape)"
      ],
      "execution_count": 61,
      "outputs": [
        {
          "output_type": "stream",
          "text": [
            "(16000, 32, 32, 1)\n",
            "(2000, 32, 32, 1)\n",
            "(2000, 32, 32, 1)\n",
            "(16000, 10)\n",
            "(2000, 10)\n",
            "(2000, 10)\n"
          ],
          "name": "stdout"
        }
      ]
    },
    {
      "cell_type": "code",
      "metadata": {
        "colab_type": "code",
        "outputId": "b0e0f54d-205a-4164-da19-cc5c0a762671",
        "id": "13u2EW1nSVMW",
        "colab": {
          "base_uri": "https://localhost:8080/",
          "height": 1000
        }
      },
      "source": [
        "#Classification network\n",
        "from tensorflow.keras.models import Sequential\n",
        "from tensorflow.keras.layers import Conv2D, MaxPool2D, Flatten, Dense, Dropout\n",
        "from tensorflow.keras.optimizers import SGD, Adam\n",
        "tf.keras.backend.clear_session\n",
        "\n",
        "\n",
        "model = Sequential()\n",
        "model.add(Conv2D(input_shape=(32,32,1),padding=\"same\",filters=32,kernel_size=(3,3), activation=\"relu\"))\n",
        "model.add(Conv2D(kernel_size=(3,3),padding=\"same\",filters=32, activation=\"relu\"))\n",
        "\n",
        "\n",
        "model.add(Conv2D(kernel_size=(3,3),padding=\"same\",filters=64, activation=\"relu\"))\n",
        "model.add(Conv2D(kernel_size=(3,3),padding=\"same\",filters=64, activation=\"relu\"))\n",
        "model.add(MaxPool2D(pool_size=(2,2),padding = 'same',strides=(2,2)))\n",
        "\n",
        "model.add(Conv2D(kernel_size=(3,3),padding=\"same\",filters=128, activation=\"relu\"))\n",
        "model.add(Conv2D(kernel_size=(3,3),padding=\"same\",filters=128, activation=\"relu\"))\n",
        "model.add(MaxPool2D(pool_size=(2,2),padding = 'same',strides=(2,2)))\n",
        "\n",
        "model.add(Conv2D(kernel_size=(3,3),padding=\"same\",filters=256, activation=\"relu\"))\n",
        "model.add(Conv2D(kernel_size=(3,3),padding=\"same\",filters=256, activation=\"relu\"))\n",
        "model.add(MaxPool2D(pool_size=(2,2),padding = 'same',strides=(2,2)))\n",
        "\n",
        "\n",
        "model.add(Flatten())\n",
        "\n",
        "model.add(Dropout(0.40)) \n",
        "model.add(Dense(256,activation='relu'))\n",
        "\n",
        "model.add(Dense(10, activation = 'softmax'))\n",
        "\n",
        "model.summary()\n",
        "\n",
        "from tensorflow.keras.callbacks import EarlyStopping\n",
        "early_stopping = EarlyStopping(patience = 20, restore_best_weights = True)\n",
        "\n",
        "model.compile(loss = \"categorical_crossentropy\", optimizer = Adam(lr=0.0001), metrics = [\"accuracy\"])\n",
        "\n",
        "history = model.fit(x_train, y_train,\n",
        "                  validation_data = (x_valid, y_valid),\n",
        "                  epochs = 50, batch_size = 500, callbacks = [early_stopping])"
      ],
      "execution_count": 62,
      "outputs": [
        {
          "output_type": "stream",
          "text": [
            "Model: \"sequential_3\"\n",
            "_________________________________________________________________\n",
            "Layer (type)                 Output Shape              Param #   \n",
            "=================================================================\n",
            "conv2d_24 (Conv2D)           (None, 32, 32, 32)        320       \n",
            "_________________________________________________________________\n",
            "conv2d_25 (Conv2D)           (None, 32, 32, 32)        9248      \n",
            "_________________________________________________________________\n",
            "conv2d_26 (Conv2D)           (None, 32, 32, 64)        18496     \n",
            "_________________________________________________________________\n",
            "conv2d_27 (Conv2D)           (None, 32, 32, 64)        36928     \n",
            "_________________________________________________________________\n",
            "max_pooling2d_9 (MaxPooling2 (None, 16, 16, 64)        0         \n",
            "_________________________________________________________________\n",
            "conv2d_28 (Conv2D)           (None, 16, 16, 128)       73856     \n",
            "_________________________________________________________________\n",
            "conv2d_29 (Conv2D)           (None, 16, 16, 128)       147584    \n",
            "_________________________________________________________________\n",
            "max_pooling2d_10 (MaxPooling (None, 8, 8, 128)         0         \n",
            "_________________________________________________________________\n",
            "conv2d_30 (Conv2D)           (None, 8, 8, 256)         295168    \n",
            "_________________________________________________________________\n",
            "conv2d_31 (Conv2D)           (None, 8, 8, 256)         590080    \n",
            "_________________________________________________________________\n",
            "max_pooling2d_11 (MaxPooling (None, 4, 4, 256)         0         \n",
            "_________________________________________________________________\n",
            "flatten_3 (Flatten)          (None, 4096)              0         \n",
            "_________________________________________________________________\n",
            "dropout_3 (Dropout)          (None, 4096)              0         \n",
            "_________________________________________________________________\n",
            "dense_6 (Dense)              (None, 256)               1048832   \n",
            "_________________________________________________________________\n",
            "dense_7 (Dense)              (None, 10)                2570      \n",
            "=================================================================\n",
            "Total params: 2,223,082\n",
            "Trainable params: 2,223,082\n",
            "Non-trainable params: 0\n",
            "_________________________________________________________________\n",
            "Epoch 1/50\n",
            "32/32 [==============================] - 8s 240ms/step - loss: 2.2922 - accuracy: 0.1606 - val_loss: 2.1886 - val_accuracy: 0.2595\n",
            "Epoch 2/50\n",
            "32/32 [==============================] - 8s 235ms/step - loss: 2.0171 - accuracy: 0.3281 - val_loss: 1.6322 - val_accuracy: 0.5935\n",
            "Epoch 3/50\n",
            "32/32 [==============================] - 8s 236ms/step - loss: 1.4469 - accuracy: 0.5274 - val_loss: 1.0809 - val_accuracy: 0.6900\n",
            "Epoch 4/50\n",
            "32/32 [==============================] - 8s 237ms/step - loss: 1.0347 - accuracy: 0.6713 - val_loss: 0.8320 - val_accuracy: 0.7325\n",
            "Epoch 5/50\n",
            "32/32 [==============================] - 8s 236ms/step - loss: 0.8322 - accuracy: 0.7385 - val_loss: 0.6764 - val_accuracy: 0.7975\n",
            "Epoch 6/50\n",
            "32/32 [==============================] - 8s 236ms/step - loss: 0.6815 - accuracy: 0.7883 - val_loss: 0.6009 - val_accuracy: 0.8230\n",
            "Epoch 7/50\n",
            "32/32 [==============================] - 8s 237ms/step - loss: 0.5993 - accuracy: 0.8159 - val_loss: 0.5353 - val_accuracy: 0.8470\n",
            "Epoch 8/50\n",
            "32/32 [==============================] - 8s 236ms/step - loss: 0.5251 - accuracy: 0.8419 - val_loss: 0.4733 - val_accuracy: 0.8605\n",
            "Epoch 9/50\n",
            "32/32 [==============================] - 8s 236ms/step - loss: 0.4858 - accuracy: 0.8518 - val_loss: 0.4603 - val_accuracy: 0.8580\n",
            "Epoch 10/50\n",
            "32/32 [==============================] - 8s 236ms/step - loss: 0.4423 - accuracy: 0.8623 - val_loss: 0.4376 - val_accuracy: 0.8735\n",
            "Epoch 11/50\n",
            "32/32 [==============================] - 8s 237ms/step - loss: 0.4144 - accuracy: 0.8720 - val_loss: 0.4513 - val_accuracy: 0.8750\n",
            "Epoch 12/50\n",
            "32/32 [==============================] - 8s 236ms/step - loss: 0.3748 - accuracy: 0.8873 - val_loss: 0.3873 - val_accuracy: 0.8850\n",
            "Epoch 13/50\n",
            "32/32 [==============================] - 8s 235ms/step - loss: 0.3557 - accuracy: 0.8929 - val_loss: 0.4030 - val_accuracy: 0.8765\n",
            "Epoch 14/50\n",
            "32/32 [==============================] - 8s 237ms/step - loss: 0.3217 - accuracy: 0.9044 - val_loss: 0.3741 - val_accuracy: 0.8890\n",
            "Epoch 15/50\n",
            "32/32 [==============================] - 8s 236ms/step - loss: 0.2974 - accuracy: 0.9113 - val_loss: 0.3762 - val_accuracy: 0.8885\n",
            "Epoch 16/50\n",
            "32/32 [==============================] - 8s 236ms/step - loss: 0.2828 - accuracy: 0.9169 - val_loss: 0.3567 - val_accuracy: 0.8895\n",
            "Epoch 17/50\n",
            "32/32 [==============================] - 8s 236ms/step - loss: 0.2698 - accuracy: 0.9179 - val_loss: 0.3459 - val_accuracy: 0.9005\n",
            "Epoch 18/50\n",
            "32/32 [==============================] - 8s 237ms/step - loss: 0.2509 - accuracy: 0.9239 - val_loss: 0.3500 - val_accuracy: 0.9015\n",
            "Epoch 19/50\n",
            "32/32 [==============================] - 8s 237ms/step - loss: 0.2309 - accuracy: 0.9302 - val_loss: 0.3424 - val_accuracy: 0.9025\n",
            "Epoch 20/50\n",
            "32/32 [==============================] - 8s 237ms/step - loss: 0.2232 - accuracy: 0.9316 - val_loss: 0.3234 - val_accuracy: 0.9030\n",
            "Epoch 21/50\n",
            "32/32 [==============================] - 8s 237ms/step - loss: 0.2044 - accuracy: 0.9376 - val_loss: 0.3434 - val_accuracy: 0.8985\n",
            "Epoch 22/50\n",
            "32/32 [==============================] - 8s 236ms/step - loss: 0.1941 - accuracy: 0.9414 - val_loss: 0.3302 - val_accuracy: 0.9045\n",
            "Epoch 23/50\n",
            "32/32 [==============================] - 8s 235ms/step - loss: 0.1750 - accuracy: 0.9461 - val_loss: 0.3408 - val_accuracy: 0.8995\n",
            "Epoch 24/50\n",
            "32/32 [==============================] - 8s 237ms/step - loss: 0.1645 - accuracy: 0.9519 - val_loss: 0.3121 - val_accuracy: 0.9130\n",
            "Epoch 25/50\n",
            "32/32 [==============================] - 8s 237ms/step - loss: 0.1502 - accuracy: 0.9538 - val_loss: 0.3072 - val_accuracy: 0.9100\n",
            "Epoch 26/50\n",
            "32/32 [==============================] - 8s 236ms/step - loss: 0.1386 - accuracy: 0.9578 - val_loss: 0.3226 - val_accuracy: 0.9110\n",
            "Epoch 27/50\n",
            "32/32 [==============================] - 8s 238ms/step - loss: 0.1292 - accuracy: 0.9617 - val_loss: 0.3071 - val_accuracy: 0.9115\n",
            "Epoch 28/50\n",
            "32/32 [==============================] - 8s 236ms/step - loss: 0.1166 - accuracy: 0.9671 - val_loss: 0.3103 - val_accuracy: 0.9140\n",
            "Epoch 29/50\n",
            "32/32 [==============================] - 8s 237ms/step - loss: 0.1112 - accuracy: 0.9677 - val_loss: 0.2973 - val_accuracy: 0.9205\n",
            "Epoch 30/50\n",
            "32/32 [==============================] - 8s 236ms/step - loss: 0.1037 - accuracy: 0.9699 - val_loss: 0.3055 - val_accuracy: 0.9180\n",
            "Epoch 31/50\n",
            "32/32 [==============================] - 8s 237ms/step - loss: 0.0910 - accuracy: 0.9741 - val_loss: 0.3139 - val_accuracy: 0.9140\n",
            "Epoch 32/50\n",
            "32/32 [==============================] - 8s 237ms/step - loss: 0.0943 - accuracy: 0.9724 - val_loss: 0.3040 - val_accuracy: 0.9180\n",
            "Epoch 33/50\n",
            "32/32 [==============================] - 8s 236ms/step - loss: 0.0769 - accuracy: 0.9790 - val_loss: 0.3095 - val_accuracy: 0.9140\n",
            "Epoch 34/50\n",
            "32/32 [==============================] - 8s 237ms/step - loss: 0.0780 - accuracy: 0.9793 - val_loss: 0.3260 - val_accuracy: 0.9140\n",
            "Epoch 35/50\n",
            "32/32 [==============================] - 8s 236ms/step - loss: 0.0704 - accuracy: 0.9802 - val_loss: 0.3132 - val_accuracy: 0.9180\n",
            "Epoch 36/50\n",
            "32/32 [==============================] - 8s 237ms/step - loss: 0.0655 - accuracy: 0.9816 - val_loss: 0.3093 - val_accuracy: 0.9205\n",
            "Epoch 37/50\n",
            "32/32 [==============================] - 8s 236ms/step - loss: 0.0592 - accuracy: 0.9846 - val_loss: 0.3130 - val_accuracy: 0.9155\n",
            "Epoch 38/50\n",
            "32/32 [==============================] - 8s 237ms/step - loss: 0.0524 - accuracy: 0.9862 - val_loss: 0.3195 - val_accuracy: 0.9205\n",
            "Epoch 39/50\n",
            "32/32 [==============================] - 8s 237ms/step - loss: 0.0509 - accuracy: 0.9862 - val_loss: 0.3235 - val_accuracy: 0.9165\n",
            "Epoch 40/50\n",
            "32/32 [==============================] - 8s 237ms/step - loss: 0.0456 - accuracy: 0.9879 - val_loss: 0.3303 - val_accuracy: 0.9185\n",
            "Epoch 41/50\n",
            "32/32 [==============================] - 8s 238ms/step - loss: 0.0445 - accuracy: 0.9887 - val_loss: 0.3279 - val_accuracy: 0.9205\n",
            "Epoch 42/50\n",
            "32/32 [==============================] - 8s 237ms/step - loss: 0.0399 - accuracy: 0.9899 - val_loss: 0.3474 - val_accuracy: 0.9155\n",
            "Epoch 43/50\n",
            "32/32 [==============================] - 8s 236ms/step - loss: 0.0360 - accuracy: 0.9917 - val_loss: 0.3435 - val_accuracy: 0.9140\n",
            "Epoch 44/50\n",
            "32/32 [==============================] - 8s 237ms/step - loss: 0.0364 - accuracy: 0.9911 - val_loss: 0.3404 - val_accuracy: 0.9165\n",
            "Epoch 45/50\n",
            "32/32 [==============================] - 8s 236ms/step - loss: 0.0365 - accuracy: 0.9907 - val_loss: 0.3293 - val_accuracy: 0.9195\n",
            "Epoch 46/50\n",
            "32/32 [==============================] - 8s 236ms/step - loss: 0.0306 - accuracy: 0.9934 - val_loss: 0.3237 - val_accuracy: 0.9225\n",
            "Epoch 47/50\n",
            "32/32 [==============================] - 8s 236ms/step - loss: 0.0277 - accuracy: 0.9938 - val_loss: 0.3461 - val_accuracy: 0.9190\n",
            "Epoch 48/50\n",
            "32/32 [==============================] - 8s 237ms/step - loss: 0.0259 - accuracy: 0.9941 - val_loss: 0.3362 - val_accuracy: 0.9220\n",
            "Epoch 49/50\n",
            "32/32 [==============================] - 8s 237ms/step - loss: 0.0277 - accuracy: 0.9934 - val_loss: 0.3241 - val_accuracy: 0.9190\n"
          ],
          "name": "stdout"
        }
      ]
    },
    {
      "cell_type": "code",
      "metadata": {
        "colab_type": "code",
        "id": "E0OIDLgvSVMY",
        "outputId": "276ed329-a49b-4b74-ff00-6db3aa5fa4fd",
        "colab": {
          "base_uri": "https://localhost:8080/",
          "height": 51
        }
      },
      "source": [
        "model.evaluate(x_test,y_test)"
      ],
      "execution_count": 63,
      "outputs": [
        {
          "output_type": "stream",
          "text": [
            "63/63 [==============================] - 1s 10ms/step - loss: 0.2584 - accuracy: 0.9235\n"
          ],
          "name": "stdout"
        },
        {
          "output_type": "execute_result",
          "data": {
            "text/plain": [
              "[0.25844505429267883, 0.9235000014305115]"
            ]
          },
          "metadata": {
            "tags": []
          },
          "execution_count": 63
        }
      ]
    },
    {
      "cell_type": "code",
      "metadata": {
        "id": "23GxMKFdVISy",
        "colab_type": "code",
        "colab": {}
      },
      "source": [
        ""
      ],
      "execution_count": 0,
      "outputs": []
    },
    {
      "cell_type": "markdown",
      "metadata": {
        "id": "w_W6lqSb7Nqf",
        "colab_type": "text"
      },
      "source": [
        "# B. Reconstruction and Classification #\n",
        "\n",
        "\n",
        "\n"
      ]
    },
    {
      "cell_type": "markdown",
      "metadata": {
        "colab_type": "text",
        "id": "ytbZwAuxQsjL"
      },
      "source": [
        "##1. 1km Input Phase##"
      ]
    },
    {
      "cell_type": "code",
      "metadata": {
        "colab_type": "code",
        "outputId": "d1c03cad-a397-40ed-d643-388ea3c82f07",
        "id": "ZO19FVgeQhd9",
        "colab": {
          "base_uri": "https://localhost:8080/",
          "height": 34
        }
      },
      "source": [
        "#Loading mnist\n",
        "from keras.datasets import mnist"
      ],
      "execution_count": 64,
      "outputs": [
        {
          "output_type": "stream",
          "text": [
            "Using TensorFlow backend.\n"
          ],
          "name": "stderr"
        }
      ]
    },
    {
      "cell_type": "code",
      "metadata": {
        "colab_type": "code",
        "outputId": "3d0489f3-794f-46a9-e021-749ff68f39da",
        "id": "MTfbW4HGQheB",
        "colab": {
          "base_uri": "https://localhost:8080/",
          "height": 51
        }
      },
      "source": [
        "(x_full_mnist, _), (_, _) = mnist.load_data()"
      ],
      "execution_count": 65,
      "outputs": [
        {
          "output_type": "stream",
          "text": [
            "Downloading data from https://s3.amazonaws.com/img-datasets/mnist.npz\n",
            "11493376/11490434 [==============================] - 1s 0us/step\n"
          ],
          "name": "stdout"
        }
      ]
    },
    {
      "cell_type": "code",
      "metadata": {
        "colab_type": "code",
        "id": "MMnUwqOrQheE",
        "colab": {}
      },
      "source": [
        "x_full_mnist=np.array(x_full_mnist)"
      ],
      "execution_count": 0,
      "outputs": []
    },
    {
      "cell_type": "code",
      "metadata": {
        "colab_type": "code",
        "id": "AltRYNFvQheG",
        "colab": {}
      },
      "source": [
        "#Saving the first 20k images\n",
        "x_full_mnist=x_full_mnist[:20000]"
      ],
      "execution_count": 0,
      "outputs": []
    },
    {
      "cell_type": "code",
      "metadata": {
        "colab_type": "code",
        "outputId": "49befa5f-6508-4808-de2f-43f7a12c55d9",
        "id": "53p6N9TWQheI",
        "colab": {
          "base_uri": "https://localhost:8080/",
          "height": 34
        }
      },
      "source": [
        "x_full_mnist.shape"
      ],
      "execution_count": 68,
      "outputs": [
        {
          "output_type": "execute_result",
          "data": {
            "text/plain": [
              "(20000, 28, 28)"
            ]
          },
          "metadata": {
            "tags": []
          },
          "execution_count": 68
        }
      ]
    },
    {
      "cell_type": "code",
      "metadata": {
        "colab_type": "code",
        "id": "whpXa0fsQheL",
        "colab": {}
      },
      "source": [
        "#Resizing the images form (28,28) to (32,32,1)\n",
        "x_full_mnist = resize(x_full_mnist,(20000,32,32,1))"
      ],
      "execution_count": 0,
      "outputs": []
    },
    {
      "cell_type": "code",
      "metadata": {
        "colab_type": "code",
        "outputId": "ef56f535-a3dc-4c0d-c3d5-1d63fb17bfb1",
        "id": "aIHUVwqXQheO",
        "colab": {
          "base_uri": "https://localhost:8080/",
          "height": 34
        }
      },
      "source": [
        "x_full_mnist.shape"
      ],
      "execution_count": 70,
      "outputs": [
        {
          "output_type": "execute_result",
          "data": {
            "text/plain": [
              "(20000, 32, 32, 1)"
            ]
          },
          "metadata": {
            "tags": []
          },
          "execution_count": 70
        }
      ]
    },
    {
      "cell_type": "code",
      "metadata": {
        "colab_type": "code",
        "outputId": "d1df1238-8803-4ec6-be9a-6f6b1fdf6c78",
        "id": "NTDc6VCpQheS",
        "colab": {
          "base_uri": "https://localhost:8080/",
          "height": 283
        }
      },
      "source": [
        "plt.rcParams[\"axes.grid\"] = False\n",
        "plt.imshow(x_full_mnist[4,:,:,0],cmap='gray')"
      ],
      "execution_count": 71,
      "outputs": [
        {
          "output_type": "execute_result",
          "data": {
            "text/plain": [
              "<matplotlib.image.AxesImage at 0x7fe0349897b8>"
            ]
          },
          "metadata": {
            "tags": []
          },
          "execution_count": 71
        },
        {
          "output_type": "display_data",
          "data": {
            "image/png": "[encoded data removed]",
            "text/plain": [
              "<Figure size 432x288 with 1 Axes>"
            ]
          },
          "metadata": {
            "tags": [],
            "needs_background": "light"
          }
        }
      ]
    },
    {
      "cell_type": "code",
      "metadata": {
        "colab_type": "code",
        "outputId": "ac73e9ff-c264-4fb3-b248-71ed5969fd66",
        "id": "MYb9hLkdQheV",
        "colab": {
          "base_uri": "https://localhost:8080/",
          "height": 34
        }
      },
      "source": [
        "#Loading speckles from dataset\n",
        "X = h5py.File('/content/drive/My Drive/fiber data Crete/1km/Input Phase/processed/32_down_input_data.h5', 'r')\n",
        "list(X.keys())"
      ],
      "execution_count": 72,
      "outputs": [
        {
          "output_type": "execute_result",
          "data": {
            "text/plain": [
              "['input_data']"
            ]
          },
          "metadata": {
            "tags": []
          },
          "execution_count": 72
        }
      ]
    },
    {
      "cell_type": "code",
      "metadata": {
        "colab_type": "code",
        "id": "CQ0j7l06QheX",
        "colab": {}
      },
      "source": [
        "#Converting speckles to numpy array\n",
        "X=X['input_data']\n",
        "X_full=np.array(X)\n"
      ],
      "execution_count": 0,
      "outputs": []
    },
    {
      "cell_type": "code",
      "metadata": {
        "colab_type": "code",
        "outputId": "104e7bd2-9705-4d0c-ac13-c6f47761a81d",
        "id": "1zKdoGo0Qhea",
        "colab": {
          "base_uri": "https://localhost:8080/",
          "height": 51
        }
      },
      "source": [
        "print(X_full.shape)\n",
        "print(x_full_mnist.shape)"
      ],
      "execution_count": 74,
      "outputs": [
        {
          "output_type": "stream",
          "text": [
            "(20000, 32, 32, 1)\n",
            "(20000, 32, 32, 1)\n"
          ],
          "name": "stdout"
        }
      ]
    },
    {
      "cell_type": "code",
      "metadata": {
        "colab_type": "code",
        "id": "u5M_HoL0Qhee",
        "colab": {}
      },
      "source": [
        "#Splitting data to train and test sets\n",
        "x_train, x_test, x_train_mnist, x_test_mnist = train_test_split(X_full, x_full_mnist, test_size = 0.2, random_state = 42)\n"
      ],
      "execution_count": 0,
      "outputs": []
    },
    {
      "cell_type": "code",
      "metadata": {
        "colab_type": "code",
        "id": "MnSNE_MDQhej",
        "colab": {}
      },
      "source": [
        "#Splitting test set to test and validation sets\n",
        "x_test, x_valid, x_test_mnist, x_valid_mnist = train_test_split(x_test, x_test_mnist, test_size = 0.5, random_state = 42)"
      ],
      "execution_count": 0,
      "outputs": []
    },
    {
      "cell_type": "code",
      "metadata": {
        "colab_type": "code",
        "id": "8w4189wrQhek",
        "colab": {}
      },
      "source": [
        "#Now the images are split in the same way as earlier, so the 2k images of the test set are the same and will not be used when training the u-net\n",
        "#Combining validation and train sets into one training set (Since we won't be using a validation set when training the u-net)\n",
        "x_train=np.concatenate((x_train,x_valid))\n",
        "x_train_mnist=np.concatenate((x_train_mnist,x_valid_mnist))"
      ],
      "execution_count": 0,
      "outputs": []
    },
    {
      "cell_type": "code",
      "metadata": {
        "colab_type": "code",
        "outputId": "074018c8-4397-440d-a241-6c2b72517d68",
        "id": "FdgTRGGsQhem",
        "colab": {
          "base_uri": "https://localhost:8080/",
          "height": 85
        }
      },
      "source": [
        "print(x_train.shape)\n",
        "print(x_test.shape)\n",
        "#print(x_valid.shape)\n",
        "print(x_train_mnist.shape)\n",
        "print(x_test_mnist.shape)\n",
        "#print(y_valid.shape)"
      ],
      "execution_count": 78,
      "outputs": [
        {
          "output_type": "stream",
          "text": [
            "(18000, 32, 32, 1)\n",
            "(2000, 32, 32, 1)\n",
            "(18000, 32, 32, 1)\n",
            "(2000, 32, 32, 1)\n"
          ],
          "name": "stdout"
        }
      ]
    },
    {
      "cell_type": "code",
      "metadata": {
        "colab_type": "code",
        "id": "0i0AIoaBQhen",
        "colab": {}
      },
      "source": [
        "#U-net\n",
        "tf.keras.backend.clear_session\n",
        "def conv2d_block(input_tensor, n_filters, kernel_size=3, batchnorm=True):\n",
        "     #first layer\n",
        "    x = Conv2D(filters=n_filters, kernel_size=(kernel_size, kernel_size), kernel_initializer=\"he_normal\",\n",
        "               padding=\"same\")(input_tensor)\n",
        "    if batchnorm:\n",
        "        x = BatchNormalization()(x)\n",
        "    x = Activation(\"relu\")(x)\n",
        "    # second layer\n",
        "    x = Conv2D(filters=n_filters, kernel_size=(kernel_size, kernel_size), kernel_initializer=\"he_normal\",\n",
        "               padding=\"same\")(x)\n",
        "    if batchnorm:\n",
        "        x = BatchNormalization()(x)\n",
        "    x = Activation(\"relu\")(x)\n",
        "    return x"
      ],
      "execution_count": 0,
      "outputs": []
    },
    {
      "cell_type": "code",
      "metadata": {
        "colab_type": "code",
        "id": "qLlcA7fAQhep",
        "colab": {}
      },
      "source": [
        "def get_unet(input_img, n_filters=32, dropout=0.5, batchnorm=True):\n",
        "    # contracting path\n",
        "    c1 = conv2d_block(input_img, n_filters=n_filters*1, kernel_size=3, batchnorm=batchnorm)\n",
        "    p1 = MaxPooling2D((1, 1)) (c1)\n",
        "    p1 = Dropout(dropout*0.5)(p1)\n",
        "\n",
        "    c2 = conv2d_block(p1, n_filters=n_filters*2, kernel_size=3, batchnorm=batchnorm)\n",
        "    p2 = MaxPooling2D((2, 2)) (c2)\n",
        "    p2 = Dropout(dropout)(p2)\n",
        "\n",
        "    c3 = conv2d_block(p2, n_filters=n_filters*4, kernel_size=3, batchnorm=batchnorm)\n",
        "    p3 = MaxPooling2D((2, 2)) (c3)\n",
        "    p3 = Dropout(dropout)(p3)\n",
        "\n",
        "    c4 = conv2d_block(p3, n_filters=n_filters*8, kernel_size=3, batchnorm=batchnorm)\n",
        "    p4 = MaxPooling2D(pool_size=(2, 2)) (c4)\n",
        "    p4 = Dropout(dropout)(p4)\n",
        "    \n",
        "    ##\n",
        "\n",
        "    u7 = Conv2DTranspose(n_filters*4, (3, 3), strides=(2, 2), padding='same') (p4)\n",
        "    u7 = concatenate([u7, p3])\n",
        "    u7 = Dropout(dropout)(u7)\n",
        "    c7 = conv2d_block(u7, n_filters=n_filters*4, kernel_size=3, batchnorm=batchnorm)\n",
        "\n",
        "    u8 = Conv2DTranspose(n_filters*2, (3, 3), strides=(2, 2), padding='same') (c7)\n",
        "    u8 = concatenate([u8, p2])\n",
        "    u8 = Dropout(dropout)(u8)\n",
        "    c8 = conv2d_block(u8, n_filters=n_filters*2, kernel_size=3, batchnorm=batchnorm)\n",
        "\n",
        "    u9 = Conv2DTranspose(n_filters*1, (3, 3), strides=(2, 2), padding='same') (c8)\n",
        "    u9 = concatenate([u9, p1], axis=3)\n",
        "    u9 = Dropout(dropout)(u9)\n",
        "    c9 = conv2d_block(u9, n_filters=n_filters*1, kernel_size=3, batchnorm=batchnorm)\n",
        "    \n",
        "    outputs = Conv2D(1, (1, 1), activation='sigmoid') (c9)\n",
        "    model = Model(inputs=[input_img], outputs=[outputs])\n",
        "    return model"
      ],
      "execution_count": 0,
      "outputs": []
    },
    {
      "cell_type": "code",
      "metadata": {
        "colab_type": "code",
        "outputId": "b43dfadc-256b-43e0-cc2b-3a6b8ecafed7",
        "id": "4exw-ftNQher",
        "colab": {
          "base_uri": "https://localhost:8080/",
          "height": 1000
        }
      },
      "source": [
        "input_img = Input((32, 32, 1), name='img')\n",
        "model = get_unet(input_img, n_filters=32, dropout=0.05, batchnorm=True)\n",
        "\n",
        "model.compile(optimizer=Adam(lr=0.0004), loss=\"binary_crossentropy\")\n",
        "model.summary()\n"
      ],
      "execution_count": 81,
      "outputs": [
        {
          "output_type": "stream",
          "text": [
            "Model: \"model\"\n",
            "__________________________________________________________________________________________________\n",
            "Layer (type)                    Output Shape         Param #     Connected to                     \n",
            "==================================================================================================\n",
            "img (InputLayer)                [(None, 32, 32, 1)]  0                                            \n",
            "__________________________________________________________________________________________________\n",
            "conv2d_32 (Conv2D)              (None, 32, 32, 32)   320         img[0][0]                        \n",
            "__________________________________________________________________________________________________\n",
            "batch_normalization (BatchNorma (None, 32, 32, 32)   128         conv2d_32[0][0]                  \n",
            "__________________________________________________________________________________________________\n",
            "activation (Activation)         (None, 32, 32, 32)   0           batch_normalization[0][0]        \n",
            "__________________________________________________________________________________________________\n",
            "conv2d_33 (Conv2D)              (None, 32, 32, 32)   9248        activation[0][0]                 \n",
            "__________________________________________________________________________________________________\n",
            "batch_normalization_1 (BatchNor (None, 32, 32, 32)   128         conv2d_33[0][0]                  \n",
            "__________________________________________________________________________________________________\n",
            "activation_1 (Activation)       (None, 32, 32, 32)   0           batch_normalization_1[0][0]      \n",
            "__________________________________________________________________________________________________\n",
            "max_pooling2d_12 (MaxPooling2D) (None, 32, 32, 32)   0           activation_1[0][0]               \n",
            "__________________________________________________________________________________________________\n",
            "dropout_4 (Dropout)             (None, 32, 32, 32)   0           max_pooling2d_12[0][0]           \n",
            "__________________________________________________________________________________________________\n",
            "conv2d_34 (Conv2D)              (None, 32, 32, 64)   18496       dropout_4[0][0]                  \n",
            "__________________________________________________________________________________________________\n",
            "batch_normalization_2 (BatchNor (None, 32, 32, 64)   256         conv2d_34[0][0]                  \n",
            "__________________________________________________________________________________________________\n",
            "activation_2 (Activation)       (None, 32, 32, 64)   0           batch_normalization_2[0][0]      \n",
            "__________________________________________________________________________________________________\n",
            "conv2d_35 (Conv2D)              (None, 32, 32, 64)   36928       activation_2[0][0]               \n",
            "__________________________________________________________________________________________________\n",
            "batch_normalization_3 (BatchNor (None, 32, 32, 64)   256         conv2d_35[0][0]                  \n",
            "__________________________________________________________________________________________________\n",
            "activation_3 (Activation)       (None, 32, 32, 64)   0           batch_normalization_3[0][0]      \n",
            "__________________________________________________________________________________________________\n",
            "max_pooling2d_13 (MaxPooling2D) (None, 16, 16, 64)   0           activation_3[0][0]               \n",
            "__________________________________________________________________________________________________\n",
            "dropout_5 (Dropout)             (None, 16, 16, 64)   0           max_pooling2d_13[0][0]           \n",
            "__________________________________________________________________________________________________\n",
            "conv2d_36 (Conv2D)              (None, 16, 16, 128)  73856       dropout_5[0][0]                  \n",
            "__________________________________________________________________________________________________\n",
            "batch_normalization_4 (BatchNor (None, 16, 16, 128)  512         conv2d_36[0][0]                  \n",
            "__________________________________________________________________________________________________\n",
            "activation_4 (Activation)       (None, 16, 16, 128)  0           batch_normalization_4[0][0]      \n",
            "__________________________________________________________________________________________________\n",
            "conv2d_37 (Conv2D)              (None, 16, 16, 128)  147584      activation_4[0][0]               \n",
            "__________________________________________________________________________________________________\n",
            "batch_normalization_5 (BatchNor (None, 16, 16, 128)  512         conv2d_37[0][0]                  \n",
            "__________________________________________________________________________________________________\n",
            "activation_5 (Activation)       (None, 16, 16, 128)  0           batch_normalization_5[0][0]      \n",
            "__________________________________________________________________________________________________\n",
            "max_pooling2d_14 (MaxPooling2D) (None, 8, 8, 128)    0           activation_5[0][0]               \n",
            "__________________________________________________________________________________________________\n",
            "dropout_6 (Dropout)             (None, 8, 8, 128)    0           max_pooling2d_14[0][0]           \n",
            "__________________________________________________________________________________________________\n",
            "conv2d_38 (Conv2D)              (None, 8, 8, 256)    295168      dropout_6[0][0]                  \n",
            "__________________________________________________________________________________________________\n",
            "batch_normalization_6 (BatchNor (None, 8, 8, 256)    1024        conv2d_38[0][0]                  \n",
            "__________________________________________________________________________________________________\n",
            "activation_6 (Activation)       (None, 8, 8, 256)    0           batch_normalization_6[0][0]      \n",
            "__________________________________________________________________________________________________\n",
            "conv2d_39 (Conv2D)              (None, 8, 8, 256)    590080      activation_6[0][0]               \n",
            "__________________________________________________________________________________________________\n",
            "batch_normalization_7 (BatchNor (None, 8, 8, 256)    1024        conv2d_39[0][0]                  \n",
            "__________________________________________________________________________________________________\n",
            "activation_7 (Activation)       (None, 8, 8, 256)    0           batch_normalization_7[0][0]      \n",
            "__________________________________________________________________________________________________\n",
            "max_pooling2d_15 (MaxPooling2D) (None, 4, 4, 256)    0           activation_7[0][0]               \n",
            "__________________________________________________________________________________________________\n",
            "dropout_7 (Dropout)             (None, 4, 4, 256)    0           max_pooling2d_15[0][0]           \n",
            "__________________________________________________________________________________________________\n",
            "conv2d_transpose (Conv2DTranspo (None, 8, 8, 128)    295040      dropout_7[0][0]                  \n",
            "__________________________________________________________________________________________________\n",
            "concatenate (Concatenate)       (None, 8, 8, 256)    0           conv2d_transpose[0][0]           \n",
            "                                                                 dropout_6[0][0]                  \n",
            "__________________________________________________________________________________________________\n",
            "dropout_8 (Dropout)             (None, 8, 8, 256)    0           concatenate[0][0]                \n",
            "__________________________________________________________________________________________________\n",
            "conv2d_40 (Conv2D)              (None, 8, 8, 128)    295040      dropout_8[0][0]                  \n",
            "__________________________________________________________________________________________________\n",
            "batch_normalization_8 (BatchNor (None, 8, 8, 128)    512         conv2d_40[0][0]                  \n",
            "__________________________________________________________________________________________________\n",
            "activation_8 (Activation)       (None, 8, 8, 128)    0           batch_normalization_8[0][0]      \n",
            "__________________________________________________________________________________________________\n",
            "conv2d_41 (Conv2D)              (None, 8, 8, 128)    147584      activation_8[0][0]               \n",
            "__________________________________________________________________________________________________\n",
            "batch_normalization_9 (BatchNor (None, 8, 8, 128)    512         conv2d_41[0][0]                  \n",
            "__________________________________________________________________________________________________\n",
            "activation_9 (Activation)       (None, 8, 8, 128)    0           batch_normalization_9[0][0]      \n",
            "__________________________________________________________________________________________________\n",
            "conv2d_transpose_1 (Conv2DTrans (None, 16, 16, 64)   73792       activation_9[0][0]               \n",
            "__________________________________________________________________________________________________\n",
            "concatenate_1 (Concatenate)     (None, 16, 16, 128)  0           conv2d_transpose_1[0][0]         \n",
            "                                                                 dropout_5[0][0]                  \n",
            "__________________________________________________________________________________________________\n",
            "dropout_9 (Dropout)             (None, 16, 16, 128)  0           concatenate_1[0][0]              \n",
            "__________________________________________________________________________________________________\n",
            "conv2d_42 (Conv2D)              (None, 16, 16, 64)   73792       dropout_9[0][0]                  \n",
            "__________________________________________________________________________________________________\n",
            "batch_normalization_10 (BatchNo (None, 16, 16, 64)   256         conv2d_42[0][0]                  \n",
            "__________________________________________________________________________________________________\n",
            "activation_10 (Activation)      (None, 16, 16, 64)   0           batch_normalization_10[0][0]     \n",
            "__________________________________________________________________________________________________\n",
            "conv2d_43 (Conv2D)              (None, 16, 16, 64)   36928       activation_10[0][0]              \n",
            "__________________________________________________________________________________________________\n",
            "batch_normalization_11 (BatchNo (None, 16, 16, 64)   256         conv2d_43[0][0]                  \n",
            "__________________________________________________________________________________________________\n",
            "activation_11 (Activation)      (None, 16, 16, 64)   0           batch_normalization_11[0][0]     \n",
            "__________________________________________________________________________________________________\n",
            "conv2d_transpose_2 (Conv2DTrans (None, 32, 32, 32)   18464       activation_11[0][0]              \n",
            "__________________________________________________________________________________________________\n",
            "concatenate_2 (Concatenate)     (None, 32, 32, 64)   0           conv2d_transpose_2[0][0]         \n",
            "                                                                 dropout_4[0][0]                  \n",
            "__________________________________________________________________________________________________\n",
            "dropout_10 (Dropout)            (None, 32, 32, 64)   0           concatenate_2[0][0]              \n",
            "__________________________________________________________________________________________________\n",
            "conv2d_44 (Conv2D)              (None, 32, 32, 32)   18464       dropout_10[0][0]                 \n",
            "__________________________________________________________________________________________________\n",
            "batch_normalization_12 (BatchNo (None, 32, 32, 32)   128         conv2d_44[0][0]                  \n",
            "__________________________________________________________________________________________________\n",
            "activation_12 (Activation)      (None, 32, 32, 32)   0           batch_normalization_12[0][0]     \n",
            "__________________________________________________________________________________________________\n",
            "conv2d_45 (Conv2D)              (None, 32, 32, 32)   9248        activation_12[0][0]              \n",
            "__________________________________________________________________________________________________\n",
            "batch_normalization_13 (BatchNo (None, 32, 32, 32)   128         conv2d_45[0][0]                  \n",
            "__________________________________________________________________________________________________\n",
            "activation_13 (Activation)      (None, 32, 32, 32)   0           batch_normalization_13[0][0]     \n",
            "__________________________________________________________________________________________________\n",
            "conv2d_46 (Conv2D)              (None, 32, 32, 1)    33          activation_13[0][0]              \n",
            "==================================================================================================\n",
            "Total params: 2,145,697\n",
            "Trainable params: 2,142,881\n",
            "Non-trainable params: 2,816\n",
            "__________________________________________________________________________________________________\n"
          ],
          "name": "stdout"
        }
      ]
    },
    {
      "cell_type": "code",
      "metadata": {
        "colab_type": "code",
        "outputId": "4b96ab41-2599-4f69-c254-b8aa9d09fb18",
        "id": "yjH_2Dc2Qhet",
        "colab": {
          "base_uri": "https://localhost:8080/",
          "height": 1000
        }
      },
      "source": [
        "history = model.fit(x_train, x_train_mnist,\n",
        "                  \n",
        "                  epochs = 35, batch_size = 50)"
      ],
      "execution_count": 82,
      "outputs": [
        {
          "output_type": "stream",
          "text": [
            "Epoch 1/35\n",
            "360/360 [==============================] - 27s 76ms/step - loss: 0.3498\n",
            "Epoch 2/35\n",
            "360/360 [==============================] - 27s 76ms/step - loss: 0.2736\n",
            "Epoch 3/35\n",
            "360/360 [==============================] - 27s 76ms/step - loss: 0.2670\n",
            "Epoch 4/35\n",
            "360/360 [==============================] - 27s 76ms/step - loss: 0.2639\n",
            "Epoch 5/35\n",
            "360/360 [==============================] - 27s 76ms/step - loss: 0.2616\n",
            "Epoch 6/35\n",
            "360/360 [==============================] - 27s 76ms/step - loss: 0.2592\n",
            "Epoch 7/35\n",
            "360/360 [==============================] - 27s 76ms/step - loss: 0.2561\n",
            "Epoch 8/35\n",
            "360/360 [==============================] - 27s 76ms/step - loss: 0.2532\n",
            "Epoch 9/35\n",
            "360/360 [==============================] - 27s 76ms/step - loss: 0.2497\n",
            "Epoch 10/35\n",
            "360/360 [==============================] - 27s 76ms/step - loss: 0.2454\n",
            "Epoch 11/35\n",
            "360/360 [==============================] - 27s 76ms/step - loss: 0.2407\n",
            "Epoch 12/35\n",
            "360/360 [==============================] - 27s 76ms/step - loss: 0.2363\n",
            "Epoch 13/35\n",
            "360/360 [==============================] - 27s 76ms/step - loss: 0.2311\n",
            "Epoch 14/35\n",
            "360/360 [==============================] - 27s 76ms/step - loss: 0.2263\n",
            "Epoch 15/35\n",
            "360/360 [==============================] - 27s 76ms/step - loss: 0.2215\n",
            "Epoch 16/35\n",
            "360/360 [==============================] - 27s 76ms/step - loss: 0.2170\n",
            "Epoch 17/35\n",
            "360/360 [==============================] - 27s 76ms/step - loss: 0.2127\n",
            "Epoch 18/35\n",
            "360/360 [==============================] - 27s 76ms/step - loss: 0.2084\n",
            "Epoch 19/35\n",
            "360/360 [==============================] - 27s 76ms/step - loss: 0.2045\n",
            "Epoch 20/35\n",
            "360/360 [==============================] - 27s 76ms/step - loss: 0.2011\n",
            "Epoch 21/35\n",
            "360/360 [==============================] - 27s 75ms/step - loss: 0.1976\n",
            "Epoch 22/35\n",
            "360/360 [==============================] - 27s 76ms/step - loss: 0.1948\n",
            "Epoch 23/35\n",
            "360/360 [==============================] - 27s 75ms/step - loss: 0.1914\n",
            "Epoch 24/35\n",
            "360/360 [==============================] - 27s 75ms/step - loss: 0.1894\n",
            "Epoch 25/35\n",
            "360/360 [==============================] - 27s 76ms/step - loss: 0.1861\n",
            "Epoch 26/35\n",
            "360/360 [==============================] - 27s 76ms/step - loss: 0.1839\n",
            "Epoch 27/35\n",
            "360/360 [==============================] - 27s 76ms/step - loss: 0.1826\n",
            "Epoch 28/35\n",
            "360/360 [==============================] - 27s 76ms/step - loss: 0.1799\n",
            "Epoch 29/35\n",
            "360/360 [==============================] - 27s 76ms/step - loss: 0.1775\n",
            "Epoch 30/35\n",
            "360/360 [==============================] - 27s 76ms/step - loss: 0.1760\n",
            "Epoch 31/35\n",
            "360/360 [==============================] - 27s 76ms/step - loss: 0.1741\n",
            "Epoch 32/35\n",
            "360/360 [==============================] - 27s 76ms/step - loss: 0.1725\n",
            "Epoch 33/35\n",
            "360/360 [==============================] - 27s 75ms/step - loss: 0.1709\n",
            "Epoch 34/35\n",
            "360/360 [==============================] - 27s 75ms/step - loss: 0.1696\n",
            "Epoch 35/35\n",
            "360/360 [==============================] - 27s 76ms/step - loss: 0.1679\n"
          ],
          "name": "stdout"
        }
      ]
    },
    {
      "cell_type": "code",
      "metadata": {
        "colab_type": "code",
        "id": "5Mwr0Tf5Qheu",
        "colab": {}
      },
      "source": [
        "#Reconstructing all 20k images\n",
        "recon=np.array(model.predict(X_full))"
      ],
      "execution_count": 0,
      "outputs": []
    },
    {
      "cell_type": "code",
      "metadata": {
        "colab_type": "code",
        "outputId": "a96f8209-ad05-4ee1-b102-bd0907c1aa0c",
        "id": "IvJ5htrdQhex",
        "colab": {
          "base_uri": "https://localhost:8080/",
          "height": 283
        }
      },
      "source": [
        "#Plotting original image\n",
        "from matplotlib import pyplot as plt\n",
        "plt.rcParams[\"axes.grid\"] = False\n",
        "plt.imshow(x_full_mnist[12100,:,:,0],cmap='gray')"
      ],
      "execution_count": 84,
      "outputs": [
        {
          "output_type": "execute_result",
          "data": {
            "text/plain": [
              "<matplotlib.image.AxesImage at 0x7fe038773c18>"
            ]
          },
          "metadata": {
            "tags": []
          },
          "execution_count": 84
        },
        {
          "output_type": "display_data",
          "data": {
            "image/png": "[encoded data removed]",
            "text/plain": [
              "<Figure size 432x288 with 1 Axes>"
            ]
          },
          "metadata": {
            "tags": [],
            "needs_background": "light"
          }
        }
      ]
    },
    {
      "cell_type": "code",
      "metadata": {
        "colab_type": "code",
        "outputId": "dda67ce0-91a7-4dae-c90a-e857420c0c43",
        "id": "MQaoOzh5Qhe0",
        "colab": {
          "base_uri": "https://localhost:8080/",
          "height": 283
        }
      },
      "source": [
        "#Plotting reconstructed image\n",
        "plt.imshow(recon[12100,:,:,0],cmap='gray')"
      ],
      "execution_count": 85,
      "outputs": [
        {
          "output_type": "execute_result",
          "data": {
            "text/plain": [
              "<matplotlib.image.AxesImage at 0x7fe0386c4710>"
            ]
          },
          "metadata": {
            "tags": []
          },
          "execution_count": 85
        },
        {
          "output_type": "display_data",
          "data": {
            "image/png": "[encoded data removed]",
            "text/plain": [
              "<Figure size 432x288 with 1 Axes>"
            ]
          },
          "metadata": {
            "tags": [],
            "needs_background": "light"
          }
        }
      ]
    },
    {
      "cell_type": "code",
      "metadata": {
        "colab_type": "code",
        "outputId": "09d5eba6-3d76-4451-919f-0d8f0d47e1e5",
        "id": "U_YrpAhDQhe2",
        "colab": {
          "base_uri": "https://localhost:8080/",
          "height": 283
        }
      },
      "source": [
        "#Plotting the speckle \n",
        "plt.imshow(X_full[12100,:,:,0],cmap='gray')"
      ],
      "execution_count": 86,
      "outputs": [
        {
          "output_type": "execute_result",
          "data": {
            "text/plain": [
              "<matplotlib.image.AxesImage at 0x7fe039205c50>"
            ]
          },
          "metadata": {
            "tags": []
          },
          "execution_count": 86
        },
        {
          "output_type": "display_data",
          "data": {
            "image/png": "[encoded data removed]",
            "text/plain": [
              "<Figure size 432x288 with 1 Axes>"
            ]
          },
          "metadata": {
            "tags": [],
            "needs_background": "light"
          }
        }
      ]
    },
    {
      "cell_type": "code",
      "metadata": {
        "colab_type": "code",
        "id": "guLl7axcQhe4",
        "colab": {}
      },
      "source": [
        "#Loading labels\n",
        "y =  h5py.File('/content/drive/My Drive/fiber data Crete/1km/Input Phase/processed/32_down_output_class_onehot.h5', 'r')"
      ],
      "execution_count": 0,
      "outputs": []
    },
    {
      "cell_type": "code",
      "metadata": {
        "colab_type": "code",
        "outputId": "825c09bf-e43f-4d96-cb37-4d17793f6644",
        "id": "Hki4KOZ_Qhe6",
        "colab": {
          "base_uri": "https://localhost:8080/",
          "height": 34
        }
      },
      "source": [
        "list(y.keys())"
      ],
      "execution_count": 88,
      "outputs": [
        {
          "output_type": "execute_result",
          "data": {
            "text/plain": [
              "['output_class_onehot']"
            ]
          },
          "metadata": {
            "tags": []
          },
          "execution_count": 88
        }
      ]
    },
    {
      "cell_type": "code",
      "metadata": {
        "colab_type": "code",
        "id": "T61PDfwqQhe7",
        "colab": {}
      },
      "source": [
        "y=y['output_class_onehot']"
      ],
      "execution_count": 0,
      "outputs": []
    },
    {
      "cell_type": "code",
      "metadata": {
        "colab_type": "code",
        "id": "oxQ3l9ULQhfB",
        "colab": {}
      },
      "source": [
        "y=np.array(y)"
      ],
      "execution_count": 0,
      "outputs": []
    },
    {
      "cell_type": "code",
      "metadata": {
        "colab_type": "code",
        "outputId": "abe9f719-b3b7-4cc3-cedd-b0e84f183af7",
        "id": "p2qX7erKQhfE",
        "colab": {
          "base_uri": "https://localhost:8080/",
          "height": 34
        }
      },
      "source": [
        "y.shape"
      ],
      "execution_count": 91,
      "outputs": [
        {
          "output_type": "execute_result",
          "data": {
            "text/plain": [
              "(20000, 10)"
            ]
          },
          "metadata": {
            "tags": []
          },
          "execution_count": 91
        }
      ]
    },
    {
      "cell_type": "code",
      "metadata": {
        "colab_type": "code",
        "outputId": "c754d224-be0d-4861-d095-25851c28e487",
        "id": "12_s_zokQhfI",
        "colab": {
          "base_uri": "https://localhost:8080/",
          "height": 283
        }
      },
      "source": [
        "plt.imshow(recon[19999,:,:,0],cmap='gray')"
      ],
      "execution_count": 92,
      "outputs": [
        {
          "output_type": "execute_result",
          "data": {
            "text/plain": [
              "<matplotlib.image.AxesImage at 0x7fe03b2e7550>"
            ]
          },
          "metadata": {
            "tags": []
          },
          "execution_count": 92
        },
        {
          "output_type": "display_data",
          "data": {
            "image/png": "[encoded data removed]",
            "text/plain": [
              "<Figure size 432x288 with 1 Axes>"
            ]
          },
          "metadata": {
            "tags": [],
            "needs_background": "light"
          }
        }
      ]
    },
    {
      "cell_type": "code",
      "metadata": {
        "colab_type": "code",
        "outputId": "00f12dab-d46d-4f1e-f891-b94c6e86a067",
        "id": "PrB482MOQhfM",
        "colab": {
          "base_uri": "https://localhost:8080/",
          "height": 34
        }
      },
      "source": [
        "y[19999]"
      ],
      "execution_count": 93,
      "outputs": [
        {
          "output_type": "execute_result",
          "data": {
            "text/plain": [
              "array([0., 0., 1., 0., 0., 0., 0., 0., 0., 0.], dtype=float32)"
            ]
          },
          "metadata": {
            "tags": []
          },
          "execution_count": 93
        }
      ]
    },
    {
      "cell_type": "code",
      "metadata": {
        "colab_type": "code",
        "id": "AKzIZiRVQhfN",
        "colab": {}
      },
      "source": [
        "#Splitting data to train and test sets\n",
        "recon_train, recon_test, y_train, y_test = train_test_split(recon, y, test_size = 0.1, random_state = 42)"
      ],
      "execution_count": 0,
      "outputs": []
    },
    {
      "cell_type": "code",
      "metadata": {
        "colab_type": "code",
        "id": "pMAzbt_3Y185",
        "colab": {}
      },
      "source": [
        "#Splitting the test set to test and validation sets\n",
        "recon_train, recon_valid, y_train, y_valid = train_test_split(recon_train, y_train, test_size = 2000, random_state = 42)"
      ],
      "execution_count": 0,
      "outputs": []
    },
    {
      "cell_type": "code",
      "metadata": {
        "colab_type": "code",
        "outputId": "add8b03d-6625-468b-e4bd-00ed27fb8673",
        "id": "uN9nyjb0QhfP",
        "colab": {
          "base_uri": "https://localhost:8080/",
          "height": 119
        }
      },
      "source": [
        "print(recon_train.shape)\n",
        "print(recon_test.shape)\n",
        "print(recon_valid.shape)\n",
        "print(y_train.shape)\n",
        "print(y_test.shape)\n",
        "print(y_valid.shape)"
      ],
      "execution_count": 96,
      "outputs": [
        {
          "output_type": "stream",
          "text": [
            "(16000, 32, 32, 1)\n",
            "(2000, 32, 32, 1)\n",
            "(2000, 32, 32, 1)\n",
            "(16000, 10)\n",
            "(2000, 10)\n",
            "(2000, 10)\n"
          ],
          "name": "stdout"
        }
      ]
    },
    {
      "cell_type": "code",
      "metadata": {
        "colab_type": "code",
        "outputId": "d894e0a2-91a9-4b20-c837-748bd254ba1c",
        "id": "WcOSUz8eQhfQ",
        "colab": {
          "base_uri": "https://localhost:8080/",
          "height": 1000
        }
      },
      "source": [
        "#Classification network\n",
        "from tensorflow.keras.models import Sequential\n",
        "from tensorflow.keras.layers import Conv2D, MaxPool2D, Flatten, Dense, Dropout, BatchNormalization\n",
        "from tensorflow.keras.optimizers import SGD, Adam\n",
        "tf.keras.backend.clear_session\n",
        "\n",
        "\n",
        "model = Sequential()\n",
        "model.add(Conv2D(input_shape=(32,32,1),padding=\"same\",filters=32,kernel_size=(3,3), activation=\"relu\"))\n",
        "model.add(Conv2D(kernel_size=(3,3),padding=\"same\",filters=32, activation=\"relu\"))\n",
        "\n",
        "\n",
        "\n",
        "\n",
        "\n",
        "model.add(Conv2D(kernel_size=(3,3),padding=\"same\",filters=64, activation=\"relu\"))\n",
        "model.add(Conv2D(kernel_size=(3,3),padding=\"same\",filters=64, activation=\"relu\"))\n",
        "model.add(MaxPool2D(pool_size=(2,2),padding = 'same',strides=(2,2)))\n",
        "\n",
        "\n",
        "\n",
        "model.add(Conv2D(kernel_size=(3,3),padding=\"same\",filters=128, activation=\"relu\"))\n",
        "model.add(Conv2D(kernel_size=(3,3),padding=\"same\",filters=128, activation=\"relu\"))\n",
        "model.add(MaxPool2D(pool_size=(2,2),padding = 'same',strides=(2,2)))\n",
        "\n",
        "\n",
        "\n",
        "model.add(Conv2D(kernel_size=(3,3),padding=\"same\",filters=256, activation=\"relu\"))\n",
        "model.add(Conv2D(kernel_size=(3,3),padding=\"same\",filters=256, activation=\"relu\"))\n",
        "model.add(MaxPool2D(pool_size=(2,2),padding = 'same',strides=(2,2)))\n",
        "\n",
        "\n",
        "\n",
        "\n",
        "model.add(Flatten())\n",
        "\n",
        "model.add(Dropout(0.4)) \n",
        "model.add(Dense(256,activation='relu'))\n",
        "\n",
        "model.add(Dense(10, activation = 'softmax'))\n",
        "\n",
        "model.summary()\n",
        "\n",
        "from tensorflow.keras.callbacks import EarlyStopping\n",
        "early_stopping = EarlyStopping(patience = 20, restore_best_weights = True)\n",
        "\n",
        "model.compile(loss = \"categorical_crossentropy\", optimizer = Adam(lr=0.0001), metrics = [\"accuracy\"])\n",
        "history = model.fit(recon_train, y_train,\n",
        "                  validation_data = (recon_valid, y_valid),\n",
        "                  epochs = 50, batch_size = 500, callbacks = [early_stopping])"
      ],
      "execution_count": 97,
      "outputs": [
        {
          "output_type": "stream",
          "text": [
            "Model: \"sequential_4\"\n",
            "_________________________________________________________________\n",
            "Layer (type)                 Output Shape              Param #   \n",
            "=================================================================\n",
            "conv2d_47 (Conv2D)           (None, 32, 32, 32)        320       \n",
            "_________________________________________________________________\n",
            "conv2d_48 (Conv2D)           (None, 32, 32, 32)        9248      \n",
            "_________________________________________________________________\n",
            "conv2d_49 (Conv2D)           (None, 32, 32, 64)        18496     \n",
            "_________________________________________________________________\n",
            "conv2d_50 (Conv2D)           (None, 32, 32, 64)        36928     \n",
            "_________________________________________________________________\n",
            "max_pooling2d_16 (MaxPooling (None, 16, 16, 64)        0         \n",
            "_________________________________________________________________\n",
            "conv2d_51 (Conv2D)           (None, 16, 16, 128)       73856     \n",
            "_________________________________________________________________\n",
            "conv2d_52 (Conv2D)           (None, 16, 16, 128)       147584    \n",
            "_________________________________________________________________\n",
            "max_pooling2d_17 (MaxPooling (None, 8, 8, 128)         0         \n",
            "_________________________________________________________________\n",
            "conv2d_53 (Conv2D)           (None, 8, 8, 256)         295168    \n",
            "_________________________________________________________________\n",
            "conv2d_54 (Conv2D)           (None, 8, 8, 256)         590080    \n",
            "_________________________________________________________________\n",
            "max_pooling2d_18 (MaxPooling (None, 4, 4, 256)         0         \n",
            "_________________________________________________________________\n",
            "flatten_4 (Flatten)          (None, 4096)              0         \n",
            "_________________________________________________________________\n",
            "dropout_11 (Dropout)         (None, 4096)              0         \n",
            "_________________________________________________________________\n",
            "dense_8 (Dense)              (None, 256)               1048832   \n",
            "_________________________________________________________________\n",
            "dense_9 (Dense)              (None, 10)                2570      \n",
            "=================================================================\n",
            "Total params: 2,223,082\n",
            "Trainable params: 2,223,082\n",
            "Non-trainable params: 0\n",
            "_________________________________________________________________\n",
            "Epoch 1/50\n",
            "32/32 [==============================] - 8s 241ms/step - loss: 2.0012 - accuracy: 0.3997 - val_loss: 0.9590 - val_accuracy: 0.7030\n",
            "Epoch 2/50\n",
            "32/32 [==============================] - 8s 236ms/step - loss: 0.8404 - accuracy: 0.7283 - val_loss: 0.6218 - val_accuracy: 0.8100\n",
            "Epoch 3/50\n",
            "32/32 [==============================] - 8s 236ms/step - loss: 0.6220 - accuracy: 0.8092 - val_loss: 0.5338 - val_accuracy: 0.8330\n",
            "Epoch 4/50\n",
            "32/32 [==============================] - 8s 236ms/step - loss: 0.5580 - accuracy: 0.8273 - val_loss: 0.5159 - val_accuracy: 0.8355\n",
            "Epoch 5/50\n",
            "32/32 [==============================] - 8s 237ms/step - loss: 0.5250 - accuracy: 0.8367 - val_loss: 0.4964 - val_accuracy: 0.8430\n",
            "Epoch 6/50\n",
            "32/32 [==============================] - 8s 237ms/step - loss: 0.5019 - accuracy: 0.8431 - val_loss: 0.4854 - val_accuracy: 0.8530\n",
            "Epoch 7/50\n",
            "32/32 [==============================] - 8s 237ms/step - loss: 0.4938 - accuracy: 0.8452 - val_loss: 0.4759 - val_accuracy: 0.8495\n",
            "Epoch 8/50\n",
            "32/32 [==============================] - 8s 237ms/step - loss: 0.4740 - accuracy: 0.8539 - val_loss: 0.4713 - val_accuracy: 0.8565\n",
            "Epoch 9/50\n",
            "32/32 [==============================] - 8s 237ms/step - loss: 0.4675 - accuracy: 0.8526 - val_loss: 0.4677 - val_accuracy: 0.8560\n",
            "Epoch 10/50\n",
            "32/32 [==============================] - 8s 236ms/step - loss: 0.4625 - accuracy: 0.8547 - val_loss: 0.4529 - val_accuracy: 0.8630\n",
            "Epoch 11/50\n",
            "32/32 [==============================] - 8s 237ms/step - loss: 0.4471 - accuracy: 0.8602 - val_loss: 0.4540 - val_accuracy: 0.8605\n",
            "Epoch 12/50\n",
            "32/32 [==============================] - 8s 237ms/step - loss: 0.4452 - accuracy: 0.8625 - val_loss: 0.4526 - val_accuracy: 0.8610\n",
            "Epoch 13/50\n",
            "32/32 [==============================] - 8s 237ms/step - loss: 0.4374 - accuracy: 0.8629 - val_loss: 0.4534 - val_accuracy: 0.8640\n",
            "Epoch 14/50\n",
            "32/32 [==============================] - 8s 236ms/step - loss: 0.4351 - accuracy: 0.8641 - val_loss: 0.4449 - val_accuracy: 0.8660\n",
            "Epoch 15/50\n",
            "32/32 [==============================] - 8s 237ms/step - loss: 0.4281 - accuracy: 0.8657 - val_loss: 0.4408 - val_accuracy: 0.8685\n",
            "Epoch 16/50\n",
            "32/32 [==============================] - 8s 236ms/step - loss: 0.4241 - accuracy: 0.8661 - val_loss: 0.4487 - val_accuracy: 0.8670\n",
            "Epoch 17/50\n",
            "32/32 [==============================] - 8s 236ms/step - loss: 0.4167 - accuracy: 0.8692 - val_loss: 0.4445 - val_accuracy: 0.8670\n",
            "Epoch 18/50\n",
            "32/32 [==============================] - 8s 237ms/step - loss: 0.4101 - accuracy: 0.8701 - val_loss: 0.4396 - val_accuracy: 0.8675\n",
            "Epoch 19/50\n",
            "32/32 [==============================] - 8s 236ms/step - loss: 0.4019 - accuracy: 0.8711 - val_loss: 0.4402 - val_accuracy: 0.8685\n",
            "Epoch 20/50\n",
            "32/32 [==============================] - 8s 236ms/step - loss: 0.4006 - accuracy: 0.8718 - val_loss: 0.4511 - val_accuracy: 0.8630\n",
            "Epoch 21/50\n",
            "32/32 [==============================] - 8s 237ms/step - loss: 0.3976 - accuracy: 0.8746 - val_loss: 0.4346 - val_accuracy: 0.8685\n",
            "Epoch 22/50\n",
            "32/32 [==============================] - 8s 237ms/step - loss: 0.3895 - accuracy: 0.8764 - val_loss: 0.4380 - val_accuracy: 0.8725\n",
            "Epoch 23/50\n",
            "32/32 [==============================] - 8s 237ms/step - loss: 0.3849 - accuracy: 0.8776 - val_loss: 0.4515 - val_accuracy: 0.8680\n",
            "Epoch 24/50\n",
            "32/32 [==============================] - 8s 237ms/step - loss: 0.3805 - accuracy: 0.8780 - val_loss: 0.4441 - val_accuracy: 0.8665\n",
            "Epoch 25/50\n",
            "32/32 [==============================] - 8s 237ms/step - loss: 0.3784 - accuracy: 0.8811 - val_loss: 0.4334 - val_accuracy: 0.8670\n",
            "Epoch 26/50\n",
            "32/32 [==============================] - 8s 236ms/step - loss: 0.3780 - accuracy: 0.8798 - val_loss: 0.4476 - val_accuracy: 0.8705\n",
            "Epoch 27/50\n",
            "32/32 [==============================] - 8s 236ms/step - loss: 0.3709 - accuracy: 0.8806 - val_loss: 0.4427 - val_accuracy: 0.8715\n",
            "Epoch 28/50\n",
            "32/32 [==============================] - 8s 236ms/step - loss: 0.3683 - accuracy: 0.8789 - val_loss: 0.4431 - val_accuracy: 0.8680\n",
            "Epoch 29/50\n",
            "32/32 [==============================] - 8s 236ms/step - loss: 0.3661 - accuracy: 0.8819 - val_loss: 0.4531 - val_accuracy: 0.8655\n",
            "Epoch 30/50\n",
            "32/32 [==============================] - 8s 236ms/step - loss: 0.3609 - accuracy: 0.8831 - val_loss: 0.4361 - val_accuracy: 0.8740\n",
            "Epoch 31/50\n",
            "32/32 [==============================] - 8s 236ms/step - loss: 0.3537 - accuracy: 0.8840 - val_loss: 0.4377 - val_accuracy: 0.8700\n",
            "Epoch 32/50\n",
            "32/32 [==============================] - 8s 236ms/step - loss: 0.3514 - accuracy: 0.8861 - val_loss: 0.4404 - val_accuracy: 0.8705\n",
            "Epoch 33/50\n",
            "32/32 [==============================] - 8s 237ms/step - loss: 0.3547 - accuracy: 0.8848 - val_loss: 0.4441 - val_accuracy: 0.8705\n",
            "Epoch 34/50\n",
            "32/32 [==============================] - 8s 236ms/step - loss: 0.3432 - accuracy: 0.8876 - val_loss: 0.4480 - val_accuracy: 0.8650\n",
            "Epoch 35/50\n",
            "32/32 [==============================] - 8s 236ms/step - loss: 0.3395 - accuracy: 0.8878 - val_loss: 0.4555 - val_accuracy: 0.8730\n",
            "Epoch 36/50\n",
            "32/32 [==============================] - 8s 236ms/step - loss: 0.3325 - accuracy: 0.8899 - val_loss: 0.4475 - val_accuracy: 0.8685\n",
            "Epoch 37/50\n",
            "32/32 [==============================] - 8s 236ms/step - loss: 0.3278 - accuracy: 0.8922 - val_loss: 0.4356 - val_accuracy: 0.8685\n",
            "Epoch 38/50\n",
            "32/32 [==============================] - 8s 236ms/step - loss: 0.3258 - accuracy: 0.8918 - val_loss: 0.4480 - val_accuracy: 0.8635\n",
            "Epoch 39/50\n",
            "32/32 [==============================] - 8s 236ms/step - loss: 0.3188 - accuracy: 0.8938 - val_loss: 0.4653 - val_accuracy: 0.8685\n",
            "Epoch 40/50\n",
            "32/32 [==============================] - 8s 236ms/step - loss: 0.3156 - accuracy: 0.8961 - val_loss: 0.4687 - val_accuracy: 0.8670\n",
            "Epoch 41/50\n",
            "32/32 [==============================] - 8s 236ms/step - loss: 0.3138 - accuracy: 0.8941 - val_loss: 0.4658 - val_accuracy: 0.8680\n",
            "Epoch 42/50\n",
            "32/32 [==============================] - 8s 236ms/step - loss: 0.3101 - accuracy: 0.8947 - val_loss: 0.4558 - val_accuracy: 0.8630\n",
            "Epoch 43/50\n",
            "32/32 [==============================] - 8s 236ms/step - loss: 0.3025 - accuracy: 0.8993 - val_loss: 0.4674 - val_accuracy: 0.8690\n",
            "Epoch 44/50\n",
            "32/32 [==============================] - 8s 235ms/step - loss: 0.2962 - accuracy: 0.8981 - val_loss: 0.4711 - val_accuracy: 0.8670\n",
            "Epoch 45/50\n",
            "32/32 [==============================] - 8s 236ms/step - loss: 0.2960 - accuracy: 0.9011 - val_loss: 0.4656 - val_accuracy: 0.8720\n"
          ],
          "name": "stdout"
        }
      ]
    },
    {
      "cell_type": "code",
      "metadata": {
        "colab_type": "code",
        "outputId": "1c98c806-2c26-4b61-8d7d-e14c9d37fc79",
        "id": "TalbSXmcQhfS",
        "colab": {
          "base_uri": "https://localhost:8080/",
          "height": 51
        }
      },
      "source": [
        "model.evaluate(recon_test,y_test)"
      ],
      "execution_count": 98,
      "outputs": [
        {
          "output_type": "stream",
          "text": [
            "63/63 [==============================] - 1s 11ms/step - loss: 1.1703 - accuracy: 0.6720\n"
          ],
          "name": "stdout"
        },
        {
          "output_type": "execute_result",
          "data": {
            "text/plain": [
              "[1.1703037023544312, 0.671999990940094]"
            ]
          },
          "metadata": {
            "tags": []
          },
          "execution_count": 98
        }
      ]
    },
    {
      "cell_type": "markdown",
      "metadata": {
        "colab_type": "text",
        "id": "117agowmPqNd"
      },
      "source": [
        "##2. 1km Input Amplitude##"
      ]
    },
    {
      "cell_type": "code",
      "metadata": {
        "colab_type": "code",
        "id": "DPVorO3QNsVt",
        "colab": {}
      },
      "source": [
        "#Loading mnist\n",
        "from keras.datasets import mnist"
      ],
      "execution_count": 0,
      "outputs": []
    },
    {
      "cell_type": "code",
      "metadata": {
        "colab_type": "code",
        "id": "77_ddXZoPZiM",
        "colab": {}
      },
      "source": [
        "(x_full_mnist, _), (_, _) = mnist.load_data()"
      ],
      "execution_count": 0,
      "outputs": []
    },
    {
      "cell_type": "code",
      "metadata": {
        "colab_type": "code",
        "id": "Ojeu1ZF3PZiP",
        "colab": {}
      },
      "source": [
        "x_full_mnist=np.array(x_full_mnist)"
      ],
      "execution_count": 0,
      "outputs": []
    },
    {
      "cell_type": "code",
      "metadata": {
        "colab_type": "code",
        "id": "VA5pkn2jPZiR",
        "colab": {}
      },
      "source": [
        "#Saving the first 20k images\n",
        "x_full_mnist=x_full_mnist[:20000]"
      ],
      "execution_count": 0,
      "outputs": []
    },
    {
      "cell_type": "code",
      "metadata": {
        "colab_type": "code",
        "outputId": "cd71f551-8d49-482f-d020-11f2d52ef5e7",
        "id": "3CuhNN8aPZiU",
        "colab": {
          "base_uri": "https://localhost:8080/",
          "height": 34
        }
      },
      "source": [
        "x_full_mnist.shape"
      ],
      "execution_count": 103,
      "outputs": [
        {
          "output_type": "execute_result",
          "data": {
            "text/plain": [
              "(20000, 28, 28)"
            ]
          },
          "metadata": {
            "tags": []
          },
          "execution_count": 103
        }
      ]
    },
    {
      "cell_type": "code",
      "metadata": {
        "colab_type": "code",
        "id": "WDOvsmHyPZiX",
        "colab": {}
      },
      "source": [
        "#Resizing the images form (28,28) to (32,32,1)\n",
        "x_full_mnist = resize(x_full_mnist,(20000,32,32,1))"
      ],
      "execution_count": 0,
      "outputs": []
    },
    {
      "cell_type": "code",
      "metadata": {
        "colab_type": "code",
        "outputId": "917e2b2d-6183-4600-ca0e-8cb9a0aacefd",
        "id": "SJy0M7Z9PZiZ",
        "colab": {
          "base_uri": "https://localhost:8080/",
          "height": 34
        }
      },
      "source": [
        "x_full_mnist.shape"
      ],
      "execution_count": 105,
      "outputs": [
        {
          "output_type": "execute_result",
          "data": {
            "text/plain": [
              "(20000, 32, 32, 1)"
            ]
          },
          "metadata": {
            "tags": []
          },
          "execution_count": 105
        }
      ]
    },
    {
      "cell_type": "code",
      "metadata": {
        "colab_type": "code",
        "outputId": "9d679819-071d-45ae-e8e9-7a2fa4984f4b",
        "id": "auqk6-DYPZic",
        "colab": {
          "base_uri": "https://localhost:8080/",
          "height": 283
        }
      },
      "source": [
        "plt.rcParams[\"axes.grid\"] = False\n",
        "plt.imshow(x_full_mnist[4,:,:,0],cmap='gray')"
      ],
      "execution_count": 106,
      "outputs": [
        {
          "output_type": "execute_result",
          "data": {
            "text/plain": [
              "<matplotlib.image.AxesImage at 0x7fe03b2291d0>"
            ]
          },
          "metadata": {
            "tags": []
          },
          "execution_count": 106
        },
        {
          "output_type": "display_data",
          "data": {
            "image/png": "[encoded data removed]",
            "text/plain": [
              "<Figure size 432x288 with 1 Axes>"
            ]
          },
          "metadata": {
            "tags": [],
            "needs_background": "light"
          }
        }
      ]
    },
    {
      "cell_type": "code",
      "metadata": {
        "colab_type": "code",
        "outputId": "99d50344-6da3-450b-df77-8a99a7efde66",
        "id": "BYbH8TQqPZie",
        "colab": {
          "base_uri": "https://localhost:8080/",
          "height": 34
        }
      },
      "source": [
        "#Loading speckles from dataset\n",
        "X = h5py.File('/content/drive/My Drive/fiber data Crete/1km/Input Amplitude/processed/32_down_input_data.h5', 'r')\n",
        "list(X.keys())"
      ],
      "execution_count": 107,
      "outputs": [
        {
          "output_type": "execute_result",
          "data": {
            "text/plain": [
              "['input_data']"
            ]
          },
          "metadata": {
            "tags": []
          },
          "execution_count": 107
        }
      ]
    },
    {
      "cell_type": "code",
      "metadata": {
        "colab_type": "code",
        "id": "JaCZo8efPZih",
        "colab": {}
      },
      "source": [
        "X=X['input_data']\n",
        "X_full=np.array(X)\n"
      ],
      "execution_count": 0,
      "outputs": []
    },
    {
      "cell_type": "code",
      "metadata": {
        "colab_type": "code",
        "outputId": "91d0ecd3-6470-41c6-b49f-fc071c80f095",
        "id": "CpEXMG7qPZij",
        "colab": {
          "base_uri": "https://localhost:8080/",
          "height": 51
        }
      },
      "source": [
        "print(X_full.shape)\n",
        "print(x_full_mnist.shape)"
      ],
      "execution_count": 109,
      "outputs": [
        {
          "output_type": "stream",
          "text": [
            "(20000, 32, 32, 1)\n",
            "(20000, 32, 32, 1)\n"
          ],
          "name": "stdout"
        }
      ]
    },
    {
      "cell_type": "code",
      "metadata": {
        "colab_type": "code",
        "id": "P5K6tvIcPZim",
        "colab": {}
      },
      "source": [
        "#Splitting data to train and test sets\n",
        "x_train, x_test, x_train_mnist, x_test_mnist = train_test_split(X_full, x_full_mnist, test_size = 0.2, random_state = 42)\n"
      ],
      "execution_count": 0,
      "outputs": []
    },
    {
      "cell_type": "code",
      "metadata": {
        "colab_type": "code",
        "id": "6ym6wwZgPZiq",
        "colab": {}
      },
      "source": [
        "#Splitting test set to test and validation sets\n",
        "x_test, x_valid, x_test_mnist, x_valid_mnist = train_test_split(x_test, x_test_mnist, test_size = 0.5, random_state = 42)"
      ],
      "execution_count": 0,
      "outputs": []
    },
    {
      "cell_type": "code",
      "metadata": {
        "colab_type": "code",
        "id": "sqSTnTTdPZis",
        "colab": {}
      },
      "source": [
        "#Now the images are split in the same way as earlier, so the 2k images of the test set are the same and will not be used when training the u-net\n",
        "#Combining validation and train sets into one training set (Since we won't be using a validation set when training the u-net)\n",
        "x_train=np.concatenate((x_train,x_valid))\n",
        "x_train_mnist=np.concatenate((x_train_mnist,x_valid_mnist))"
      ],
      "execution_count": 0,
      "outputs": []
    },
    {
      "cell_type": "code",
      "metadata": {
        "colab_type": "code",
        "outputId": "10b7428e-baf2-4f69-dd02-9924f5484d47",
        "id": "S9VBfwq7PZiu",
        "colab": {
          "base_uri": "https://localhost:8080/",
          "height": 85
        }
      },
      "source": [
        "print(x_train.shape)\n",
        "print(x_test.shape)\n",
        "#print(x_valid.shape)\n",
        "print(x_train_mnist.shape)\n",
        "print(x_test_mnist.shape)\n",
        "#print(y_valid.shape)"
      ],
      "execution_count": 113,
      "outputs": [
        {
          "output_type": "stream",
          "text": [
            "(18000, 32, 32, 1)\n",
            "(2000, 32, 32, 1)\n",
            "(18000, 32, 32, 1)\n",
            "(2000, 32, 32, 1)\n"
          ],
          "name": "stdout"
        }
      ]
    },
    {
      "cell_type": "code",
      "metadata": {
        "colab_type": "code",
        "id": "NhTFTSU2PZiw",
        "colab": {}
      },
      "source": [
        "#U-net\n",
        "tf.keras.backend.clear_session\n",
        "def conv2d_block(input_tensor, n_filters, kernel_size=3, batchnorm=True):\n",
        "     #first layer\n",
        "    x = Conv2D(filters=n_filters, kernel_size=(kernel_size, kernel_size), kernel_initializer=\"he_normal\",\n",
        "               padding=\"same\")(input_tensor)\n",
        "    if batchnorm:\n",
        "        x = BatchNormalization()(x)\n",
        "    x = Activation(\"relu\")(x)\n",
        "    # second layer\n",
        "    x = Conv2D(filters=n_filters, kernel_size=(kernel_size, kernel_size), kernel_initializer=\"he_normal\",\n",
        "               padding=\"same\")(x)\n",
        "    if batchnorm:\n",
        "        x = BatchNormalization()(x)\n",
        "    x = Activation(\"relu\")(x)\n",
        "    return x"
      ],
      "execution_count": 0,
      "outputs": []
    },
    {
      "cell_type": "code",
      "metadata": {
        "colab_type": "code",
        "id": "jLQ43r2oPZiy",
        "colab": {}
      },
      "source": [
        "def get_unet(input_img, n_filters=32, dropout=0.5, batchnorm=True):\n",
        "    \n",
        "    c1 = conv2d_block(input_img, n_filters=n_filters*1, kernel_size=3, batchnorm=batchnorm)\n",
        "    p1 = MaxPooling2D((1, 1)) (c1)\n",
        "    p1 = Dropout(dropout*0.5)(p1)\n",
        "\n",
        "    c2 = conv2d_block(p1, n_filters=n_filters*2, kernel_size=3, batchnorm=batchnorm)\n",
        "    p2 = MaxPooling2D((2, 2)) (c2)\n",
        "    p2 = Dropout(dropout)(p2)\n",
        "\n",
        "    c3 = conv2d_block(p2, n_filters=n_filters*4, kernel_size=3, batchnorm=batchnorm)\n",
        "    p3 = MaxPooling2D((2, 2)) (c3)\n",
        "    p3 = Dropout(dropout)(p3)\n",
        "\n",
        "    c4 = conv2d_block(p3, n_filters=n_filters*8, kernel_size=3, batchnorm=batchnorm)\n",
        "    p4 = MaxPooling2D(pool_size=(2, 2)) (c4)\n",
        "    p4 = Dropout(dropout)(p4)\n",
        "    \n",
        "    ##\n",
        "\n",
        "    u7 = Conv2DTranspose(n_filters*4, (3, 3), strides=(2, 2), padding='same') (p4)\n",
        "    u7 = concatenate([u7, p3])\n",
        "    u7 = Dropout(dropout)(u7)\n",
        "    c7 = conv2d_block(u7, n_filters=n_filters*4, kernel_size=3, batchnorm=batchnorm)\n",
        "\n",
        "    u8 = Conv2DTranspose(n_filters*2, (3, 3), strides=(2, 2), padding='same') (c7)\n",
        "    u8 = concatenate([u8, p2])\n",
        "    u8 = Dropout(dropout)(u8)\n",
        "    c8 = conv2d_block(u8, n_filters=n_filters*2, kernel_size=3, batchnorm=batchnorm)\n",
        "\n",
        "    u9 = Conv2DTranspose(n_filters*1, (3, 3), strides=(2, 2), padding='same') (c8)\n",
        "    u9 = concatenate([u9, p1], axis=3)\n",
        "    u9 = Dropout(dropout)(u9)\n",
        "    c9 = conv2d_block(u9, n_filters=n_filters*1, kernel_size=3, batchnorm=batchnorm)\n",
        "    \n",
        "    outputs = Conv2D(1, (1, 1), activation='sigmoid') (c9)\n",
        "    model = Model(inputs=[input_img], outputs=[outputs])\n",
        "    return model"
      ],
      "execution_count": 0,
      "outputs": []
    },
    {
      "cell_type": "code",
      "metadata": {
        "colab_type": "code",
        "outputId": "b8e45ca3-1a97-4c14-e70e-a19daa26ffb7",
        "id": "-ezP0rHlPZi1",
        "colab": {
          "base_uri": "https://localhost:8080/",
          "height": 1000
        }
      },
      "source": [
        "input_img = Input((32, 32, 1), name='img')\n",
        "model = get_unet(input_img, n_filters=32, dropout=0.05, batchnorm=True)\n",
        "\n",
        "model.compile(optimizer=Adam(lr=0.0004), loss=\"binary_crossentropy\")\n",
        "model.summary()\n"
      ],
      "execution_count": 116,
      "outputs": [
        {
          "output_type": "stream",
          "text": [
            "Model: \"model_1\"\n",
            "__________________________________________________________________________________________________\n",
            "Layer (type)                    Output Shape         Param #     Connected to                     \n",
            "==================================================================================================\n",
            "img (InputLayer)                [(None, 32, 32, 1)]  0                                            \n",
            "__________________________________________________________________________________________________\n",
            "conv2d_55 (Conv2D)              (None, 32, 32, 32)   320         img[0][0]                        \n",
            "__________________________________________________________________________________________________\n",
            "batch_normalization_14 (BatchNo (None, 32, 32, 32)   128         conv2d_55[0][0]                  \n",
            "__________________________________________________________________________________________________\n",
            "activation_14 (Activation)      (None, 32, 32, 32)   0           batch_normalization_14[0][0]     \n",
            "__________________________________________________________________________________________________\n",
            "conv2d_56 (Conv2D)              (None, 32, 32, 32)   9248        activation_14[0][0]              \n",
            "__________________________________________________________________________________________________\n",
            "batch_normalization_15 (BatchNo (None, 32, 32, 32)   128         conv2d_56[0][0]                  \n",
            "__________________________________________________________________________________________________\n",
            "activation_15 (Activation)      (None, 32, 32, 32)   0           batch_normalization_15[0][0]     \n",
            "__________________________________________________________________________________________________\n",
            "max_pooling2d_19 (MaxPooling2D) (None, 32, 32, 32)   0           activation_15[0][0]              \n",
            "__________________________________________________________________________________________________\n",
            "dropout_12 (Dropout)            (None, 32, 32, 32)   0           max_pooling2d_19[0][0]           \n",
            "__________________________________________________________________________________________________\n",
            "conv2d_57 (Conv2D)              (None, 32, 32, 64)   18496       dropout_12[0][0]                 \n",
            "__________________________________________________________________________________________________\n",
            "batch_normalization_16 (BatchNo (None, 32, 32, 64)   256         conv2d_57[0][0]                  \n",
            "__________________________________________________________________________________________________\n",
            "activation_16 (Activation)      (None, 32, 32, 64)   0           batch_normalization_16[0][0]     \n",
            "__________________________________________________________________________________________________\n",
            "conv2d_58 (Conv2D)              (None, 32, 32, 64)   36928       activation_16[0][0]              \n",
            "__________________________________________________________________________________________________\n",
            "batch_normalization_17 (BatchNo (None, 32, 32, 64)   256         conv2d_58[0][0]                  \n",
            "__________________________________________________________________________________________________\n",
            "activation_17 (Activation)      (None, 32, 32, 64)   0           batch_normalization_17[0][0]     \n",
            "__________________________________________________________________________________________________\n",
            "max_pooling2d_20 (MaxPooling2D) (None, 16, 16, 64)   0           activation_17[0][0]              \n",
            "__________________________________________________________________________________________________\n",
            "dropout_13 (Dropout)            (None, 16, 16, 64)   0           max_pooling2d_20[0][0]           \n",
            "__________________________________________________________________________________________________\n",
            "conv2d_59 (Conv2D)              (None, 16, 16, 128)  73856       dropout_13[0][0]                 \n",
            "__________________________________________________________________________________________________\n",
            "batch_normalization_18 (BatchNo (None, 16, 16, 128)  512         conv2d_59[0][0]                  \n",
            "__________________________________________________________________________________________________\n",
            "activation_18 (Activation)      (None, 16, 16, 128)  0           batch_normalization_18[0][0]     \n",
            "__________________________________________________________________________________________________\n",
            "conv2d_60 (Conv2D)              (None, 16, 16, 128)  147584      activation_18[0][0]              \n",
            "__________________________________________________________________________________________________\n",
            "batch_normalization_19 (BatchNo (None, 16, 16, 128)  512         conv2d_60[0][0]                  \n",
            "__________________________________________________________________________________________________\n",
            "activation_19 (Activation)      (None, 16, 16, 128)  0           batch_normalization_19[0][0]     \n",
            "__________________________________________________________________________________________________\n",
            "max_pooling2d_21 (MaxPooling2D) (None, 8, 8, 128)    0           activation_19[0][0]              \n",
            "__________________________________________________________________________________________________\n",
            "dropout_14 (Dropout)            (None, 8, 8, 128)    0           max_pooling2d_21[0][0]           \n",
            "__________________________________________________________________________________________________\n",
            "conv2d_61 (Conv2D)              (None, 8, 8, 256)    295168      dropout_14[0][0]                 \n",
            "__________________________________________________________________________________________________\n",
            "batch_normalization_20 (BatchNo (None, 8, 8, 256)    1024        conv2d_61[0][0]                  \n",
            "__________________________________________________________________________________________________\n",
            "activation_20 (Activation)      (None, 8, 8, 256)    0           batch_normalization_20[0][0]     \n",
            "__________________________________________________________________________________________________\n",
            "conv2d_62 (Conv2D)              (None, 8, 8, 256)    590080      activation_20[0][0]              \n",
            "__________________________________________________________________________________________________\n",
            "batch_normalization_21 (BatchNo (None, 8, 8, 256)    1024        conv2d_62[0][0]                  \n",
            "__________________________________________________________________________________________________\n",
            "activation_21 (Activation)      (None, 8, 8, 256)    0           batch_normalization_21[0][0]     \n",
            "__________________________________________________________________________________________________\n",
            "max_pooling2d_22 (MaxPooling2D) (None, 4, 4, 256)    0           activation_21[0][0]              \n",
            "__________________________________________________________________________________________________\n",
            "dropout_15 (Dropout)            (None, 4, 4, 256)    0           max_pooling2d_22[0][0]           \n",
            "__________________________________________________________________________________________________\n",
            "conv2d_transpose_3 (Conv2DTrans (None, 8, 8, 128)    295040      dropout_15[0][0]                 \n",
            "__________________________________________________________________________________________________\n",
            "concatenate_3 (Concatenate)     (None, 8, 8, 256)    0           conv2d_transpose_3[0][0]         \n",
            "                                                                 dropout_14[0][0]                 \n",
            "__________________________________________________________________________________________________\n",
            "dropout_16 (Dropout)            (None, 8, 8, 256)    0           concatenate_3[0][0]              \n",
            "__________________________________________________________________________________________________\n",
            "conv2d_63 (Conv2D)              (None, 8, 8, 128)    295040      dropout_16[0][0]                 \n",
            "__________________________________________________________________________________________________\n",
            "batch_normalization_22 (BatchNo (None, 8, 8, 128)    512         conv2d_63[0][0]                  \n",
            "__________________________________________________________________________________________________\n",
            "activation_22 (Activation)      (None, 8, 8, 128)    0           batch_normalization_22[0][0]     \n",
            "__________________________________________________________________________________________________\n",
            "conv2d_64 (Conv2D)              (None, 8, 8, 128)    147584      activation_22[0][0]              \n",
            "__________________________________________________________________________________________________\n",
            "batch_normalization_23 (BatchNo (None, 8, 8, 128)    512         conv2d_64[0][0]                  \n",
            "__________________________________________________________________________________________________\n",
            "activation_23 (Activation)      (None, 8, 8, 128)    0           batch_normalization_23[0][0]     \n",
            "__________________________________________________________________________________________________\n",
            "conv2d_transpose_4 (Conv2DTrans (None, 16, 16, 64)   73792       activation_23[0][0]              \n",
            "__________________________________________________________________________________________________\n",
            "concatenate_4 (Concatenate)     (None, 16, 16, 128)  0           conv2d_transpose_4[0][0]         \n",
            "                                                                 dropout_13[0][0]                 \n",
            "__________________________________________________________________________________________________\n",
            "dropout_17 (Dropout)            (None, 16, 16, 128)  0           concatenate_4[0][0]              \n",
            "__________________________________________________________________________________________________\n",
            "conv2d_65 (Conv2D)              (None, 16, 16, 64)   73792       dropout_17[0][0]                 \n",
            "__________________________________________________________________________________________________\n",
            "batch_normalization_24 (BatchNo (None, 16, 16, 64)   256         conv2d_65[0][0]                  \n",
            "__________________________________________________________________________________________________\n",
            "activation_24 (Activation)      (None, 16, 16, 64)   0           batch_normalization_24[0][0]     \n",
            "__________________________________________________________________________________________________\n",
            "conv2d_66 (Conv2D)              (None, 16, 16, 64)   36928       activation_24[0][0]              \n",
            "__________________________________________________________________________________________________\n",
            "batch_normalization_25 (BatchNo (None, 16, 16, 64)   256         conv2d_66[0][0]                  \n",
            "__________________________________________________________________________________________________\n",
            "activation_25 (Activation)      (None, 16, 16, 64)   0           batch_normalization_25[0][0]     \n",
            "__________________________________________________________________________________________________\n",
            "conv2d_transpose_5 (Conv2DTrans (None, 32, 32, 32)   18464       activation_25[0][0]              \n",
            "__________________________________________________________________________________________________\n",
            "concatenate_5 (Concatenate)     (None, 32, 32, 64)   0           conv2d_transpose_5[0][0]         \n",
            "                                                                 dropout_12[0][0]                 \n",
            "__________________________________________________________________________________________________\n",
            "dropout_18 (Dropout)            (None, 32, 32, 64)   0           concatenate_5[0][0]              \n",
            "__________________________________________________________________________________________________\n",
            "conv2d_67 (Conv2D)              (None, 32, 32, 32)   18464       dropout_18[0][0]                 \n",
            "__________________________________________________________________________________________________\n",
            "batch_normalization_26 (BatchNo (None, 32, 32, 32)   128         conv2d_67[0][0]                  \n",
            "__________________________________________________________________________________________________\n",
            "activation_26 (Activation)      (None, 32, 32, 32)   0           batch_normalization_26[0][0]     \n",
            "__________________________________________________________________________________________________\n",
            "conv2d_68 (Conv2D)              (None, 32, 32, 32)   9248        activation_26[0][0]              \n",
            "__________________________________________________________________________________________________\n",
            "batch_normalization_27 (BatchNo (None, 32, 32, 32)   128         conv2d_68[0][0]                  \n",
            "__________________________________________________________________________________________________\n",
            "activation_27 (Activation)      (None, 32, 32, 32)   0           batch_normalization_27[0][0]     \n",
            "__________________________________________________________________________________________________\n",
            "conv2d_69 (Conv2D)              (None, 32, 32, 1)    33          activation_27[0][0]              \n",
            "==================================================================================================\n",
            "Total params: 2,145,697\n",
            "Trainable params: 2,142,881\n",
            "Non-trainable params: 2,816\n",
            "__________________________________________________________________________________________________\n"
          ],
          "name": "stdout"
        }
      ]
    },
    {
      "cell_type": "code",
      "metadata": {
        "colab_type": "code",
        "outputId": "bc1825a1-e07e-403d-92ef-60436797a474",
        "id": "Ch0JM5lVPZi4",
        "colab": {
          "base_uri": "https://localhost:8080/",
          "height": 1000
        }
      },
      "source": [
        "history = model.fit(x_train, x_train_mnist,\n",
        "                  \n",
        "                  epochs = 35, batch_size = 50)"
      ],
      "execution_count": 117,
      "outputs": [
        {
          "output_type": "stream",
          "text": [
            "Epoch 1/35\n",
            "360/360 [==============================] - 27s 76ms/step - loss: 0.2874\n",
            "Epoch 2/35\n",
            "360/360 [==============================] - 27s 75ms/step - loss: 0.2534\n",
            "Epoch 3/35\n",
            "360/360 [==============================] - 27s 76ms/step - loss: 0.2487\n",
            "Epoch 4/35\n",
            "360/360 [==============================] - 27s 76ms/step - loss: 0.2430\n",
            "Epoch 5/35\n",
            "360/360 [==============================] - 27s 76ms/step - loss: 0.2358\n",
            "Epoch 6/35\n",
            "360/360 [==============================] - 27s 76ms/step - loss: 0.2280\n",
            "Epoch 7/35\n",
            "360/360 [==============================] - 27s 75ms/step - loss: 0.2208\n",
            "Epoch 8/35\n",
            "360/360 [==============================] - 27s 75ms/step - loss: 0.2140\n",
            "Epoch 9/35\n",
            "360/360 [==============================] - 27s 75ms/step - loss: 0.2079\n",
            "Epoch 10/35\n",
            "360/360 [==============================] - 27s 76ms/step - loss: 0.2019\n",
            "Epoch 11/35\n",
            "360/360 [==============================] - 27s 75ms/step - loss: 0.1971\n",
            "Epoch 12/35\n",
            "360/360 [==============================] - 27s 75ms/step - loss: 0.1923\n",
            "Epoch 13/35\n",
            "360/360 [==============================] - 27s 75ms/step - loss: 0.1880\n",
            "Epoch 14/35\n",
            "360/360 [==============================] - 27s 76ms/step - loss: 0.1844\n",
            "Epoch 15/35\n",
            "360/360 [==============================] - 27s 75ms/step - loss: 0.1808\n",
            "Epoch 16/35\n",
            "360/360 [==============================] - 27s 76ms/step - loss: 0.1780\n",
            "Epoch 17/35\n",
            "360/360 [==============================] - 27s 75ms/step - loss: 0.1750\n",
            "Epoch 18/35\n",
            "360/360 [==============================] - 27s 76ms/step - loss: 0.1728\n",
            "Epoch 19/35\n",
            "360/360 [==============================] - 27s 75ms/step - loss: 0.1702\n",
            "Epoch 20/35\n",
            "360/360 [==============================] - 27s 75ms/step - loss: 0.1680\n",
            "Epoch 21/35\n",
            "360/360 [==============================] - 27s 76ms/step - loss: 0.1660\n",
            "Epoch 22/35\n",
            "360/360 [==============================] - 27s 76ms/step - loss: 0.1642\n",
            "Epoch 23/35\n",
            "360/360 [==============================] - 27s 75ms/step - loss: 0.1625\n",
            "Epoch 24/35\n",
            "360/360 [==============================] - 27s 76ms/step - loss: 0.1608\n",
            "Epoch 25/35\n",
            "360/360 [==============================] - 27s 76ms/step - loss: 0.1592\n",
            "Epoch 26/35\n",
            "360/360 [==============================] - 27s 76ms/step - loss: 0.1576\n",
            "Epoch 27/35\n",
            "360/360 [==============================] - 27s 76ms/step - loss: 0.1565\n",
            "Epoch 28/35\n",
            "360/360 [==============================] - 27s 76ms/step - loss: 0.1550\n",
            "Epoch 29/35\n",
            "360/360 [==============================] - 27s 76ms/step - loss: 0.1538\n",
            "Epoch 30/35\n",
            "360/360 [==============================] - 27s 75ms/step - loss: 0.1527\n",
            "Epoch 31/35\n",
            "360/360 [==============================] - 27s 75ms/step - loss: 0.1518\n",
            "Epoch 32/35\n",
            "360/360 [==============================] - 27s 75ms/step - loss: 0.1505\n",
            "Epoch 33/35\n",
            "360/360 [==============================] - 27s 75ms/step - loss: 0.1498\n",
            "Epoch 34/35\n",
            "360/360 [==============================] - 27s 75ms/step - loss: 0.1489\n",
            "Epoch 35/35\n",
            "360/360 [==============================] - 27s 75ms/step - loss: 0.1479\n"
          ],
          "name": "stdout"
        }
      ]
    },
    {
      "cell_type": "code",
      "metadata": {
        "colab_type": "code",
        "id": "lxdeuG7kPZi7",
        "colab": {}
      },
      "source": [
        "#Reconstructing all 20k images\n",
        "recon=np.array(model.predict(X_full))"
      ],
      "execution_count": 0,
      "outputs": []
    },
    {
      "cell_type": "code",
      "metadata": {
        "colab_type": "code",
        "outputId": "6faaece9-945a-476a-b3ba-eebce6e7d201",
        "id": "XMFjyuKFPZi-",
        "colab": {
          "base_uri": "https://localhost:8080/",
          "height": 283
        }
      },
      "source": [
        "#Plotting original image\n",
        "from matplotlib import pyplot as plt\n",
        "plt.rcParams[\"axes.grid\"] = False\n",
        "plt.imshow(x_full_mnist[12100,:,:,0],cmap='gray')"
      ],
      "execution_count": 119,
      "outputs": [
        {
          "output_type": "execute_result",
          "data": {
            "text/plain": [
              "<matplotlib.image.AxesImage at 0x7fe03c361518>"
            ]
          },
          "metadata": {
            "tags": []
          },
          "execution_count": 119
        },
        {
          "output_type": "display_data",
          "data": {
            "image/png": "[encoded data removed]",
            "text/plain": [
              "<Figure size 432x288 with 1 Axes>"
            ]
          },
          "metadata": {
            "tags": [],
            "needs_background": "light"
          }
        }
      ]
    },
    {
      "cell_type": "code",
      "metadata": {
        "colab_type": "code",
        "outputId": "1b585e7e-116a-486c-9c44-72191ce76e6c",
        "id": "PdHbLDdnPZjB",
        "colab": {
          "base_uri": "https://localhost:8080/",
          "height": 283
        }
      },
      "source": [
        "#Plotting reconstructed image\n",
        "plt.imshow(recon[12100,:,:,0],cmap='gray')"
      ],
      "execution_count": 120,
      "outputs": [
        {
          "output_type": "execute_result",
          "data": {
            "text/plain": [
              "<matplotlib.image.AxesImage at 0x7fe0390fc390>"
            ]
          },
          "metadata": {
            "tags": []
          },
          "execution_count": 120
        },
        {
          "output_type": "display_data",
          "data": {
            "image/png": "[encoded data removed]",
            "text/plain": [
              "<Figure size 432x288 with 1 Axes>"
            ]
          },
          "metadata": {
            "tags": [],
            "needs_background": "light"
          }
        }
      ]
    },
    {
      "cell_type": "code",
      "metadata": {
        "colab_type": "code",
        "outputId": "602818d4-360d-4ada-ddf0-b04504d09d9e",
        "id": "HZu5dC3FPZjE",
        "colab": {
          "base_uri": "https://localhost:8080/",
          "height": 283
        }
      },
      "source": [
        "#Plotting the speckle \n",
        "plt.imshow(X_full[12100,:,:,0],cmap='gray')"
      ],
      "execution_count": 121,
      "outputs": [
        {
          "output_type": "execute_result",
          "data": {
            "text/plain": [
              "<matplotlib.image.AxesImage at 0x7fe0388ce908>"
            ]
          },
          "metadata": {
            "tags": []
          },
          "execution_count": 121
        },
        {
          "output_type": "display_data",
          "data": {
            "image/png": "[encoded data removed]",
            "text/plain": [
              "<Figure size 432x288 with 1 Axes>"
            ]
          },
          "metadata": {
            "tags": [],
            "needs_background": "light"
          }
        }
      ]
    },
    {
      "cell_type": "code",
      "metadata": {
        "colab_type": "code",
        "id": "87cQN-swPZjJ",
        "colab": {}
      },
      "source": [
        "#Loading labels\n",
        "y =  h5py.File('/content/drive/My Drive/fiber data Crete/1km/Input Amplitude/processed/32_down_output_class_onehot.h5', 'r')"
      ],
      "execution_count": 0,
      "outputs": []
    },
    {
      "cell_type": "code",
      "metadata": {
        "colab_type": "code",
        "outputId": "0cb27a51-29f1-452e-b252-2922de460039",
        "id": "xZZd0IUcPZjL",
        "colab": {
          "base_uri": "https://localhost:8080/",
          "height": 34
        }
      },
      "source": [
        "list(y.keys())"
      ],
      "execution_count": 123,
      "outputs": [
        {
          "output_type": "execute_result",
          "data": {
            "text/plain": [
              "['output_class_onehot']"
            ]
          },
          "metadata": {
            "tags": []
          },
          "execution_count": 123
        }
      ]
    },
    {
      "cell_type": "code",
      "metadata": {
        "colab_type": "code",
        "id": "mh9wLvRqPZjS",
        "colab": {}
      },
      "source": [
        "y=y['output_class_onehot']"
      ],
      "execution_count": 0,
      "outputs": []
    },
    {
      "cell_type": "code",
      "metadata": {
        "colab_type": "code",
        "id": "qUlHu6Z_PZjW",
        "colab": {}
      },
      "source": [
        "y=np.array(y)"
      ],
      "execution_count": 0,
      "outputs": []
    },
    {
      "cell_type": "code",
      "metadata": {
        "colab_type": "code",
        "outputId": "d3d0d905-7551-4c50-de7b-da20fcca3c73",
        "id": "4iGZlek_PZjZ",
        "colab": {
          "base_uri": "https://localhost:8080/",
          "height": 34
        }
      },
      "source": [
        "y.shape"
      ],
      "execution_count": 126,
      "outputs": [
        {
          "output_type": "execute_result",
          "data": {
            "text/plain": [
              "(20000, 10)"
            ]
          },
          "metadata": {
            "tags": []
          },
          "execution_count": 126
        }
      ]
    },
    {
      "cell_type": "code",
      "metadata": {
        "colab_type": "code",
        "outputId": "0eb17298-e2e3-42e7-931a-faebbd4d453b",
        "id": "8IXiKBbOPZjd",
        "colab": {
          "base_uri": "https://localhost:8080/",
          "height": 283
        }
      },
      "source": [
        "plt.imshow(recon[19999,:,:,0],cmap='gray')"
      ],
      "execution_count": 127,
      "outputs": [
        {
          "output_type": "execute_result",
          "data": {
            "text/plain": [
              "<matplotlib.image.AxesImage at 0x7fe090008208>"
            ]
          },
          "metadata": {
            "tags": []
          },
          "execution_count": 127
        },
        {
          "output_type": "display_data",
          "data": {
            "image/png": "[encoded data removed]",
            "text/plain": [
              "<Figure size 432x288 with 1 Axes>"
            ]
          },
          "metadata": {
            "tags": [],
            "needs_background": "light"
          }
        }
      ]
    },
    {
      "cell_type": "code",
      "metadata": {
        "colab_type": "code",
        "outputId": "5d6cf32d-5295-4cda-dd39-7d6fbae4e941",
        "id": "JuW2e820PZjh",
        "colab": {
          "base_uri": "https://localhost:8080/",
          "height": 34
        }
      },
      "source": [
        "y[19999]"
      ],
      "execution_count": 128,
      "outputs": [
        {
          "output_type": "execute_result",
          "data": {
            "text/plain": [
              "array([0., 0., 1., 0., 0., 0., 0., 0., 0., 0.], dtype=float32)"
            ]
          },
          "metadata": {
            "tags": []
          },
          "execution_count": 128
        }
      ]
    },
    {
      "cell_type": "code",
      "metadata": {
        "colab_type": "code",
        "id": "EBUK8MP8PZjk",
        "colab": {}
      },
      "source": [
        "#Splitting data to train and test sets\n",
        "recon_train, recon_test, y_train, y_test = train_test_split(recon, y, test_size = 0.1, random_state = 42)"
      ],
      "execution_count": 0,
      "outputs": []
    },
    {
      "cell_type": "code",
      "metadata": {
        "colab_type": "code",
        "id": "tis7DXJ8PZjn",
        "colab": {}
      },
      "source": [
        "#Splitting the test set to test and validation sets\n",
        "recon_train, recon_valid, y_train, y_valid = train_test_split(recon_train, y_train, test_size = 2000, random_state = 42)"
      ],
      "execution_count": 0,
      "outputs": []
    },
    {
      "cell_type": "code",
      "metadata": {
        "colab_type": "code",
        "outputId": "73435dee-4e59-47ae-a9cd-8b8208ad48c0",
        "id": "ddEFUc7qPZjq",
        "colab": {
          "base_uri": "https://localhost:8080/",
          "height": 119
        }
      },
      "source": [
        "print(recon_train.shape)\n",
        "print(recon_test.shape)\n",
        "print(recon_valid.shape)\n",
        "print(y_train.shape)\n",
        "print(y_test.shape)\n",
        "print(y_valid.shape)"
      ],
      "execution_count": 131,
      "outputs": [
        {
          "output_type": "stream",
          "text": [
            "(16000, 32, 32, 1)\n",
            "(2000, 32, 32, 1)\n",
            "(2000, 32, 32, 1)\n",
            "(16000, 10)\n",
            "(2000, 10)\n",
            "(2000, 10)\n"
          ],
          "name": "stdout"
        }
      ]
    },
    {
      "cell_type": "code",
      "metadata": {
        "colab_type": "code",
        "outputId": "be66510b-5296-439b-a7a1-88864ca0942c",
        "id": "XoWMoQgsPZju",
        "colab": {
          "base_uri": "https://localhost:8080/",
          "height": 1000
        }
      },
      "source": [
        "#Classification network\n",
        "from tensorflow.keras.models import Sequential\n",
        "from tensorflow.keras.layers import Conv2D, MaxPool2D, Flatten, Dense, Dropout, BatchNormalization\n",
        "from tensorflow.keras.optimizers import SGD, Adam\n",
        "tf.keras.backend.clear_session\n",
        "\n",
        "\n",
        "model = Sequential()\n",
        "model.add(Conv2D(input_shape=(32,32,1),padding=\"same\",filters=32,kernel_size=(3,3), activation=\"relu\"))\n",
        "model.add(Conv2D(kernel_size=(3,3),padding=\"same\",filters=32, activation=\"relu\"))\n",
        "\n",
        "\n",
        "\n",
        "\n",
        "\n",
        "model.add(Conv2D(kernel_size=(3,3),padding=\"same\",filters=64, activation=\"relu\"))\n",
        "model.add(Conv2D(kernel_size=(3,3),padding=\"same\",filters=64, activation=\"relu\"))\n",
        "model.add(MaxPool2D(pool_size=(2,2),padding = 'same',strides=(2,2)))\n",
        "\n",
        "\n",
        "\n",
        "model.add(Conv2D(kernel_size=(3,3),padding=\"same\",filters=128, activation=\"relu\"))\n",
        "model.add(Conv2D(kernel_size=(3,3),padding=\"same\",filters=128, activation=\"relu\"))\n",
        "model.add(MaxPool2D(pool_size=(2,2),padding = 'same',strides=(2,2)))\n",
        "\n",
        "\n",
        "\n",
        "model.add(Conv2D(kernel_size=(3,3),padding=\"same\",filters=256, activation=\"relu\"))\n",
        "model.add(Conv2D(kernel_size=(3,3),padding=\"same\",filters=256, activation=\"relu\"))\n",
        "model.add(MaxPool2D(pool_size=(2,2),padding = 'same',strides=(2,2)))\n",
        "\n",
        "\n",
        "\n",
        "\n",
        "model.add(Flatten())\n",
        "\n",
        "model.add(Dropout(0.4)) \n",
        "model.add(Dense(256,activation='relu'))\n",
        "\n",
        "model.add(Dense(10, activation = 'softmax'))\n",
        "\n",
        "model.summary()\n",
        "\n",
        "from tensorflow.keras.callbacks import EarlyStopping\n",
        "early_stopping = EarlyStopping(patience = 20, restore_best_weights = True)\n",
        "\n",
        "model.compile(loss = \"categorical_crossentropy\", optimizer = Adam(lr=0.0001), metrics = [\"accuracy\"])\n",
        "history = model.fit(recon_train, y_train,\n",
        "                  validation_data = (recon_valid, y_valid),\n",
        "                  epochs = 50, batch_size = 500, callbacks = [early_stopping])"
      ],
      "execution_count": 132,
      "outputs": [
        {
          "output_type": "stream",
          "text": [
            "Model: \"sequential_5\"\n",
            "_________________________________________________________________\n",
            "Layer (type)                 Output Shape              Param #   \n",
            "=================================================================\n",
            "conv2d_70 (Conv2D)           (None, 32, 32, 32)        320       \n",
            "_________________________________________________________________\n",
            "conv2d_71 (Conv2D)           (None, 32, 32, 32)        9248      \n",
            "_________________________________________________________________\n",
            "conv2d_72 (Conv2D)           (None, 32, 32, 64)        18496     \n",
            "_________________________________________________________________\n",
            "conv2d_73 (Conv2D)           (None, 32, 32, 64)        36928     \n",
            "_________________________________________________________________\n",
            "max_pooling2d_23 (MaxPooling (None, 16, 16, 64)        0         \n",
            "_________________________________________________________________\n",
            "conv2d_74 (Conv2D)           (None, 16, 16, 128)       73856     \n",
            "_________________________________________________________________\n",
            "conv2d_75 (Conv2D)           (None, 16, 16, 128)       147584    \n",
            "_________________________________________________________________\n",
            "max_pooling2d_24 (MaxPooling (None, 8, 8, 128)         0         \n",
            "_________________________________________________________________\n",
            "conv2d_76 (Conv2D)           (None, 8, 8, 256)         295168    \n",
            "_________________________________________________________________\n",
            "conv2d_77 (Conv2D)           (None, 8, 8, 256)         590080    \n",
            "_________________________________________________________________\n",
            "max_pooling2d_25 (MaxPooling (None, 4, 4, 256)         0         \n",
            "_________________________________________________________________\n",
            "flatten_5 (Flatten)          (None, 4096)              0         \n",
            "_________________________________________________________________\n",
            "dropout_19 (Dropout)         (None, 4096)              0         \n",
            "_________________________________________________________________\n",
            "dense_10 (Dense)             (None, 256)               1048832   \n",
            "_________________________________________________________________\n",
            "dense_11 (Dense)             (None, 10)                2570      \n",
            "=================================================================\n",
            "Total params: 2,223,082\n",
            "Trainable params: 2,223,082\n",
            "Non-trainable params: 0\n",
            "_________________________________________________________________\n",
            "Epoch 1/50\n",
            "32/32 [==============================] - 8s 241ms/step - loss: 2.0456 - accuracy: 0.3882 - val_loss: 0.9413 - val_accuracy: 0.7230\n",
            "Epoch 2/50\n",
            "32/32 [==============================] - 8s 236ms/step - loss: 0.7410 - accuracy: 0.7621 - val_loss: 0.4540 - val_accuracy: 0.8595\n",
            "Epoch 3/50\n",
            "32/32 [==============================] - 8s 236ms/step - loss: 0.4656 - accuracy: 0.8592 - val_loss: 0.3713 - val_accuracy: 0.8875\n",
            "Epoch 4/50\n",
            "32/32 [==============================] - 8s 236ms/step - loss: 0.3858 - accuracy: 0.8809 - val_loss: 0.3417 - val_accuracy: 0.8970\n",
            "Epoch 5/50\n",
            "32/32 [==============================] - 8s 236ms/step - loss: 0.3519 - accuracy: 0.8953 - val_loss: 0.3300 - val_accuracy: 0.8980\n",
            "Epoch 6/50\n",
            "32/32 [==============================] - 8s 237ms/step - loss: 0.3294 - accuracy: 0.9004 - val_loss: 0.3238 - val_accuracy: 0.9020\n",
            "Epoch 7/50\n",
            "32/32 [==============================] - 8s 236ms/step - loss: 0.3164 - accuracy: 0.9048 - val_loss: 0.3157 - val_accuracy: 0.9025\n",
            "Epoch 8/50\n",
            "32/32 [==============================] - 8s 236ms/step - loss: 0.3087 - accuracy: 0.9056 - val_loss: 0.3077 - val_accuracy: 0.9060\n",
            "Epoch 9/50\n",
            "32/32 [==============================] - 8s 236ms/step - loss: 0.2924 - accuracy: 0.9108 - val_loss: 0.3014 - val_accuracy: 0.9085\n",
            "Epoch 10/50\n",
            "32/32 [==============================] - 8s 237ms/step - loss: 0.2852 - accuracy: 0.9143 - val_loss: 0.3022 - val_accuracy: 0.9080\n",
            "Epoch 11/50\n",
            "32/32 [==============================] - 8s 237ms/step - loss: 0.2795 - accuracy: 0.9150 - val_loss: 0.2991 - val_accuracy: 0.9095\n",
            "Epoch 12/50\n",
            "32/32 [==============================] - 8s 237ms/step - loss: 0.2690 - accuracy: 0.9173 - val_loss: 0.2880 - val_accuracy: 0.9105\n",
            "Epoch 13/50\n",
            "32/32 [==============================] - 8s 237ms/step - loss: 0.2629 - accuracy: 0.9185 - val_loss: 0.2861 - val_accuracy: 0.9120\n",
            "Epoch 14/50\n",
            "32/32 [==============================] - 8s 236ms/step - loss: 0.2566 - accuracy: 0.9212 - val_loss: 0.2874 - val_accuracy: 0.9160\n",
            "Epoch 15/50\n",
            "32/32 [==============================] - 8s 236ms/step - loss: 0.2518 - accuracy: 0.9226 - val_loss: 0.2871 - val_accuracy: 0.9145\n",
            "Epoch 16/50\n",
            "32/32 [==============================] - 8s 236ms/step - loss: 0.2445 - accuracy: 0.9243 - val_loss: 0.2933 - val_accuracy: 0.9135\n",
            "Epoch 17/50\n",
            "32/32 [==============================] - 8s 237ms/step - loss: 0.2394 - accuracy: 0.9262 - val_loss: 0.2897 - val_accuracy: 0.9130\n",
            "Epoch 18/50\n",
            "32/32 [==============================] - 8s 237ms/step - loss: 0.2394 - accuracy: 0.9253 - val_loss: 0.2812 - val_accuracy: 0.9145\n",
            "Epoch 19/50\n",
            "32/32 [==============================] - 8s 237ms/step - loss: 0.2337 - accuracy: 0.9253 - val_loss: 0.2939 - val_accuracy: 0.9145\n",
            "Epoch 20/50\n",
            "32/32 [==============================] - 8s 236ms/step - loss: 0.2293 - accuracy: 0.9277 - val_loss: 0.2823 - val_accuracy: 0.9170\n",
            "Epoch 21/50\n",
            "32/32 [==============================] - 8s 236ms/step - loss: 0.2263 - accuracy: 0.9299 - val_loss: 0.2882 - val_accuracy: 0.9140\n",
            "Epoch 22/50\n",
            "32/32 [==============================] - 8s 236ms/step - loss: 0.2196 - accuracy: 0.9323 - val_loss: 0.2907 - val_accuracy: 0.9155\n",
            "Epoch 23/50\n",
            "32/32 [==============================] - 8s 237ms/step - loss: 0.2154 - accuracy: 0.9322 - val_loss: 0.2808 - val_accuracy: 0.9180\n",
            "Epoch 24/50\n",
            "32/32 [==============================] - 8s 237ms/step - loss: 0.2141 - accuracy: 0.9323 - val_loss: 0.2880 - val_accuracy: 0.9180\n",
            "Epoch 25/50\n",
            "32/32 [==============================] - 8s 236ms/step - loss: 0.2058 - accuracy: 0.9349 - val_loss: 0.2980 - val_accuracy: 0.9165\n",
            "Epoch 26/50\n",
            "32/32 [==============================] - 8s 237ms/step - loss: 0.2029 - accuracy: 0.9346 - val_loss: 0.2846 - val_accuracy: 0.9160\n",
            "Epoch 27/50\n",
            "32/32 [==============================] - 8s 236ms/step - loss: 0.2020 - accuracy: 0.9354 - val_loss: 0.2898 - val_accuracy: 0.9170\n",
            "Epoch 28/50\n",
            "32/32 [==============================] - 8s 236ms/step - loss: 0.1924 - accuracy: 0.9399 - val_loss: 0.2849 - val_accuracy: 0.9240\n",
            "Epoch 29/50\n",
            "32/32 [==============================] - 8s 236ms/step - loss: 0.1905 - accuracy: 0.9379 - val_loss: 0.2839 - val_accuracy: 0.9175\n",
            "Epoch 30/50\n",
            "32/32 [==============================] - 8s 236ms/step - loss: 0.1859 - accuracy: 0.9402 - val_loss: 0.3003 - val_accuracy: 0.9155\n",
            "Epoch 31/50\n",
            "32/32 [==============================] - 8s 237ms/step - loss: 0.1821 - accuracy: 0.9418 - val_loss: 0.2884 - val_accuracy: 0.9190\n",
            "Epoch 32/50\n",
            "32/32 [==============================] - 8s 235ms/step - loss: 0.1786 - accuracy: 0.9413 - val_loss: 0.3075 - val_accuracy: 0.9145\n",
            "Epoch 33/50\n",
            "32/32 [==============================] - 8s 236ms/step - loss: 0.1768 - accuracy: 0.9416 - val_loss: 0.3203 - val_accuracy: 0.9180\n",
            "Epoch 34/50\n",
            "32/32 [==============================] - 8s 236ms/step - loss: 0.1697 - accuracy: 0.9441 - val_loss: 0.3146 - val_accuracy: 0.9170\n",
            "Epoch 35/50\n",
            "32/32 [==============================] - 8s 236ms/step - loss: 0.1631 - accuracy: 0.9462 - val_loss: 0.3002 - val_accuracy: 0.9185\n",
            "Epoch 36/50\n",
            "32/32 [==============================] - 8s 236ms/step - loss: 0.1625 - accuracy: 0.9466 - val_loss: 0.3023 - val_accuracy: 0.9165\n",
            "Epoch 37/50\n",
            "32/32 [==============================] - 8s 236ms/step - loss: 0.1586 - accuracy: 0.9473 - val_loss: 0.3157 - val_accuracy: 0.9215\n",
            "Epoch 38/50\n",
            "32/32 [==============================] - 8s 235ms/step - loss: 0.1506 - accuracy: 0.9506 - val_loss: 0.2933 - val_accuracy: 0.9180\n",
            "Epoch 39/50\n",
            "32/32 [==============================] - 8s 236ms/step - loss: 0.1485 - accuracy: 0.9517 - val_loss: 0.3381 - val_accuracy: 0.9130\n",
            "Epoch 40/50\n",
            "32/32 [==============================] - 8s 237ms/step - loss: 0.1466 - accuracy: 0.9505 - val_loss: 0.3117 - val_accuracy: 0.9185\n",
            "Epoch 41/50\n",
            "32/32 [==============================] - 8s 236ms/step - loss: 0.1452 - accuracy: 0.9511 - val_loss: 0.3107 - val_accuracy: 0.9230\n",
            "Epoch 42/50\n",
            "32/32 [==============================] - 8s 236ms/step - loss: 0.1348 - accuracy: 0.9535 - val_loss: 0.3320 - val_accuracy: 0.9200\n",
            "Epoch 43/50\n",
            "32/32 [==============================] - 8s 236ms/step - loss: 0.1302 - accuracy: 0.9551 - val_loss: 0.3259 - val_accuracy: 0.9210\n"
          ],
          "name": "stdout"
        }
      ]
    },
    {
      "cell_type": "code",
      "metadata": {
        "colab_type": "code",
        "outputId": "f4ba254c-8431-4126-b040-d3c9bf4eb029",
        "id": "_iOZGixkPZjw",
        "colab": {
          "base_uri": "https://localhost:8080/",
          "height": 51
        }
      },
      "source": [
        "model.evaluate(recon_test,y_test)"
      ],
      "execution_count": 133,
      "outputs": [
        {
          "output_type": "stream",
          "text": [
            "63/63 [==============================] - 1s 10ms/step - loss: 0.8515 - accuracy: 0.7895\n"
          ],
          "name": "stdout"
        },
        {
          "output_type": "execute_result",
          "data": {
            "text/plain": [
              "[0.8515302538871765, 0.7894999980926514]"
            ]
          },
          "metadata": {
            "tags": []
          },
          "execution_count": 133
        }
      ]
    },
    {
      "cell_type": "markdown",
      "metadata": {
        "colab_type": "text",
        "id": "HbMoXDD-N1UK"
      },
      "source": [
        "##3. 10cm Input Phase##"
      ]
    },
    {
      "cell_type": "code",
      "metadata": {
        "colab_type": "code",
        "id": "j010T4NVOEA1",
        "colab": {}
      },
      "source": [
        "#Loading mnist\n",
        "(x_full_mnist, _), (_, _) = mnist.load_data()"
      ],
      "execution_count": 0,
      "outputs": []
    },
    {
      "cell_type": "code",
      "metadata": {
        "colab_type": "code",
        "id": "ctaxdShhOEA7",
        "colab": {}
      },
      "source": [
        "x_full_mnist=np.array(x_full_mnist)"
      ],
      "execution_count": 0,
      "outputs": []
    },
    {
      "cell_type": "code",
      "metadata": {
        "colab_type": "code",
        "id": "QpFIdb2cOEA9",
        "colab": {}
      },
      "source": [
        "#Saving the first 20k images\n",
        "x_full_mnist=x_full_mnist[:20000]"
      ],
      "execution_count": 0,
      "outputs": []
    },
    {
      "cell_type": "code",
      "metadata": {
        "colab_type": "code",
        "outputId": "0b2da20c-2e83-421f-f5c2-490f1c1979a4",
        "id": "XHudIY9dOEA_",
        "colab": {
          "base_uri": "https://localhost:8080/",
          "height": 34
        }
      },
      "source": [
        "x_full_mnist.shape"
      ],
      "execution_count": 137,
      "outputs": [
        {
          "output_type": "execute_result",
          "data": {
            "text/plain": [
              "(20000, 28, 28)"
            ]
          },
          "metadata": {
            "tags": []
          },
          "execution_count": 137
        }
      ]
    },
    {
      "cell_type": "code",
      "metadata": {
        "colab_type": "code",
        "id": "0vXubh1KOEBC",
        "colab": {}
      },
      "source": [
        "#Resizing the images form (28,28) to (32,32,1)\n",
        "x_full_mnist = resize(x_full_mnist,(20000,32,32,1))"
      ],
      "execution_count": 0,
      "outputs": []
    },
    {
      "cell_type": "code",
      "metadata": {
        "colab_type": "code",
        "outputId": "804028b6-8db8-4d27-b90e-fd41e7549273",
        "id": "2XS7BWqDOEBF",
        "colab": {
          "base_uri": "https://localhost:8080/",
          "height": 34
        }
      },
      "source": [
        "x_full_mnist.shape"
      ],
      "execution_count": 139,
      "outputs": [
        {
          "output_type": "execute_result",
          "data": {
            "text/plain": [
              "(20000, 32, 32, 1)"
            ]
          },
          "metadata": {
            "tags": []
          },
          "execution_count": 139
        }
      ]
    },
    {
      "cell_type": "code",
      "metadata": {
        "colab_type": "code",
        "outputId": "a67fa075-d001-4559-d074-0924946eb701",
        "id": "7ZuehLYlOEBI",
        "colab": {
          "base_uri": "https://localhost:8080/",
          "height": 283
        }
      },
      "source": [
        "plt.rcParams[\"axes.grid\"] = False\n",
        "plt.imshow(x_full_mnist[4,:,:,0],cmap='gray')"
      ],
      "execution_count": 140,
      "outputs": [
        {
          "output_type": "execute_result",
          "data": {
            "text/plain": [
              "<matplotlib.image.AxesImage at 0x7fe036781240>"
            ]
          },
          "metadata": {
            "tags": []
          },
          "execution_count": 140
        },
        {
          "output_type": "display_data",
          "data": {
            "image/png": "[encoded data removed]",
            "text/plain": [
              "<Figure size 432x288 with 1 Axes>"
            ]
          },
          "metadata": {
            "tags": [],
            "needs_background": "light"
          }
        }
      ]
    },
    {
      "cell_type": "code",
      "metadata": {
        "colab_type": "code",
        "outputId": "e85d4dbb-f615-46b1-fa29-9a4275c3ca18",
        "id": "e6MgBqpcOEBM",
        "colab": {
          "base_uri": "https://localhost:8080/",
          "height": 34
        }
      },
      "source": [
        "#Loading speckles from dataset\n",
        "X = h5py.File('/content/drive/My Drive/fiber data Crete/10cm/Input_Phase/processed/32_down_input_processed_data.h5', 'r')\n",
        "list(X.keys())"
      ],
      "execution_count": 141,
      "outputs": [
        {
          "output_type": "execute_result",
          "data": {
            "text/plain": [
              "['input_processed_data']"
            ]
          },
          "metadata": {
            "tags": []
          },
          "execution_count": 141
        }
      ]
    },
    {
      "cell_type": "code",
      "metadata": {
        "colab_type": "code",
        "id": "eKD69JmNOEBP",
        "colab": {}
      },
      "source": [
        "X=X['input_processed_data']\n",
        "X_full=np.array(X)\n"
      ],
      "execution_count": 0,
      "outputs": []
    },
    {
      "cell_type": "code",
      "metadata": {
        "colab_type": "code",
        "outputId": "efb12193-1e29-4ca7-d5b7-d35217736998",
        "id": "nAgUIsiIOEBS",
        "colab": {
          "base_uri": "https://localhost:8080/",
          "height": 51
        }
      },
      "source": [
        "print(X_full.shape)\n",
        "print(x_full_mnist.shape)"
      ],
      "execution_count": 143,
      "outputs": [
        {
          "output_type": "stream",
          "text": [
            "(20000, 32, 32, 1)\n",
            "(20000, 32, 32, 1)\n"
          ],
          "name": "stdout"
        }
      ]
    },
    {
      "cell_type": "code",
      "metadata": {
        "colab_type": "code",
        "id": "kK6adXBROEBU",
        "colab": {}
      },
      "source": [
        "#Splitting data to train and test sets\n",
        "x_train, x_test, x_train_mnist, x_test_mnist = train_test_split(X_full, x_full_mnist, test_size = 0.2, random_state = 42)\n"
      ],
      "execution_count": 0,
      "outputs": []
    },
    {
      "cell_type": "code",
      "metadata": {
        "colab_type": "code",
        "id": "y4xlY1jcOEBX",
        "colab": {}
      },
      "source": [
        "#Splitting test set to test and validation sets\n",
        "x_test, x_valid, x_test_mnist, x_valid_mnist = train_test_split(x_test, x_test_mnist, test_size = 0.5, random_state = 42)"
      ],
      "execution_count": 0,
      "outputs": []
    },
    {
      "cell_type": "code",
      "metadata": {
        "colab_type": "code",
        "id": "XgIWzEj4OEBZ",
        "colab": {}
      },
      "source": [
        "#Now the images are split in the same way as earlier, so the 2k images of the test set are the same and will not be used when training the u-net\n",
        "#Combining validation and train sets into one training set (Since we won't be using a validation set when training the u-net)\n",
        "x_train=np.concatenate((x_train,x_valid))\n",
        "x_train_mnist=np.concatenate((x_train_mnist,x_valid_mnist))"
      ],
      "execution_count": 0,
      "outputs": []
    },
    {
      "cell_type": "code",
      "metadata": {
        "colab_type": "code",
        "outputId": "aa59f85e-61c8-4b6e-bc53-a5c0d690f520",
        "id": "mtWg2bfiOEBb",
        "colab": {
          "base_uri": "https://localhost:8080/",
          "height": 85
        }
      },
      "source": [
        "print(x_train.shape)\n",
        "print(x_test.shape)\n",
        "#print(x_valid.shape)\n",
        "print(x_train_mnist.shape)\n",
        "print(x_test_mnist.shape)\n",
        "#print(y_valid.shape)"
      ],
      "execution_count": 147,
      "outputs": [
        {
          "output_type": "stream",
          "text": [
            "(18000, 32, 32, 1)\n",
            "(2000, 32, 32, 1)\n",
            "(18000, 32, 32, 1)\n",
            "(2000, 32, 32, 1)\n"
          ],
          "name": "stdout"
        }
      ]
    },
    {
      "cell_type": "code",
      "metadata": {
        "colab_type": "code",
        "id": "oheJPJSCOEBe",
        "colab": {}
      },
      "source": [
        "#U-net\n",
        "tf.keras.backend.clear_session\n",
        "def conv2d_block(input_tensor, n_filters, kernel_size=3, batchnorm=True):\n",
        "     #first layer\n",
        "    x = Conv2D(filters=n_filters, kernel_size=(kernel_size, kernel_size), kernel_initializer=\"he_normal\",\n",
        "               padding=\"same\")(input_tensor)\n",
        "    if batchnorm:\n",
        "        x = BatchNormalization()(x)\n",
        "    x = Activation(\"relu\")(x)\n",
        "    # second layer\n",
        "    x = Conv2D(filters=n_filters, kernel_size=(kernel_size, kernel_size), kernel_initializer=\"he_normal\",\n",
        "               padding=\"same\")(x)\n",
        "    if batchnorm:\n",
        "        x = BatchNormalization()(x)\n",
        "    x = Activation(\"relu\")(x)\n",
        "    return x"
      ],
      "execution_count": 0,
      "outputs": []
    },
    {
      "cell_type": "code",
      "metadata": {
        "colab_type": "code",
        "id": "bRo7xGoAOEBh",
        "colab": {}
      },
      "source": [
        "def get_unet(input_img, n_filters=32, dropout=0.5, batchnorm=True):\n",
        "    \n",
        "    c1 = conv2d_block(input_img, n_filters=n_filters*1, kernel_size=3, batchnorm=batchnorm)\n",
        "    p1 = MaxPooling2D((1, 1)) (c1)\n",
        "    p1 = Dropout(dropout*0.5)(p1)\n",
        "\n",
        "    c2 = conv2d_block(p1, n_filters=n_filters*2, kernel_size=3, batchnorm=batchnorm)\n",
        "    p2 = MaxPooling2D((2, 2)) (c2)\n",
        "    p2 = Dropout(dropout)(p2)\n",
        "\n",
        "    c3 = conv2d_block(p2, n_filters=n_filters*4, kernel_size=3, batchnorm=batchnorm)\n",
        "    p3 = MaxPooling2D((2, 2)) (c3)\n",
        "    p3 = Dropout(dropout)(p3)\n",
        "\n",
        "    c4 = conv2d_block(p3, n_filters=n_filters*8, kernel_size=3, batchnorm=batchnorm)\n",
        "    p4 = MaxPooling2D(pool_size=(2, 2)) (c4)\n",
        "    p4 = Dropout(dropout)(p4)\n",
        "    \n",
        "    ##\n",
        "\n",
        "    u7 = Conv2DTranspose(n_filters*4, (3, 3), strides=(2, 2), padding='same') (p4)\n",
        "    u7 = concatenate([u7, p3])\n",
        "    u7 = Dropout(dropout)(u7)\n",
        "    c7 = conv2d_block(u7, n_filters=n_filters*4, kernel_size=3, batchnorm=batchnorm)\n",
        "\n",
        "    u8 = Conv2DTranspose(n_filters*2, (3, 3), strides=(2, 2), padding='same') (c7)\n",
        "    u8 = concatenate([u8, p2])\n",
        "    u8 = Dropout(dropout)(u8)\n",
        "    c8 = conv2d_block(u8, n_filters=n_filters*2, kernel_size=3, batchnorm=batchnorm)\n",
        "\n",
        "    u9 = Conv2DTranspose(n_filters*1, (3, 3), strides=(2, 2), padding='same') (c8)\n",
        "    u9 = concatenate([u9, p1], axis=3)\n",
        "    u9 = Dropout(dropout)(u9)\n",
        "    c9 = conv2d_block(u9, n_filters=n_filters*1, kernel_size=3, batchnorm=batchnorm)\n",
        "    \n",
        "    outputs = Conv2D(1, (1, 1), activation='sigmoid') (c9)\n",
        "    model = Model(inputs=[input_img], outputs=[outputs])\n",
        "    return model"
      ],
      "execution_count": 0,
      "outputs": []
    },
    {
      "cell_type": "code",
      "metadata": {
        "colab_type": "code",
        "outputId": "1f8b3e54-0e20-4976-ca83-935879d8725b",
        "id": "x3itL98XOEBk",
        "colab": {
          "base_uri": "https://localhost:8080/",
          "height": 1000
        }
      },
      "source": [
        "input_img = Input((32, 32, 1), name='img')\n",
        "model = get_unet(input_img, n_filters=32, dropout=0.05, batchnorm=True)\n",
        "\n",
        "model.compile(optimizer=Adam(lr=0.0004), loss=\"binary_crossentropy\")\n",
        "model.summary()\n"
      ],
      "execution_count": 150,
      "outputs": [
        {
          "output_type": "stream",
          "text": [
            "Model: \"model_2\"\n",
            "__________________________________________________________________________________________________\n",
            "Layer (type)                    Output Shape         Param #     Connected to                     \n",
            "==================================================================================================\n",
            "img (InputLayer)                [(None, 32, 32, 1)]  0                                            \n",
            "__________________________________________________________________________________________________\n",
            "conv2d_78 (Conv2D)              (None, 32, 32, 32)   320         img[0][0]                        \n",
            "__________________________________________________________________________________________________\n",
            "batch_normalization_28 (BatchNo (None, 32, 32, 32)   128         conv2d_78[0][0]                  \n",
            "__________________________________________________________________________________________________\n",
            "activation_28 (Activation)      (None, 32, 32, 32)   0           batch_normalization_28[0][0]     \n",
            "__________________________________________________________________________________________________\n",
            "conv2d_79 (Conv2D)              (None, 32, 32, 32)   9248        activation_28[0][0]              \n",
            "__________________________________________________________________________________________________\n",
            "batch_normalization_29 (BatchNo (None, 32, 32, 32)   128         conv2d_79[0][0]                  \n",
            "__________________________________________________________________________________________________\n",
            "activation_29 (Activation)      (None, 32, 32, 32)   0           batch_normalization_29[0][0]     \n",
            "__________________________________________________________________________________________________\n",
            "max_pooling2d_26 (MaxPooling2D) (None, 32, 32, 32)   0           activation_29[0][0]              \n",
            "__________________________________________________________________________________________________\n",
            "dropout_20 (Dropout)            (None, 32, 32, 32)   0           max_pooling2d_26[0][0]           \n",
            "__________________________________________________________________________________________________\n",
            "conv2d_80 (Conv2D)              (None, 32, 32, 64)   18496       dropout_20[0][0]                 \n",
            "__________________________________________________________________________________________________\n",
            "batch_normalization_30 (BatchNo (None, 32, 32, 64)   256         conv2d_80[0][0]                  \n",
            "__________________________________________________________________________________________________\n",
            "activation_30 (Activation)      (None, 32, 32, 64)   0           batch_normalization_30[0][0]     \n",
            "__________________________________________________________________________________________________\n",
            "conv2d_81 (Conv2D)              (None, 32, 32, 64)   36928       activation_30[0][0]              \n",
            "__________________________________________________________________________________________________\n",
            "batch_normalization_31 (BatchNo (None, 32, 32, 64)   256         conv2d_81[0][0]                  \n",
            "__________________________________________________________________________________________________\n",
            "activation_31 (Activation)      (None, 32, 32, 64)   0           batch_normalization_31[0][0]     \n",
            "__________________________________________________________________________________________________\n",
            "max_pooling2d_27 (MaxPooling2D) (None, 16, 16, 64)   0           activation_31[0][0]              \n",
            "__________________________________________________________________________________________________\n",
            "dropout_21 (Dropout)            (None, 16, 16, 64)   0           max_pooling2d_27[0][0]           \n",
            "__________________________________________________________________________________________________\n",
            "conv2d_82 (Conv2D)              (None, 16, 16, 128)  73856       dropout_21[0][0]                 \n",
            "__________________________________________________________________________________________________\n",
            "batch_normalization_32 (BatchNo (None, 16, 16, 128)  512         conv2d_82[0][0]                  \n",
            "__________________________________________________________________________________________________\n",
            "activation_32 (Activation)      (None, 16, 16, 128)  0           batch_normalization_32[0][0]     \n",
            "__________________________________________________________________________________________________\n",
            "conv2d_83 (Conv2D)              (None, 16, 16, 128)  147584      activation_32[0][0]              \n",
            "__________________________________________________________________________________________________\n",
            "batch_normalization_33 (BatchNo (None, 16, 16, 128)  512         conv2d_83[0][0]                  \n",
            "__________________________________________________________________________________________________\n",
            "activation_33 (Activation)      (None, 16, 16, 128)  0           batch_normalization_33[0][0]     \n",
            "__________________________________________________________________________________________________\n",
            "max_pooling2d_28 (MaxPooling2D) (None, 8, 8, 128)    0           activation_33[0][0]              \n",
            "__________________________________________________________________________________________________\n",
            "dropout_22 (Dropout)            (None, 8, 8, 128)    0           max_pooling2d_28[0][0]           \n",
            "__________________________________________________________________________________________________\n",
            "conv2d_84 (Conv2D)              (None, 8, 8, 256)    295168      dropout_22[0][0]                 \n",
            "__________________________________________________________________________________________________\n",
            "batch_normalization_34 (BatchNo (None, 8, 8, 256)    1024        conv2d_84[0][0]                  \n",
            "__________________________________________________________________________________________________\n",
            "activation_34 (Activation)      (None, 8, 8, 256)    0           batch_normalization_34[0][0]     \n",
            "__________________________________________________________________________________________________\n",
            "conv2d_85 (Conv2D)              (None, 8, 8, 256)    590080      activation_34[0][0]              \n",
            "__________________________________________________________________________________________________\n",
            "batch_normalization_35 (BatchNo (None, 8, 8, 256)    1024        conv2d_85[0][0]                  \n",
            "__________________________________________________________________________________________________\n",
            "activation_35 (Activation)      (None, 8, 8, 256)    0           batch_normalization_35[0][0]     \n",
            "__________________________________________________________________________________________________\n",
            "max_pooling2d_29 (MaxPooling2D) (None, 4, 4, 256)    0           activation_35[0][0]              \n",
            "__________________________________________________________________________________________________\n",
            "dropout_23 (Dropout)            (None, 4, 4, 256)    0           max_pooling2d_29[0][0]           \n",
            "__________________________________________________________________________________________________\n",
            "conv2d_transpose_6 (Conv2DTrans (None, 8, 8, 128)    295040      dropout_23[0][0]                 \n",
            "__________________________________________________________________________________________________\n",
            "concatenate_6 (Concatenate)     (None, 8, 8, 256)    0           conv2d_transpose_6[0][0]         \n",
            "                                                                 dropout_22[0][0]                 \n",
            "__________________________________________________________________________________________________\n",
            "dropout_24 (Dropout)            (None, 8, 8, 256)    0           concatenate_6[0][0]              \n",
            "__________________________________________________________________________________________________\n",
            "conv2d_86 (Conv2D)              (None, 8, 8, 128)    295040      dropout_24[0][0]                 \n",
            "__________________________________________________________________________________________________\n",
            "batch_normalization_36 (BatchNo (None, 8, 8, 128)    512         conv2d_86[0][0]                  \n",
            "__________________________________________________________________________________________________\n",
            "activation_36 (Activation)      (None, 8, 8, 128)    0           batch_normalization_36[0][0]     \n",
            "__________________________________________________________________________________________________\n",
            "conv2d_87 (Conv2D)              (None, 8, 8, 128)    147584      activation_36[0][0]              \n",
            "__________________________________________________________________________________________________\n",
            "batch_normalization_37 (BatchNo (None, 8, 8, 128)    512         conv2d_87[0][0]                  \n",
            "__________________________________________________________________________________________________\n",
            "activation_37 (Activation)      (None, 8, 8, 128)    0           batch_normalization_37[0][0]     \n",
            "__________________________________________________________________________________________________\n",
            "conv2d_transpose_7 (Conv2DTrans (None, 16, 16, 64)   73792       activation_37[0][0]              \n",
            "__________________________________________________________________________________________________\n",
            "concatenate_7 (Concatenate)     (None, 16, 16, 128)  0           conv2d_transpose_7[0][0]         \n",
            "                                                                 dropout_21[0][0]                 \n",
            "__________________________________________________________________________________________________\n",
            "dropout_25 (Dropout)            (None, 16, 16, 128)  0           concatenate_7[0][0]              \n",
            "__________________________________________________________________________________________________\n",
            "conv2d_88 (Conv2D)              (None, 16, 16, 64)   73792       dropout_25[0][0]                 \n",
            "__________________________________________________________________________________________________\n",
            "batch_normalization_38 (BatchNo (None, 16, 16, 64)   256         conv2d_88[0][0]                  \n",
            "__________________________________________________________________________________________________\n",
            "activation_38 (Activation)      (None, 16, 16, 64)   0           batch_normalization_38[0][0]     \n",
            "__________________________________________________________________________________________________\n",
            "conv2d_89 (Conv2D)              (None, 16, 16, 64)   36928       activation_38[0][0]              \n",
            "__________________________________________________________________________________________________\n",
            "batch_normalization_39 (BatchNo (None, 16, 16, 64)   256         conv2d_89[0][0]                  \n",
            "__________________________________________________________________________________________________\n",
            "activation_39 (Activation)      (None, 16, 16, 64)   0           batch_normalization_39[0][0]     \n",
            "__________________________________________________________________________________________________\n",
            "conv2d_transpose_8 (Conv2DTrans (None, 32, 32, 32)   18464       activation_39[0][0]              \n",
            "__________________________________________________________________________________________________\n",
            "concatenate_8 (Concatenate)     (None, 32, 32, 64)   0           conv2d_transpose_8[0][0]         \n",
            "                                                                 dropout_20[0][0]                 \n",
            "__________________________________________________________________________________________________\n",
            "dropout_26 (Dropout)            (None, 32, 32, 64)   0           concatenate_8[0][0]              \n",
            "__________________________________________________________________________________________________\n",
            "conv2d_90 (Conv2D)              (None, 32, 32, 32)   18464       dropout_26[0][0]                 \n",
            "__________________________________________________________________________________________________\n",
            "batch_normalization_40 (BatchNo (None, 32, 32, 32)   128         conv2d_90[0][0]                  \n",
            "__________________________________________________________________________________________________\n",
            "activation_40 (Activation)      (None, 32, 32, 32)   0           batch_normalization_40[0][0]     \n",
            "__________________________________________________________________________________________________\n",
            "conv2d_91 (Conv2D)              (None, 32, 32, 32)   9248        activation_40[0][0]              \n",
            "__________________________________________________________________________________________________\n",
            "batch_normalization_41 (BatchNo (None, 32, 32, 32)   128         conv2d_91[0][0]                  \n",
            "__________________________________________________________________________________________________\n",
            "activation_41 (Activation)      (None, 32, 32, 32)   0           batch_normalization_41[0][0]     \n",
            "__________________________________________________________________________________________________\n",
            "conv2d_92 (Conv2D)              (None, 32, 32, 1)    33          activation_41[0][0]              \n",
            "==================================================================================================\n",
            "Total params: 2,145,697\n",
            "Trainable params: 2,142,881\n",
            "Non-trainable params: 2,816\n",
            "__________________________________________________________________________________________________\n"
          ],
          "name": "stdout"
        }
      ]
    },
    {
      "cell_type": "code",
      "metadata": {
        "colab_type": "code",
        "outputId": "ec02bef0-4037-4ba9-e03e-7ad31adb947f",
        "id": "ViQCNdCFOEBn",
        "colab": {
          "base_uri": "https://localhost:8080/",
          "height": 1000
        }
      },
      "source": [
        "history = model.fit(x_train, x_train_mnist,\n",
        "                  \n",
        "                  epochs = 35, batch_size = 50)"
      ],
      "execution_count": 151,
      "outputs": [
        {
          "output_type": "stream",
          "text": [
            "Epoch 1/35\n",
            "360/360 [==============================] - 27s 76ms/step - loss: 0.2374\n",
            "Epoch 2/35\n",
            "360/360 [==============================] - 27s 76ms/step - loss: 0.1650\n",
            "Epoch 3/35\n",
            "360/360 [==============================] - 27s 76ms/step - loss: 0.1484\n",
            "Epoch 4/35\n",
            "360/360 [==============================] - 27s 76ms/step - loss: 0.1401\n",
            "Epoch 5/35\n",
            "360/360 [==============================] - 27s 76ms/step - loss: 0.1346\n",
            "Epoch 6/35\n",
            "360/360 [==============================] - 27s 76ms/step - loss: 0.1310\n",
            "Epoch 7/35\n",
            "360/360 [==============================] - 27s 76ms/step - loss: 0.1281\n",
            "Epoch 8/35\n",
            "360/360 [==============================] - 27s 76ms/step - loss: 0.1258\n",
            "Epoch 9/35\n",
            "360/360 [==============================] - 27s 76ms/step - loss: 0.1239\n",
            "Epoch 10/35\n",
            "360/360 [==============================] - 27s 76ms/step - loss: 0.1225\n",
            "Epoch 11/35\n",
            "360/360 [==============================] - 27s 76ms/step - loss: 0.1211\n",
            "Epoch 12/35\n",
            "360/360 [==============================] - 27s 76ms/step - loss: 0.1199\n",
            "Epoch 13/35\n",
            "360/360 [==============================] - 27s 76ms/step - loss: 0.1189\n",
            "Epoch 14/35\n",
            "360/360 [==============================] - 27s 76ms/step - loss: 0.1179\n",
            "Epoch 15/35\n",
            "360/360 [==============================] - 27s 76ms/step - loss: 0.1170\n",
            "Epoch 16/35\n",
            "360/360 [==============================] - 27s 76ms/step - loss: 0.1163\n",
            "Epoch 17/35\n",
            "360/360 [==============================] - 27s 76ms/step - loss: 0.1156\n",
            "Epoch 18/35\n",
            "360/360 [==============================] - 27s 76ms/step - loss: 0.1152\n",
            "Epoch 19/35\n",
            "360/360 [==============================] - 27s 76ms/step - loss: 0.1145\n",
            "Epoch 20/35\n",
            "360/360 [==============================] - 27s 76ms/step - loss: 0.1139\n",
            "Epoch 21/35\n",
            "360/360 [==============================] - 27s 76ms/step - loss: 0.1134\n",
            "Epoch 22/35\n",
            "360/360 [==============================] - 27s 76ms/step - loss: 0.1130\n",
            "Epoch 23/35\n",
            "360/360 [==============================] - 27s 76ms/step - loss: 0.1126\n",
            "Epoch 24/35\n",
            "360/360 [==============================] - 27s 76ms/step - loss: 0.1122\n",
            "Epoch 25/35\n",
            "360/360 [==============================] - 27s 76ms/step - loss: 0.1119\n",
            "Epoch 26/35\n",
            "360/360 [==============================] - 27s 75ms/step - loss: 0.1114\n",
            "Epoch 27/35\n",
            "360/360 [==============================] - 27s 76ms/step - loss: 0.1112\n",
            "Epoch 28/35\n",
            "360/360 [==============================] - 27s 76ms/step - loss: 0.1108\n",
            "Epoch 29/35\n",
            "360/360 [==============================] - 27s 76ms/step - loss: 0.1104\n",
            "Epoch 30/35\n",
            "360/360 [==============================] - 27s 76ms/step - loss: 0.1101\n",
            "Epoch 31/35\n",
            "360/360 [==============================] - 27s 76ms/step - loss: 0.1100\n",
            "Epoch 32/35\n",
            "360/360 [==============================] - 27s 76ms/step - loss: 0.1098\n",
            "Epoch 33/35\n",
            "360/360 [==============================] - 27s 76ms/step - loss: 0.1094\n",
            "Epoch 34/35\n",
            "360/360 [==============================] - 27s 76ms/step - loss: 0.1092\n",
            "Epoch 35/35\n",
            "360/360 [==============================] - 27s 76ms/step - loss: 0.1090\n"
          ],
          "name": "stdout"
        }
      ]
    },
    {
      "cell_type": "code",
      "metadata": {
        "colab_type": "code",
        "id": "FPmkXPTIO5_N",
        "colab": {}
      },
      "source": [
        "#Reconstructing all 20k images\n",
        "recon=np.array(model.predict(X_full))"
      ],
      "execution_count": 0,
      "outputs": []
    },
    {
      "cell_type": "code",
      "metadata": {
        "colab_type": "code",
        "outputId": "07a57d77-86d3-480b-d59a-db211947028c",
        "id": "gu4rdot9O5_Z",
        "colab": {
          "base_uri": "https://localhost:8080/",
          "height": 283
        }
      },
      "source": [
        "#Plotting original image\n",
        "from matplotlib import pyplot as plt\n",
        "plt.rcParams[\"axes.grid\"] = False\n",
        "plt.imshow(x_full_mnist[12100,:,:,0],cmap='gray')"
      ],
      "execution_count": 153,
      "outputs": [
        {
          "output_type": "execute_result",
          "data": {
            "text/plain": [
              "<matplotlib.image.AxesImage at 0x7fe03863f630>"
            ]
          },
          "metadata": {
            "tags": []
          },
          "execution_count": 153
        },
        {
          "output_type": "display_data",
          "data": {
            "image/png": "[encoded data removed]",
            "text/plain": [
              "<Figure size 432x288 with 1 Axes>"
            ]
          },
          "metadata": {
            "tags": [],
            "needs_background": "light"
          }
        }
      ]
    },
    {
      "cell_type": "code",
      "metadata": {
        "colab_type": "code",
        "outputId": "66481e1a-5066-447b-ce26-00940c86252f",
        "id": "YNquNjhdO5_d",
        "colab": {
          "base_uri": "https://localhost:8080/",
          "height": 283
        }
      },
      "source": [
        "#Plotting reconstructed image\n",
        "plt.imshow(recon[12100,:,:,0],cmap='gray')"
      ],
      "execution_count": 154,
      "outputs": [
        {
          "output_type": "execute_result",
          "data": {
            "text/plain": [
              "<matplotlib.image.AxesImage at 0x7fe03c3d8400>"
            ]
          },
          "metadata": {
            "tags": []
          },
          "execution_count": 154
        },
        {
          "output_type": "display_data",
          "data": {
            "image/png": "[encoded data removed]",
            "text/plain": [
              "<Figure size 432x288 with 1 Axes>"
            ]
          },
          "metadata": {
            "tags": [],
            "needs_background": "light"
          }
        }
      ]
    },
    {
      "cell_type": "code",
      "metadata": {
        "colab_type": "code",
        "outputId": "d345be81-2bf7-442b-89a2-d81d7d9e0101",
        "id": "mdvV9o-3O5_l",
        "colab": {
          "base_uri": "https://localhost:8080/",
          "height": 283
        }
      },
      "source": [
        "#Plotting the speckle \n",
        "plt.imshow(X_full[12100,:,:,0],cmap='gray')"
      ],
      "execution_count": 155,
      "outputs": [
        {
          "output_type": "execute_result",
          "data": {
            "text/plain": [
              "<matplotlib.image.AxesImage at 0x7fe0386eb940>"
            ]
          },
          "metadata": {
            "tags": []
          },
          "execution_count": 155
        },
        {
          "output_type": "display_data",
          "data": {
            "image/png": "[encoded data removed]",
            "text/plain": [
              "<Figure size 432x288 with 1 Axes>"
            ]
          },
          "metadata": {
            "tags": [],
            "needs_background": "light"
          }
        }
      ]
    },
    {
      "cell_type": "code",
      "metadata": {
        "colab_type": "code",
        "id": "QsL6xJZIO5_r",
        "colab": {}
      },
      "source": [
        "#Loading labels\n",
        "y =  h5py.File('/content/drive/My Drive/fiber data Crete/10cm/Input_Phase/processed/32_down_output_class_onehot.h5', 'r')"
      ],
      "execution_count": 0,
      "outputs": []
    },
    {
      "cell_type": "code",
      "metadata": {
        "colab_type": "code",
        "outputId": "7b2ae86e-b9ea-4055-f3a0-58b5bfa4b5b5",
        "id": "7qzuv38JO5_w",
        "colab": {
          "base_uri": "https://localhost:8080/",
          "height": 34
        }
      },
      "source": [
        "list(y.keys())"
      ],
      "execution_count": 157,
      "outputs": [
        {
          "output_type": "execute_result",
          "data": {
            "text/plain": [
              "['output_class_onehot']"
            ]
          },
          "metadata": {
            "tags": []
          },
          "execution_count": 157
        }
      ]
    },
    {
      "cell_type": "code",
      "metadata": {
        "colab_type": "code",
        "id": "4RdhaMqxO5_z",
        "colab": {}
      },
      "source": [
        "y=y['output_class_onehot']"
      ],
      "execution_count": 0,
      "outputs": []
    },
    {
      "cell_type": "code",
      "metadata": {
        "colab_type": "code",
        "id": "calxBj9XO5_1",
        "colab": {}
      },
      "source": [
        "y=np.array(y)"
      ],
      "execution_count": 0,
      "outputs": []
    },
    {
      "cell_type": "code",
      "metadata": {
        "colab_type": "code",
        "outputId": "43de2ae4-c03a-4ad2-d9e4-63407b76e4fd",
        "id": "GEw-mRb9O5_4",
        "colab": {
          "base_uri": "https://localhost:8080/",
          "height": 34
        }
      },
      "source": [
        "y.shape"
      ],
      "execution_count": 160,
      "outputs": [
        {
          "output_type": "execute_result",
          "data": {
            "text/plain": [
              "(20000, 10)"
            ]
          },
          "metadata": {
            "tags": []
          },
          "execution_count": 160
        }
      ]
    },
    {
      "cell_type": "code",
      "metadata": {
        "colab_type": "code",
        "outputId": "415e9300-2d2b-4e5f-cda8-6fc921d83d89",
        "id": "gtIL8g68O5_-",
        "colab": {
          "base_uri": "https://localhost:8080/",
          "height": 283
        }
      },
      "source": [
        "plt.imshow(recon[19999,:,:,0],cmap='gray')"
      ],
      "execution_count": 161,
      "outputs": [
        {
          "output_type": "execute_result",
          "data": {
            "text/plain": [
              "<matplotlib.image.AxesImage at 0x7fe03b0de2e8>"
            ]
          },
          "metadata": {
            "tags": []
          },
          "execution_count": 161
        },
        {
          "output_type": "display_data",
          "data": {
            "image/png": "[encoded data removed]",
            "text/plain": [
              "<Figure size 432x288 with 1 Axes>"
            ]
          },
          "metadata": {
            "tags": [],
            "needs_background": "light"
          }
        }
      ]
    },
    {
      "cell_type": "code",
      "metadata": {
        "colab_type": "code",
        "outputId": "70573d4c-7e2c-42db-e5f7-03ac83823f74",
        "id": "br3OSDArO6AC",
        "colab": {
          "base_uri": "https://localhost:8080/",
          "height": 34
        }
      },
      "source": [
        "y[19999]"
      ],
      "execution_count": 162,
      "outputs": [
        {
          "output_type": "execute_result",
          "data": {
            "text/plain": [
              "array([0., 0., 1., 0., 0., 0., 0., 0., 0., 0.], dtype=float32)"
            ]
          },
          "metadata": {
            "tags": []
          },
          "execution_count": 162
        }
      ]
    },
    {
      "cell_type": "code",
      "metadata": {
        "colab_type": "code",
        "id": "Sj1iwW3zO6AF",
        "colab": {}
      },
      "source": [
        "#Splitting data to train and test sets\n",
        "recon_train, recon_test, y_train, y_test = train_test_split(recon, y, test_size = 0.1, random_state = 42)"
      ],
      "execution_count": 0,
      "outputs": []
    },
    {
      "cell_type": "code",
      "metadata": {
        "colab_type": "code",
        "id": "nyHENhKXO6AI",
        "colab": {}
      },
      "source": [
        "#Splitting the test set to test and validation sets\n",
        "recon_train, recon_valid, y_train, y_valid = train_test_split(recon_train, y_train, test_size = 2000, random_state = 42)"
      ],
      "execution_count": 0,
      "outputs": []
    },
    {
      "cell_type": "code",
      "metadata": {
        "colab_type": "code",
        "outputId": "44f1dcbd-90df-410c-eea8-fbfce5949125",
        "id": "m8cvjXp7O6AK",
        "colab": {
          "base_uri": "https://localhost:8080/",
          "height": 119
        }
      },
      "source": [
        "print(recon_train.shape)\n",
        "print(recon_test.shape)\n",
        "print(recon_valid.shape)\n",
        "print(y_train.shape)\n",
        "print(y_test.shape)\n",
        "print(y_valid.shape)"
      ],
      "execution_count": 165,
      "outputs": [
        {
          "output_type": "stream",
          "text": [
            "(16000, 32, 32, 1)\n",
            "(2000, 32, 32, 1)\n",
            "(2000, 32, 32, 1)\n",
            "(16000, 10)\n",
            "(2000, 10)\n",
            "(2000, 10)\n"
          ],
          "name": "stdout"
        }
      ]
    },
    {
      "cell_type": "code",
      "metadata": {
        "colab_type": "code",
        "outputId": "76eaf434-c0d3-4292-efdf-a18ac008afbb",
        "id": "AXu8tBE_O6AN",
        "colab": {
          "base_uri": "https://localhost:8080/",
          "height": 1000
        }
      },
      "source": [
        "#Classification network\n",
        "from tensorflow.keras.models import Sequential\n",
        "from tensorflow.keras.layers import Conv2D, MaxPool2D, Flatten, Dense, Dropout, BatchNormalization\n",
        "from tensorflow.keras.optimizers import SGD, Adam\n",
        "tf.keras.backend.clear_session\n",
        "\n",
        "\n",
        "model = Sequential()\n",
        "model.add(Conv2D(input_shape=(32,32,1),padding=\"same\",filters=32,kernel_size=(3,3), activation=\"relu\"))\n",
        "model.add(Conv2D(kernel_size=(3,3),padding=\"same\",filters=32, activation=\"relu\"))\n",
        "\n",
        "\n",
        "\n",
        "\n",
        "\n",
        "model.add(Conv2D(kernel_size=(3,3),padding=\"same\",filters=64, activation=\"relu\"))\n",
        "model.add(Conv2D(kernel_size=(3,3),padding=\"same\",filters=64, activation=\"relu\"))\n",
        "model.add(MaxPool2D(pool_size=(2,2),padding = 'same',strides=(2,2)))\n",
        "\n",
        "\n",
        "\n",
        "model.add(Conv2D(kernel_size=(3,3),padding=\"same\",filters=128, activation=\"relu\"))\n",
        "model.add(Conv2D(kernel_size=(3,3),padding=\"same\",filters=128, activation=\"relu\"))\n",
        "model.add(MaxPool2D(pool_size=(2,2),padding = 'same',strides=(2,2)))\n",
        "\n",
        "\n",
        "\n",
        "model.add(Conv2D(kernel_size=(3,3),padding=\"same\",filters=256, activation=\"relu\"))\n",
        "model.add(Conv2D(kernel_size=(3,3),padding=\"same\",filters=256, activation=\"relu\"))\n",
        "model.add(MaxPool2D(pool_size=(2,2),padding = 'same',strides=(2,2)))\n",
        "\n",
        "\n",
        "\n",
        "\n",
        "model.add(Flatten())\n",
        "\n",
        "model.add(Dropout(0.4)) \n",
        "model.add(Dense(256,activation='relu'))\n",
        "\n",
        "model.add(Dense(10, activation = 'softmax'))\n",
        "\n",
        "model.summary()\n",
        "\n",
        "from tensorflow.keras.callbacks import EarlyStopping\n",
        "early_stopping = EarlyStopping(patience = 20, restore_best_weights = True)\n",
        "\n",
        "model.compile(loss = \"categorical_crossentropy\", optimizer = Adam(lr=0.0001), metrics = [\"accuracy\"])\n",
        "history = model.fit(recon_train, y_train,\n",
        "                  validation_data = (recon_valid, y_valid),\n",
        "                  epochs = 50, batch_size = 500, callbacks = [early_stopping])"
      ],
      "execution_count": 166,
      "outputs": [
        {
          "output_type": "stream",
          "text": [
            "Model: \"sequential_6\"\n",
            "_________________________________________________________________\n",
            "Layer (type)                 Output Shape              Param #   \n",
            "=================================================================\n",
            "conv2d_93 (Conv2D)           (None, 32, 32, 32)        320       \n",
            "_________________________________________________________________\n",
            "conv2d_94 (Conv2D)           (None, 32, 32, 32)        9248      \n",
            "_________________________________________________________________\n",
            "conv2d_95 (Conv2D)           (None, 32, 32, 64)        18496     \n",
            "_________________________________________________________________\n",
            "conv2d_96 (Conv2D)           (None, 32, 32, 64)        36928     \n",
            "_________________________________________________________________\n",
            "max_pooling2d_30 (MaxPooling (None, 16, 16, 64)        0         \n",
            "_________________________________________________________________\n",
            "conv2d_97 (Conv2D)           (None, 16, 16, 128)       73856     \n",
            "_________________________________________________________________\n",
            "conv2d_98 (Conv2D)           (None, 16, 16, 128)       147584    \n",
            "_________________________________________________________________\n",
            "max_pooling2d_31 (MaxPooling (None, 8, 8, 128)         0         \n",
            "_________________________________________________________________\n",
            "conv2d_99 (Conv2D)           (None, 8, 8, 256)         295168    \n",
            "_________________________________________________________________\n",
            "conv2d_100 (Conv2D)          (None, 8, 8, 256)         590080    \n",
            "_________________________________________________________________\n",
            "max_pooling2d_32 (MaxPooling (None, 4, 4, 256)         0         \n",
            "_________________________________________________________________\n",
            "flatten_6 (Flatten)          (None, 4096)              0         \n",
            "_________________________________________________________________\n",
            "dropout_27 (Dropout)         (None, 4096)              0         \n",
            "_________________________________________________________________\n",
            "dense_12 (Dense)             (None, 256)               1048832   \n",
            "_________________________________________________________________\n",
            "dense_13 (Dense)             (None, 10)                2570      \n",
            "=================================================================\n",
            "Total params: 2,223,082\n",
            "Trainable params: 2,223,082\n",
            "Non-trainable params: 0\n",
            "_________________________________________________________________\n",
            "Epoch 1/50\n",
            "32/32 [==============================] - 8s 240ms/step - loss: 1.8812 - accuracy: 0.3719 - val_loss: 0.7486 - val_accuracy: 0.7435\n",
            "Epoch 2/50\n",
            "32/32 [==============================] - 8s 236ms/step - loss: 0.5611 - accuracy: 0.8207 - val_loss: 0.2851 - val_accuracy: 0.9180\n",
            "Epoch 3/50\n",
            "32/32 [==============================] - 8s 236ms/step - loss: 0.2597 - accuracy: 0.9224 - val_loss: 0.1885 - val_accuracy: 0.9480\n",
            "Epoch 4/50\n",
            "32/32 [==============================] - 8s 237ms/step - loss: 0.1726 - accuracy: 0.9467 - val_loss: 0.1546 - val_accuracy: 0.9565\n",
            "Epoch 5/50\n",
            "32/32 [==============================] - 8s 236ms/step - loss: 0.1305 - accuracy: 0.9607 - val_loss: 0.1257 - val_accuracy: 0.9655\n",
            "Epoch 6/50\n",
            "32/32 [==============================] - 8s 236ms/step - loss: 0.1124 - accuracy: 0.9641 - val_loss: 0.1232 - val_accuracy: 0.9600\n",
            "Epoch 7/50\n",
            "32/32 [==============================] - 8s 236ms/step - loss: 0.0909 - accuracy: 0.9716 - val_loss: 0.1112 - val_accuracy: 0.9670\n",
            "Epoch 8/50\n",
            "32/32 [==============================] - 8s 236ms/step - loss: 0.0794 - accuracy: 0.9761 - val_loss: 0.0936 - val_accuracy: 0.9725\n",
            "Epoch 9/50\n",
            "32/32 [==============================] - 8s 237ms/step - loss: 0.0709 - accuracy: 0.9784 - val_loss: 0.0922 - val_accuracy: 0.9720\n",
            "Epoch 10/50\n",
            "32/32 [==============================] - 8s 236ms/step - loss: 0.0657 - accuracy: 0.9792 - val_loss: 0.0904 - val_accuracy: 0.9705\n",
            "Epoch 11/50\n",
            "32/32 [==============================] - 8s 235ms/step - loss: 0.0591 - accuracy: 0.9816 - val_loss: 0.0851 - val_accuracy: 0.9710\n",
            "Epoch 12/50\n",
            "32/32 [==============================] - 8s 235ms/step - loss: 0.0595 - accuracy: 0.9822 - val_loss: 0.0859 - val_accuracy: 0.9720\n",
            "Epoch 13/50\n",
            "32/32 [==============================] - 8s 235ms/step - loss: 0.0495 - accuracy: 0.9847 - val_loss: 0.0819 - val_accuracy: 0.9735\n",
            "Epoch 14/50\n",
            "32/32 [==============================] - 8s 236ms/step - loss: 0.0503 - accuracy: 0.9841 - val_loss: 0.0803 - val_accuracy: 0.9755\n",
            "Epoch 15/50\n",
            "32/32 [==============================] - 8s 236ms/step - loss: 0.0418 - accuracy: 0.9871 - val_loss: 0.0846 - val_accuracy: 0.9720\n",
            "Epoch 16/50\n",
            "32/32 [==============================] - 8s 236ms/step - loss: 0.0378 - accuracy: 0.9878 - val_loss: 0.0882 - val_accuracy: 0.9735\n",
            "Epoch 17/50\n",
            "32/32 [==============================] - 8s 237ms/step - loss: 0.0348 - accuracy: 0.9887 - val_loss: 0.0759 - val_accuracy: 0.9780\n",
            "Epoch 18/50\n",
            "32/32 [==============================] - 8s 237ms/step - loss: 0.0327 - accuracy: 0.9895 - val_loss: 0.0732 - val_accuracy: 0.9765\n",
            "Epoch 19/50\n",
            "32/32 [==============================] - 8s 237ms/step - loss: 0.0348 - accuracy: 0.9891 - val_loss: 0.0728 - val_accuracy: 0.9745\n",
            "Epoch 20/50\n",
            "32/32 [==============================] - 8s 237ms/step - loss: 0.0303 - accuracy: 0.9894 - val_loss: 0.0716 - val_accuracy: 0.9795\n",
            "Epoch 21/50\n",
            "32/32 [==============================] - 8s 238ms/step - loss: 0.0250 - accuracy: 0.9918 - val_loss: 0.0730 - val_accuracy: 0.9770\n",
            "Epoch 22/50\n",
            "32/32 [==============================] - 8s 237ms/step - loss: 0.0255 - accuracy: 0.9919 - val_loss: 0.0682 - val_accuracy: 0.9790\n",
            "Epoch 23/50\n",
            "32/32 [==============================] - 8s 237ms/step - loss: 0.0222 - accuracy: 0.9926 - val_loss: 0.0709 - val_accuracy: 0.9790\n",
            "Epoch 24/50\n",
            "32/32 [==============================] - 8s 237ms/step - loss: 0.0197 - accuracy: 0.9931 - val_loss: 0.0799 - val_accuracy: 0.9770\n",
            "Epoch 25/50\n",
            "32/32 [==============================] - 8s 237ms/step - loss: 0.0205 - accuracy: 0.9933 - val_loss: 0.0700 - val_accuracy: 0.9790\n",
            "Epoch 26/50\n",
            "32/32 [==============================] - 8s 237ms/step - loss: 0.0163 - accuracy: 0.9947 - val_loss: 0.0854 - val_accuracy: 0.9780\n",
            "Epoch 27/50\n",
            "32/32 [==============================] - 8s 237ms/step - loss: 0.0163 - accuracy: 0.9940 - val_loss: 0.0747 - val_accuracy: 0.9785\n",
            "Epoch 28/50\n",
            "32/32 [==============================] - 8s 237ms/step - loss: 0.0177 - accuracy: 0.9945 - val_loss: 0.0809 - val_accuracy: 0.9745\n",
            "Epoch 29/50\n",
            "32/32 [==============================] - 8s 237ms/step - loss: 0.0169 - accuracy: 0.9940 - val_loss: 0.0792 - val_accuracy: 0.9770\n",
            "Epoch 30/50\n",
            "32/32 [==============================] - 8s 237ms/step - loss: 0.0153 - accuracy: 0.9948 - val_loss: 0.0724 - val_accuracy: 0.9795\n",
            "Epoch 31/50\n",
            "32/32 [==============================] - 8s 237ms/step - loss: 0.0123 - accuracy: 0.9959 - val_loss: 0.0764 - val_accuracy: 0.9800\n",
            "Epoch 32/50\n",
            "32/32 [==============================] - 8s 237ms/step - loss: 0.0162 - accuracy: 0.9942 - val_loss: 0.0882 - val_accuracy: 0.9795\n",
            "Epoch 33/50\n",
            "32/32 [==============================] - 8s 237ms/step - loss: 0.0142 - accuracy: 0.9946 - val_loss: 0.0745 - val_accuracy: 0.9805\n",
            "Epoch 34/50\n",
            "32/32 [==============================] - 8s 237ms/step - loss: 0.0091 - accuracy: 0.9974 - val_loss: 0.0825 - val_accuracy: 0.9815\n",
            "Epoch 35/50\n",
            "32/32 [==============================] - 8s 237ms/step - loss: 0.0107 - accuracy: 0.9962 - val_loss: 0.0745 - val_accuracy: 0.9830\n",
            "Epoch 36/50\n",
            "32/32 [==============================] - 8s 236ms/step - loss: 0.0138 - accuracy: 0.9951 - val_loss: 0.0793 - val_accuracy: 0.9795\n",
            "Epoch 37/50\n",
            "32/32 [==============================] - 8s 236ms/step - loss: 0.0118 - accuracy: 0.9951 - val_loss: 0.0808 - val_accuracy: 0.9825\n",
            "Epoch 38/50\n",
            "32/32 [==============================] - 8s 237ms/step - loss: 0.0079 - accuracy: 0.9974 - val_loss: 0.0814 - val_accuracy: 0.9800\n",
            "Epoch 39/50\n",
            "32/32 [==============================] - 8s 236ms/step - loss: 0.0068 - accuracy: 0.9977 - val_loss: 0.0838 - val_accuracy: 0.9815\n",
            "Epoch 40/50\n",
            "32/32 [==============================] - 8s 236ms/step - loss: 0.0067 - accuracy: 0.9974 - val_loss: 0.0915 - val_accuracy: 0.9820\n",
            "Epoch 41/50\n",
            "32/32 [==============================] - 8s 236ms/step - loss: 0.0082 - accuracy: 0.9970 - val_loss: 0.0846 - val_accuracy: 0.9805\n",
            "Epoch 42/50\n",
            "32/32 [==============================] - 8s 237ms/step - loss: 0.0144 - accuracy: 0.9954 - val_loss: 0.1032 - val_accuracy: 0.9780\n"
          ],
          "name": "stdout"
        }
      ]
    },
    {
      "cell_type": "code",
      "metadata": {
        "colab_type": "code",
        "outputId": "f533b14a-1adf-465c-b963-e7607c944482",
        "id": "BjOAUiLnO6AP",
        "colab": {
          "base_uri": "https://localhost:8080/",
          "height": 51
        }
      },
      "source": [
        "model.evaluate(recon_test,y_test)"
      ],
      "execution_count": 167,
      "outputs": [
        {
          "output_type": "stream",
          "text": [
            "63/63 [==============================] - 1s 10ms/step - loss: 0.0901 - accuracy: 0.9730\n"
          ],
          "name": "stdout"
        },
        {
          "output_type": "execute_result",
          "data": {
            "text/plain": [
              "[0.09011070430278778, 0.9729999899864197]"
            ]
          },
          "metadata": {
            "tags": []
          },
          "execution_count": 167
        }
      ]
    },
    {
      "cell_type": "markdown",
      "metadata": {
        "colab_type": "text",
        "id": "CAuu4mjSNnjW"
      },
      "source": [
        "##4. 10cm Input Amplitude##"
      ]
    },
    {
      "cell_type": "code",
      "metadata": {
        "id": "FFTOqgb-8GHX",
        "colab_type": "code",
        "colab": {}
      },
      "source": [
        "#Loading mnist\n",
        "(x_full_mnist, _), (_, _) = mnist.load_data()"
      ],
      "execution_count": 0,
      "outputs": []
    },
    {
      "cell_type": "code",
      "metadata": {
        "id": "bPeQT2SK9DDV",
        "colab_type": "code",
        "colab": {}
      },
      "source": [
        "x_full_mnist=np.array(x_full_mnist)"
      ],
      "execution_count": 0,
      "outputs": []
    },
    {
      "cell_type": "code",
      "metadata": {
        "id": "FpBQHR5k9IOZ",
        "colab_type": "code",
        "colab": {}
      },
      "source": [
        "#Saving the first 20k images\n",
        "x_full_mnist=x_full_mnist[:20000]"
      ],
      "execution_count": 0,
      "outputs": []
    },
    {
      "cell_type": "code",
      "metadata": {
        "id": "-c-hvAPT9Ry2",
        "colab_type": "code",
        "colab": {
          "base_uri": "https://localhost:8080/",
          "height": 34
        },
        "outputId": "d3f8beaa-09cd-4ec9-ac4e-74f8a24287d4"
      },
      "source": [
        "x_full_mnist.shape"
      ],
      "execution_count": 171,
      "outputs": [
        {
          "output_type": "execute_result",
          "data": {
            "text/plain": [
              "(20000, 28, 28)"
            ]
          },
          "metadata": {
            "tags": []
          },
          "execution_count": 171
        }
      ]
    },
    {
      "cell_type": "code",
      "metadata": {
        "id": "9I7P9MiSCWZm",
        "colab_type": "code",
        "colab": {}
      },
      "source": [
        "#Resizing the images form (28,28) to (32,32,1)\n",
        "x_full_mnist = resize(x_full_mnist,(20000,32,32,1))"
      ],
      "execution_count": 0,
      "outputs": []
    },
    {
      "cell_type": "code",
      "metadata": {
        "id": "qd8PgscIEEqY",
        "colab_type": "code",
        "colab": {
          "base_uri": "https://localhost:8080/",
          "height": 34
        },
        "outputId": "275c4f98-3a03-43b0-d089-1ea3d0d12198"
      },
      "source": [
        "x_full_mnist.shape"
      ],
      "execution_count": 173,
      "outputs": [
        {
          "output_type": "execute_result",
          "data": {
            "text/plain": [
              "(20000, 32, 32, 1)"
            ]
          },
          "metadata": {
            "tags": []
          },
          "execution_count": 173
        }
      ]
    },
    {
      "cell_type": "code",
      "metadata": {
        "id": "M-XiUZR99dqi",
        "colab_type": "code",
        "colab": {
          "base_uri": "https://localhost:8080/",
          "height": 283
        },
        "outputId": "0c6276ed-eefe-4f66-e9ad-84e12f52a9a5"
      },
      "source": [
        "plt.rcParams[\"axes.grid\"] = False\n",
        "plt.imshow(x_full_mnist[4,:,:,0],cmap='gray')"
      ],
      "execution_count": 174,
      "outputs": [
        {
          "output_type": "execute_result",
          "data": {
            "text/plain": [
              "<matplotlib.image.AxesImage at 0x7fe036c71c18>"
            ]
          },
          "metadata": {
            "tags": []
          },
          "execution_count": 174
        },
        {
          "output_type": "display_data",
          "data": {
            "image/png": "[encoded data removed]",
            "text/plain": [
              "<Figure size 432x288 with 1 Axes>"
            ]
          },
          "metadata": {
            "tags": [],
            "needs_background": "light"
          }
        }
      ]
    },
    {
      "cell_type": "code",
      "metadata": {
        "id": "yaOUWkZx9nSZ",
        "colab_type": "code",
        "colab": {}
      },
      "source": [
        ""
      ],
      "execution_count": 0,
      "outputs": []
    },
    {
      "cell_type": "code",
      "metadata": {
        "id": "PsZvNlMVa3t0",
        "colab_type": "code",
        "outputId": "da28d81e-24ab-45b2-f455-3b9514caafc6",
        "colab": {
          "base_uri": "https://localhost:8080/",
          "height": 34
        }
      },
      "source": [
        "#Loading speckles from dataset\n",
        "X = h5py.File('/content/drive/My Drive/fiber data Crete/10cm/Input_Amplitude/processed/32_down_input_processed_data.h5', 'r')\n",
        "list(X.keys())"
      ],
      "execution_count": 175,
      "outputs": [
        {
          "output_type": "execute_result",
          "data": {
            "text/plain": [
              "['input_processed_data']"
            ]
          },
          "metadata": {
            "tags": []
          },
          "execution_count": 175
        }
      ]
    },
    {
      "cell_type": "code",
      "metadata": {
        "id": "jIg9SmdfbHoI",
        "colab_type": "code",
        "colab": {}
      },
      "source": [
        "X=X['input_processed_data']\n",
        "X_full=np.array(X)\n"
      ],
      "execution_count": 0,
      "outputs": []
    },
    {
      "cell_type": "code",
      "metadata": {
        "id": "S7p2iCHxbS1u",
        "colab_type": "code",
        "outputId": "4bdcc979-f232-4c80-848d-cb4d0bc21caa",
        "colab": {
          "base_uri": "https://localhost:8080/",
          "height": 51
        }
      },
      "source": [
        "print(X_full.shape)\n",
        "print(x_full_mnist.shape)"
      ],
      "execution_count": 177,
      "outputs": [
        {
          "output_type": "stream",
          "text": [
            "(20000, 32, 32, 1)\n",
            "(20000, 32, 32, 1)\n"
          ],
          "name": "stdout"
        }
      ]
    },
    {
      "cell_type": "code",
      "metadata": {
        "id": "XtVo8k3lcGLn",
        "colab_type": "code",
        "colab": {}
      },
      "source": [
        "#Splitting data to train and test sets\n",
        "x_train, x_test, x_train_mnist, x_test_mnist = train_test_split(X_full, x_full_mnist, test_size = 0.2, random_state = 42)\n"
      ],
      "execution_count": 0,
      "outputs": []
    },
    {
      "cell_type": "code",
      "metadata": {
        "colab_type": "code",
        "id": "EZoTC5YU-Cu5",
        "colab": {}
      },
      "source": [
        "#Splitting test set to test and validation sets\n",
        "x_test, x_valid, x_test_mnist, x_valid_mnist = train_test_split(x_test, x_test_mnist, test_size = 0.5, random_state = 42)"
      ],
      "execution_count": 0,
      "outputs": []
    },
    {
      "cell_type": "code",
      "metadata": {
        "id": "FFlRBLMMX2Ns",
        "colab_type": "code",
        "colab": {}
      },
      "source": [
        "#Now the images are split in the same way as earlier, so the 2k images of the test set are the same and will not be used when training the u-net\n",
        "#Combining validation and train sets into one training set (Since we won't be using a validation set when training the u-net)\n",
        "x_train=np.concatenate((x_train,x_valid))\n",
        "x_train_mnist=np.concatenate((x_train_mnist,x_valid_mnist))"
      ],
      "execution_count": 0,
      "outputs": []
    },
    {
      "cell_type": "code",
      "metadata": {
        "colab_type": "code",
        "outputId": "543fee12-f6a0-4d27-8c73-2344b83be9b9",
        "id": "HOGHtGaT-Cu9",
        "colab": {
          "base_uri": "https://localhost:8080/",
          "height": 85
        }
      },
      "source": [
        "print(x_train.shape)\n",
        "print(x_test.shape)\n",
        "#print(x_valid.shape)\n",
        "print(x_train_mnist.shape)\n",
        "print(x_test_mnist.shape)\n",
        "#print(y_valid.shape)"
      ],
      "execution_count": 181,
      "outputs": [
        {
          "output_type": "stream",
          "text": [
            "(18000, 32, 32, 1)\n",
            "(2000, 32, 32, 1)\n",
            "(18000, 32, 32, 1)\n",
            "(2000, 32, 32, 1)\n"
          ],
          "name": "stdout"
        }
      ]
    },
    {
      "cell_type": "code",
      "metadata": {
        "id": "AE2_jok-Z3Va",
        "colab_type": "code",
        "colab": {}
      },
      "source": [
        "#U-net\n",
        "tf.keras.backend.clear_session\n",
        "def conv2d_block(input_tensor, n_filters, kernel_size=3, batchnorm=True):\n",
        "     #first layer\n",
        "    x = Conv2D(filters=n_filters, kernel_size=(kernel_size, kernel_size), kernel_initializer=\"he_normal\",\n",
        "               padding=\"same\")(input_tensor)\n",
        "    if batchnorm:\n",
        "        x = BatchNormalization()(x)\n",
        "    x = Activation(\"relu\")(x)\n",
        "    # second layer\n",
        "    x = Conv2D(filters=n_filters, kernel_size=(kernel_size, kernel_size), kernel_initializer=\"he_normal\",\n",
        "               padding=\"same\")(x)\n",
        "    if batchnorm:\n",
        "        x = BatchNormalization()(x)\n",
        "    x = Activation(\"relu\")(x)\n",
        "    return x"
      ],
      "execution_count": 0,
      "outputs": []
    },
    {
      "cell_type": "code",
      "metadata": {
        "id": "FoqLFhK6fBYQ",
        "colab_type": "code",
        "colab": {}
      },
      "source": [
        "def get_unet(input_img, n_filters=32, dropout=0.5, batchnorm=True):\n",
        "    \n",
        "    c1 = conv2d_block(input_img, n_filters=n_filters*1, kernel_size=3, batchnorm=batchnorm)\n",
        "    p1 = MaxPooling2D((1, 1)) (c1)\n",
        "    p1 = Dropout(dropout*0.5)(p1)\n",
        "\n",
        "    c2 = conv2d_block(p1, n_filters=n_filters*2, kernel_size=3, batchnorm=batchnorm)\n",
        "    p2 = MaxPooling2D((2, 2)) (c2)\n",
        "    p2 = Dropout(dropout)(p2)\n",
        "\n",
        "    c3 = conv2d_block(p2, n_filters=n_filters*4, kernel_size=3, batchnorm=batchnorm)\n",
        "    p3 = MaxPooling2D((2, 2)) (c3)\n",
        "    p3 = Dropout(dropout)(p3)\n",
        "\n",
        "    c4 = conv2d_block(p3, n_filters=n_filters*8, kernel_size=3, batchnorm=batchnorm)\n",
        "    p4 = MaxPooling2D(pool_size=(2, 2)) (c4)\n",
        "    p4 = Dropout(dropout)(p4)\n",
        "    \n",
        "    ##\n",
        "\n",
        "    u7 = Conv2DTranspose(n_filters*4, (3, 3), strides=(2, 2), padding='same') (p4)\n",
        "    u7 = concatenate([u7, p3])\n",
        "    u7 = Dropout(dropout)(u7)\n",
        "    c7 = conv2d_block(u7, n_filters=n_filters*4, kernel_size=3, batchnorm=batchnorm)\n",
        "\n",
        "    u8 = Conv2DTranspose(n_filters*2, (3, 3), strides=(2, 2), padding='same') (c7)\n",
        "    u8 = concatenate([u8, p2])\n",
        "    u8 = Dropout(dropout)(u8)\n",
        "    c8 = conv2d_block(u8, n_filters=n_filters*2, kernel_size=3, batchnorm=batchnorm)\n",
        "\n",
        "    u9 = Conv2DTranspose(n_filters*1, (3, 3), strides=(2, 2), padding='same') (c8)\n",
        "    u9 = concatenate([u9, p1], axis=3)\n",
        "    u9 = Dropout(dropout)(u9)\n",
        "    c9 = conv2d_block(u9, n_filters=n_filters*1, kernel_size=3, batchnorm=batchnorm)\n",
        "    \n",
        "    outputs = Conv2D(1, (1, 1), activation='sigmoid') (c9)\n",
        "    model = Model(inputs=[input_img], outputs=[outputs])\n",
        "    return model"
      ],
      "execution_count": 0,
      "outputs": []
    },
    {
      "cell_type": "code",
      "metadata": {
        "id": "Hd0dJVhNvqp6",
        "colab_type": "code",
        "outputId": "48e3f69f-ac22-48bd-81ad-44e2f2519d89",
        "colab": {
          "base_uri": "https://localhost:8080/",
          "height": 1000
        }
      },
      "source": [
        "input_img = Input((32, 32, 1), name='img')\n",
        "model = get_unet(input_img, n_filters=32, dropout=0.05, batchnorm=True)\n",
        "\n",
        "model.compile(optimizer=Adam(lr=0.0004), loss=\"binary_crossentropy\")\n",
        "model.summary()\n"
      ],
      "execution_count": 184,
      "outputs": [
        {
          "output_type": "stream",
          "text": [
            "Model: \"model_3\"\n",
            "__________________________________________________________________________________________________\n",
            "Layer (type)                    Output Shape         Param #     Connected to                     \n",
            "==================================================================================================\n",
            "img (InputLayer)                [(None, 32, 32, 1)]  0                                            \n",
            "__________________________________________________________________________________________________\n",
            "conv2d_101 (Conv2D)             (None, 32, 32, 32)   320         img[0][0]                        \n",
            "__________________________________________________________________________________________________\n",
            "batch_normalization_42 (BatchNo (None, 32, 32, 32)   128         conv2d_101[0][0]                 \n",
            "__________________________________________________________________________________________________\n",
            "activation_42 (Activation)      (None, 32, 32, 32)   0           batch_normalization_42[0][0]     \n",
            "__________________________________________________________________________________________________\n",
            "conv2d_102 (Conv2D)             (None, 32, 32, 32)   9248        activation_42[0][0]              \n",
            "__________________________________________________________________________________________________\n",
            "batch_normalization_43 (BatchNo (None, 32, 32, 32)   128         conv2d_102[0][0]                 \n",
            "__________________________________________________________________________________________________\n",
            "activation_43 (Activation)      (None, 32, 32, 32)   0           batch_normalization_43[0][0]     \n",
            "__________________________________________________________________________________________________\n",
            "max_pooling2d_33 (MaxPooling2D) (None, 32, 32, 32)   0           activation_43[0][0]              \n",
            "__________________________________________________________________________________________________\n",
            "dropout_28 (Dropout)            (None, 32, 32, 32)   0           max_pooling2d_33[0][0]           \n",
            "__________________________________________________________________________________________________\n",
            "conv2d_103 (Conv2D)             (None, 32, 32, 64)   18496       dropout_28[0][0]                 \n",
            "__________________________________________________________________________________________________\n",
            "batch_normalization_44 (BatchNo (None, 32, 32, 64)   256         conv2d_103[0][0]                 \n",
            "__________________________________________________________________________________________________\n",
            "activation_44 (Activation)      (None, 32, 32, 64)   0           batch_normalization_44[0][0]     \n",
            "__________________________________________________________________________________________________\n",
            "conv2d_104 (Conv2D)             (None, 32, 32, 64)   36928       activation_44[0][0]              \n",
            "__________________________________________________________________________________________________\n",
            "batch_normalization_45 (BatchNo (None, 32, 32, 64)   256         conv2d_104[0][0]                 \n",
            "__________________________________________________________________________________________________\n",
            "activation_45 (Activation)      (None, 32, 32, 64)   0           batch_normalization_45[0][0]     \n",
            "__________________________________________________________________________________________________\n",
            "max_pooling2d_34 (MaxPooling2D) (None, 16, 16, 64)   0           activation_45[0][0]              \n",
            "__________________________________________________________________________________________________\n",
            "dropout_29 (Dropout)            (None, 16, 16, 64)   0           max_pooling2d_34[0][0]           \n",
            "__________________________________________________________________________________________________\n",
            "conv2d_105 (Conv2D)             (None, 16, 16, 128)  73856       dropout_29[0][0]                 \n",
            "__________________________________________________________________________________________________\n",
            "batch_normalization_46 (BatchNo (None, 16, 16, 128)  512         conv2d_105[0][0]                 \n",
            "__________________________________________________________________________________________________\n",
            "activation_46 (Activation)      (None, 16, 16, 128)  0           batch_normalization_46[0][0]     \n",
            "__________________________________________________________________________________________________\n",
            "conv2d_106 (Conv2D)             (None, 16, 16, 128)  147584      activation_46[0][0]              \n",
            "__________________________________________________________________________________________________\n",
            "batch_normalization_47 (BatchNo (None, 16, 16, 128)  512         conv2d_106[0][0]                 \n",
            "__________________________________________________________________________________________________\n",
            "activation_47 (Activation)      (None, 16, 16, 128)  0           batch_normalization_47[0][0]     \n",
            "__________________________________________________________________________________________________\n",
            "max_pooling2d_35 (MaxPooling2D) (None, 8, 8, 128)    0           activation_47[0][0]              \n",
            "__________________________________________________________________________________________________\n",
            "dropout_30 (Dropout)            (None, 8, 8, 128)    0           max_pooling2d_35[0][0]           \n",
            "__________________________________________________________________________________________________\n",
            "conv2d_107 (Conv2D)             (None, 8, 8, 256)    295168      dropout_30[0][0]                 \n",
            "__________________________________________________________________________________________________\n",
            "batch_normalization_48 (BatchNo (None, 8, 8, 256)    1024        conv2d_107[0][0]                 \n",
            "__________________________________________________________________________________________________\n",
            "activation_48 (Activation)      (None, 8, 8, 256)    0           batch_normalization_48[0][0]     \n",
            "__________________________________________________________________________________________________\n",
            "conv2d_108 (Conv2D)             (None, 8, 8, 256)    590080      activation_48[0][0]              \n",
            "__________________________________________________________________________________________________\n",
            "batch_normalization_49 (BatchNo (None, 8, 8, 256)    1024        conv2d_108[0][0]                 \n",
            "__________________________________________________________________________________________________\n",
            "activation_49 (Activation)      (None, 8, 8, 256)    0           batch_normalization_49[0][0]     \n",
            "__________________________________________________________________________________________________\n",
            "max_pooling2d_36 (MaxPooling2D) (None, 4, 4, 256)    0           activation_49[0][0]              \n",
            "__________________________________________________________________________________________________\n",
            "dropout_31 (Dropout)            (None, 4, 4, 256)    0           max_pooling2d_36[0][0]           \n",
            "__________________________________________________________________________________________________\n",
            "conv2d_transpose_9 (Conv2DTrans (None, 8, 8, 128)    295040      dropout_31[0][0]                 \n",
            "__________________________________________________________________________________________________\n",
            "concatenate_9 (Concatenate)     (None, 8, 8, 256)    0           conv2d_transpose_9[0][0]         \n",
            "                                                                 dropout_30[0][0]                 \n",
            "__________________________________________________________________________________________________\n",
            "dropout_32 (Dropout)            (None, 8, 8, 256)    0           concatenate_9[0][0]              \n",
            "__________________________________________________________________________________________________\n",
            "conv2d_109 (Conv2D)             (None, 8, 8, 128)    295040      dropout_32[0][0]                 \n",
            "__________________________________________________________________________________________________\n",
            "batch_normalization_50 (BatchNo (None, 8, 8, 128)    512         conv2d_109[0][0]                 \n",
            "__________________________________________________________________________________________________\n",
            "activation_50 (Activation)      (None, 8, 8, 128)    0           batch_normalization_50[0][0]     \n",
            "__________________________________________________________________________________________________\n",
            "conv2d_110 (Conv2D)             (None, 8, 8, 128)    147584      activation_50[0][0]              \n",
            "__________________________________________________________________________________________________\n",
            "batch_normalization_51 (BatchNo (None, 8, 8, 128)    512         conv2d_110[0][0]                 \n",
            "__________________________________________________________________________________________________\n",
            "activation_51 (Activation)      (None, 8, 8, 128)    0           batch_normalization_51[0][0]     \n",
            "__________________________________________________________________________________________________\n",
            "conv2d_transpose_10 (Conv2DTran (None, 16, 16, 64)   73792       activation_51[0][0]              \n",
            "__________________________________________________________________________________________________\n",
            "concatenate_10 (Concatenate)    (None, 16, 16, 128)  0           conv2d_transpose_10[0][0]        \n",
            "                                                                 dropout_29[0][0]                 \n",
            "__________________________________________________________________________________________________\n",
            "dropout_33 (Dropout)            (None, 16, 16, 128)  0           concatenate_10[0][0]             \n",
            "__________________________________________________________________________________________________\n",
            "conv2d_111 (Conv2D)             (None, 16, 16, 64)   73792       dropout_33[0][0]                 \n",
            "__________________________________________________________________________________________________\n",
            "batch_normalization_52 (BatchNo (None, 16, 16, 64)   256         conv2d_111[0][0]                 \n",
            "__________________________________________________________________________________________________\n",
            "activation_52 (Activation)      (None, 16, 16, 64)   0           batch_normalization_52[0][0]     \n",
            "__________________________________________________________________________________________________\n",
            "conv2d_112 (Conv2D)             (None, 16, 16, 64)   36928       activation_52[0][0]              \n",
            "__________________________________________________________________________________________________\n",
            "batch_normalization_53 (BatchNo (None, 16, 16, 64)   256         conv2d_112[0][0]                 \n",
            "__________________________________________________________________________________________________\n",
            "activation_53 (Activation)      (None, 16, 16, 64)   0           batch_normalization_53[0][0]     \n",
            "__________________________________________________________________________________________________\n",
            "conv2d_transpose_11 (Conv2DTran (None, 32, 32, 32)   18464       activation_53[0][0]              \n",
            "__________________________________________________________________________________________________\n",
            "concatenate_11 (Concatenate)    (None, 32, 32, 64)   0           conv2d_transpose_11[0][0]        \n",
            "                                                                 dropout_28[0][0]                 \n",
            "__________________________________________________________________________________________________\n",
            "dropout_34 (Dropout)            (None, 32, 32, 64)   0           concatenate_11[0][0]             \n",
            "__________________________________________________________________________________________________\n",
            "conv2d_113 (Conv2D)             (None, 32, 32, 32)   18464       dropout_34[0][0]                 \n",
            "__________________________________________________________________________________________________\n",
            "batch_normalization_54 (BatchNo (None, 32, 32, 32)   128         conv2d_113[0][0]                 \n",
            "__________________________________________________________________________________________________\n",
            "activation_54 (Activation)      (None, 32, 32, 32)   0           batch_normalization_54[0][0]     \n",
            "__________________________________________________________________________________________________\n",
            "conv2d_114 (Conv2D)             (None, 32, 32, 32)   9248        activation_54[0][0]              \n",
            "__________________________________________________________________________________________________\n",
            "batch_normalization_55 (BatchNo (None, 32, 32, 32)   128         conv2d_114[0][0]                 \n",
            "__________________________________________________________________________________________________\n",
            "activation_55 (Activation)      (None, 32, 32, 32)   0           batch_normalization_55[0][0]     \n",
            "__________________________________________________________________________________________________\n",
            "conv2d_115 (Conv2D)             (None, 32, 32, 1)    33          activation_55[0][0]              \n",
            "==================================================================================================\n",
            "Total params: 2,145,697\n",
            "Trainable params: 2,142,881\n",
            "Non-trainable params: 2,816\n",
            "__________________________________________________________________________________________________\n"
          ],
          "name": "stdout"
        }
      ]
    },
    {
      "cell_type": "code",
      "metadata": {
        "id": "5fw5DH7hyTOa",
        "colab_type": "code",
        "outputId": "ff5d734b-ac8a-410e-fba1-ee724e27ffc3",
        "colab": {
          "base_uri": "https://localhost:8080/",
          "height": 1000
        }
      },
      "source": [
        "history = model.fit(x_train, x_train_mnist, \n",
        "                  \n",
        "                  epochs = 35, batch_size = 50)"
      ],
      "execution_count": 185,
      "outputs": [
        {
          "output_type": "stream",
          "text": [
            "Epoch 1/35\n",
            "360/360 [==============================] - 27s 76ms/step - loss: 0.2957\n",
            "Epoch 2/35\n",
            "360/360 [==============================] - 27s 75ms/step - loss: 0.1676\n",
            "Epoch 3/35\n",
            "360/360 [==============================] - 27s 75ms/step - loss: 0.1455\n",
            "Epoch 4/35\n",
            "360/360 [==============================] - 27s 76ms/step - loss: 0.1358\n",
            "Epoch 5/35\n",
            "360/360 [==============================] - 27s 75ms/step - loss: 0.1301\n",
            "Epoch 6/35\n",
            "360/360 [==============================] - 27s 76ms/step - loss: 0.1265\n",
            "Epoch 7/35\n",
            "360/360 [==============================] - 27s 75ms/step - loss: 0.1237\n",
            "Epoch 8/35\n",
            "360/360 [==============================] - 27s 75ms/step - loss: 0.1217\n",
            "Epoch 9/35\n",
            "360/360 [==============================] - 27s 75ms/step - loss: 0.1201\n",
            "Epoch 10/35\n",
            "360/360 [==============================] - 27s 75ms/step - loss: 0.1187\n",
            "Epoch 11/35\n",
            "360/360 [==============================] - 27s 75ms/step - loss: 0.1176\n",
            "Epoch 12/35\n",
            "360/360 [==============================] - 27s 75ms/step - loss: 0.1164\n",
            "Epoch 13/35\n",
            "360/360 [==============================] - 27s 75ms/step - loss: 0.1156\n",
            "Epoch 14/35\n",
            "360/360 [==============================] - 27s 75ms/step - loss: 0.1149\n",
            "Epoch 15/35\n",
            "360/360 [==============================] - 27s 75ms/step - loss: 0.1142\n",
            "Epoch 16/35\n",
            "360/360 [==============================] - 27s 75ms/step - loss: 0.1135\n",
            "Epoch 17/35\n",
            "360/360 [==============================] - 27s 75ms/step - loss: 0.1129\n",
            "Epoch 18/35\n",
            "360/360 [==============================] - 27s 75ms/step - loss: 0.1125\n",
            "Epoch 19/35\n",
            "360/360 [==============================] - 27s 75ms/step - loss: 0.1119\n",
            "Epoch 20/35\n",
            "360/360 [==============================] - 27s 75ms/step - loss: 0.1115\n",
            "Epoch 21/35\n",
            "360/360 [==============================] - 27s 75ms/step - loss: 0.1111\n",
            "Epoch 22/35\n",
            "360/360 [==============================] - 27s 75ms/step - loss: 0.1108\n",
            "Epoch 23/35\n",
            "360/360 [==============================] - 27s 76ms/step - loss: 0.1103\n",
            "Epoch 24/35\n",
            "360/360 [==============================] - 27s 76ms/step - loss: 0.1101\n",
            "Epoch 25/35\n",
            "360/360 [==============================] - 27s 76ms/step - loss: 0.1097\n",
            "Epoch 26/35\n",
            "360/360 [==============================] - 27s 76ms/step - loss: 0.1095\n",
            "Epoch 27/35\n",
            "360/360 [==============================] - 27s 75ms/step - loss: 0.1092\n",
            "Epoch 28/35\n",
            "360/360 [==============================] - 27s 75ms/step - loss: 0.1089\n",
            "Epoch 29/35\n",
            "360/360 [==============================] - 27s 75ms/step - loss: 0.1087\n",
            "Epoch 30/35\n",
            "360/360 [==============================] - 27s 75ms/step - loss: 0.1085\n",
            "Epoch 31/35\n",
            "360/360 [==============================] - 27s 76ms/step - loss: 0.1083\n",
            "Epoch 32/35\n",
            "360/360 [==============================] - 27s 75ms/step - loss: 0.1080\n",
            "Epoch 33/35\n",
            "360/360 [==============================] - 27s 75ms/step - loss: 0.1078\n",
            "Epoch 34/35\n",
            "360/360 [==============================] - 27s 76ms/step - loss: 0.1077\n",
            "Epoch 35/35\n",
            "360/360 [==============================] - 27s 76ms/step - loss: 0.1074\n"
          ],
          "name": "stdout"
        }
      ]
    },
    {
      "cell_type": "code",
      "metadata": {
        "id": "FQ6jx6W_yVko",
        "colab_type": "code",
        "colab": {}
      },
      "source": [
        "#Reconstructing all 20k images\n",
        "recon=np.array(model.predict(X_full))"
      ],
      "execution_count": 0,
      "outputs": []
    },
    {
      "cell_type": "code",
      "metadata": {
        "id": "yE9X02myvZOm",
        "colab_type": "code",
        "outputId": "31e15a7c-e625-4966-d021-7e1d4e50be5a",
        "colab": {
          "base_uri": "https://localhost:8080/",
          "height": 283
        }
      },
      "source": [
        "#Plotting original image\n",
        "from matplotlib import pyplot as plt\n",
        "plt.rcParams[\"axes.grid\"] = False\n",
        "plt.imshow(x_full_mnist[12100,:,:,0],cmap='gray')"
      ],
      "execution_count": 187,
      "outputs": [
        {
          "output_type": "execute_result",
          "data": {
            "text/plain": [
              "<matplotlib.image.AxesImage at 0x7fe039ab3550>"
            ]
          },
          "metadata": {
            "tags": []
          },
          "execution_count": 187
        },
        {
          "output_type": "display_data",
          "data": {
            "image/png": "[encoded data removed]",
            "text/plain": [
              "<Figure size 432x288 with 1 Axes>"
            ]
          },
          "metadata": {
            "tags": [],
            "needs_background": "light"
          }
        }
      ]
    },
    {
      "cell_type": "code",
      "metadata": {
        "id": "2JbXiGlFv-9O",
        "colab_type": "code",
        "outputId": "673e4534-a554-4f4a-ad77-62d58183867b",
        "colab": {
          "base_uri": "https://localhost:8080/",
          "height": 283
        }
      },
      "source": [
        "#Plotting reconstructed image\n",
        "plt.imshow(recon[12100,:,:,0],cmap='gray')"
      ],
      "execution_count": 188,
      "outputs": [
        {
          "output_type": "execute_result",
          "data": {
            "text/plain": [
              "<matplotlib.image.AxesImage at 0x7fe034f151d0>"
            ]
          },
          "metadata": {
            "tags": []
          },
          "execution_count": 188
        },
        {
          "output_type": "display_data",
          "data": {
            "image/png": "[encoded data removed]",
            "text/plain": [
              "<Figure size 432x288 with 1 Axes>"
            ]
          },
          "metadata": {
            "tags": [],
            "needs_background": "light"
          }
        }
      ]
    },
    {
      "cell_type": "code",
      "metadata": {
        "id": "n-w7jmqSwkCh",
        "colab_type": "code",
        "outputId": "753d63ef-2c50-4875-ca21-5376f628ca34",
        "colab": {
          "base_uri": "https://localhost:8080/",
          "height": 283
        }
      },
      "source": [
        "#Plotting the speckle \n",
        "plt.imshow(X_full[12100,:,:,0],cmap='gray')"
      ],
      "execution_count": 189,
      "outputs": [
        {
          "output_type": "execute_result",
          "data": {
            "text/plain": [
              "<matplotlib.image.AxesImage at 0x7fe038359b70>"
            ]
          },
          "metadata": {
            "tags": []
          },
          "execution_count": 189
        },
        {
          "output_type": "display_data",
          "data": {
            "image/png": "[encoded data removed]",
            "text/plain": [
              "<Figure size 432x288 with 1 Axes>"
            ]
          },
          "metadata": {
            "tags": [],
            "needs_background": "light"
          }
        }
      ]
    },
    {
      "cell_type": "code",
      "metadata": {
        "id": "_f8KsqMh6pCV",
        "colab_type": "code",
        "colab": {}
      },
      "source": [
        "#Loading labels\n",
        "y =  h5py.File('/content/drive/My Drive/fiber data Crete/10cm/Input_Amplitude/processed/32_down_output_class_onehot.h5', 'r')"
      ],
      "execution_count": 0,
      "outputs": []
    },
    {
      "cell_type": "code",
      "metadata": {
        "id": "bsXtGCS1jQPe",
        "colab_type": "code",
        "outputId": "31e357a1-45e0-4361-d40b-fdb1aba2c744",
        "colab": {
          "base_uri": "https://localhost:8080/",
          "height": 34
        }
      },
      "source": [
        "list(y.keys())"
      ],
      "execution_count": 191,
      "outputs": [
        {
          "output_type": "execute_result",
          "data": {
            "text/plain": [
              "['output_class_onehot']"
            ]
          },
          "metadata": {
            "tags": []
          },
          "execution_count": 191
        }
      ]
    },
    {
      "cell_type": "code",
      "metadata": {
        "id": "6ZmHFEYyjeFT",
        "colab_type": "code",
        "colab": {}
      },
      "source": [
        "y=y['output_class_onehot']"
      ],
      "execution_count": 0,
      "outputs": []
    },
    {
      "cell_type": "code",
      "metadata": {
        "id": "X7NWY1pYjwzD",
        "colab_type": "code",
        "colab": {}
      },
      "source": [
        "y=np.array(y)"
      ],
      "execution_count": 0,
      "outputs": []
    },
    {
      "cell_type": "code",
      "metadata": {
        "id": "t2aFUPQUjywT",
        "colab_type": "code",
        "outputId": "77ffb793-f1ef-41d2-db04-3dcd11d4e1ea",
        "colab": {
          "base_uri": "https://localhost:8080/",
          "height": 34
        }
      },
      "source": [
        "y.shape"
      ],
      "execution_count": 194,
      "outputs": [
        {
          "output_type": "execute_result",
          "data": {
            "text/plain": [
              "(20000, 10)"
            ]
          },
          "metadata": {
            "tags": []
          },
          "execution_count": 194
        }
      ]
    },
    {
      "cell_type": "code",
      "metadata": {
        "id": "IfwpOv_Pj0az",
        "colab_type": "code",
        "outputId": "0b438997-c1fe-4803-e84f-d597acce819a",
        "colab": {
          "base_uri": "https://localhost:8080/",
          "height": 283
        }
      },
      "source": [
        "plt.imshow(recon[19999,:,:,0],cmap='gray')"
      ],
      "execution_count": 195,
      "outputs": [
        {
          "output_type": "execute_result",
          "data": {
            "text/plain": [
              "<matplotlib.image.AxesImage at 0x7fe03a84d358>"
            ]
          },
          "metadata": {
            "tags": []
          },
          "execution_count": 195
        },
        {
          "output_type": "display_data",
          "data": {
            "image/png": "[encoded data removed]",
            "text/plain": [
              "<Figure size 432x288 with 1 Axes>"
            ]
          },
          "metadata": {
            "tags": [],
            "needs_background": "light"
          }
        }
      ]
    },
    {
      "cell_type": "code",
      "metadata": {
        "id": "PzKAIliikAMq",
        "colab_type": "code",
        "outputId": "dd22f00c-3bfb-499d-f17b-42d2ba2c6722",
        "colab": {
          "base_uri": "https://localhost:8080/",
          "height": 34
        }
      },
      "source": [
        "y[19999]"
      ],
      "execution_count": 196,
      "outputs": [
        {
          "output_type": "execute_result",
          "data": {
            "text/plain": [
              "array([0., 0., 1., 0., 0., 0., 0., 0., 0., 0.], dtype=float32)"
            ]
          },
          "metadata": {
            "tags": []
          },
          "execution_count": 196
        }
      ]
    },
    {
      "cell_type": "code",
      "metadata": {
        "id": "lwC4ZV0qkTvF",
        "colab_type": "code",
        "colab": {}
      },
      "source": [
        "#Splitting data to train and test sets\n",
        "recon_train, recon_test, y_train, y_test = train_test_split(recon, y, test_size = 0.1, random_state = 42)"
      ],
      "execution_count": 0,
      "outputs": []
    },
    {
      "cell_type": "code",
      "metadata": {
        "id": "VzR5EFbQknfc",
        "colab_type": "code",
        "colab": {}
      },
      "source": [
        "#Splitting the test set to test and validation sets\n",
        "recon_train, recon_valid, y_train, y_valid = train_test_split(recon_train, y_train, test_size = 2000, random_state = 42)"
      ],
      "execution_count": 0,
      "outputs": []
    },
    {
      "cell_type": "code",
      "metadata": {
        "id": "pn1mNe8okwhp",
        "colab_type": "code",
        "outputId": "d88a64cc-3c05-4bdc-a578-df2a05d882c3",
        "colab": {
          "base_uri": "https://localhost:8080/",
          "height": 119
        }
      },
      "source": [
        "print(recon_train.shape)\n",
        "print(recon_test.shape)\n",
        "print(recon_valid.shape)\n",
        "print(y_train.shape)\n",
        "print(y_test.shape)\n",
        "print(y_valid.shape)"
      ],
      "execution_count": 199,
      "outputs": [
        {
          "output_type": "stream",
          "text": [
            "(16000, 32, 32, 1)\n",
            "(2000, 32, 32, 1)\n",
            "(2000, 32, 32, 1)\n",
            "(16000, 10)\n",
            "(2000, 10)\n",
            "(2000, 10)\n"
          ],
          "name": "stdout"
        }
      ]
    },
    {
      "cell_type": "code",
      "metadata": {
        "id": "55D8UDYsk3hy",
        "colab_type": "code",
        "outputId": "47399dac-e381-4463-ec6c-5b3b7b6ee335",
        "colab": {
          "base_uri": "https://localhost:8080/",
          "height": 1000
        }
      },
      "source": [
        "#Classification network\n",
        "from tensorflow.keras.models import Sequential\n",
        "from tensorflow.keras.layers import Conv2D, MaxPool2D, Flatten, Dense, Dropout, BatchNormalization\n",
        "from tensorflow.keras.optimizers import SGD, Adam\n",
        "tf.keras.backend.clear_session\n",
        "\n",
        "\n",
        "model = Sequential()\n",
        "model.add(Conv2D(input_shape=(32,32,1),padding=\"same\",filters=32,kernel_size=(3,3), activation=\"relu\"))\n",
        "model.add(Conv2D(kernel_size=(3,3),padding=\"same\",filters=32, activation=\"relu\"))\n",
        "\n",
        "\n",
        "\n",
        "\n",
        "\n",
        "model.add(Conv2D(kernel_size=(3,3),padding=\"same\",filters=64, activation=\"relu\"))\n",
        "model.add(Conv2D(kernel_size=(3,3),padding=\"same\",filters=64, activation=\"relu\"))\n",
        "model.add(MaxPool2D(pool_size=(2,2),padding = 'same',strides=(2,2)))\n",
        "\n",
        "\n",
        "\n",
        "model.add(Conv2D(kernel_size=(3,3),padding=\"same\",filters=128, activation=\"relu\"))\n",
        "model.add(Conv2D(kernel_size=(3,3),padding=\"same\",filters=128, activation=\"relu\"))\n",
        "model.add(MaxPool2D(pool_size=(2,2),padding = 'same',strides=(2,2)))\n",
        "\n",
        "\n",
        "\n",
        "model.add(Conv2D(kernel_size=(3,3),padding=\"same\",filters=256, activation=\"relu\"))\n",
        "model.add(Conv2D(kernel_size=(3,3),padding=\"same\",filters=256, activation=\"relu\"))\n",
        "model.add(MaxPool2D(pool_size=(2,2),padding = 'same',strides=(2,2)))\n",
        "\n",
        "\n",
        "\n",
        "\n",
        "model.add(Flatten())\n",
        "\n",
        "model.add(Dropout(0.4)) \n",
        "model.add(Dense(256,activation='relu'))\n",
        "\n",
        "model.add(Dense(10, activation = 'softmax'))\n",
        "\n",
        "model.summary()\n",
        "\n",
        "from tensorflow.keras.callbacks import EarlyStopping\n",
        "early_stopping = EarlyStopping(patience = 20, restore_best_weights = True)\n",
        "\n",
        "model.compile(loss = \"categorical_crossentropy\", optimizer = Adam(lr=0.0001), metrics = [\"accuracy\"])\n",
        "history = model.fit(recon_train, y_train,\n",
        "                  validation_data = (recon_valid, y_valid),\n",
        "                  epochs = 50, batch_size = 500, callbacks = [early_stopping])"
      ],
      "execution_count": 200,
      "outputs": [
        {
          "output_type": "stream",
          "text": [
            "Model: \"sequential_7\"\n",
            "_________________________________________________________________\n",
            "Layer (type)                 Output Shape              Param #   \n",
            "=================================================================\n",
            "conv2d_116 (Conv2D)          (None, 32, 32, 32)        320       \n",
            "_________________________________________________________________\n",
            "conv2d_117 (Conv2D)          (None, 32, 32, 32)        9248      \n",
            "_________________________________________________________________\n",
            "conv2d_118 (Conv2D)          (None, 32, 32, 64)        18496     \n",
            "_________________________________________________________________\n",
            "conv2d_119 (Conv2D)          (None, 32, 32, 64)        36928     \n",
            "_________________________________________________________________\n",
            "max_pooling2d_37 (MaxPooling (None, 16, 16, 64)        0         \n",
            "_________________________________________________________________\n",
            "conv2d_120 (Conv2D)          (None, 16, 16, 128)       73856     \n",
            "_________________________________________________________________\n",
            "conv2d_121 (Conv2D)          (None, 16, 16, 128)       147584    \n",
            "_________________________________________________________________\n",
            "max_pooling2d_38 (MaxPooling (None, 8, 8, 128)         0         \n",
            "_________________________________________________________________\n",
            "conv2d_122 (Conv2D)          (None, 8, 8, 256)         295168    \n",
            "_________________________________________________________________\n",
            "conv2d_123 (Conv2D)          (None, 8, 8, 256)         590080    \n",
            "_________________________________________________________________\n",
            "max_pooling2d_39 (MaxPooling (None, 4, 4, 256)         0         \n",
            "_________________________________________________________________\n",
            "flatten_7 (Flatten)          (None, 4096)              0         \n",
            "_________________________________________________________________\n",
            "dropout_35 (Dropout)         (None, 4096)              0         \n",
            "_________________________________________________________________\n",
            "dense_14 (Dense)             (None, 256)               1048832   \n",
            "_________________________________________________________________\n",
            "dense_15 (Dense)             (None, 10)                2570      \n",
            "=================================================================\n",
            "Total params: 2,223,082\n",
            "Trainable params: 2,223,082\n",
            "Non-trainable params: 0\n",
            "_________________________________________________________________\n",
            "Epoch 1/50\n",
            "32/32 [==============================] - 8s 241ms/step - loss: 1.8443 - accuracy: 0.3988 - val_loss: 0.7336 - val_accuracy: 0.7505\n",
            "Epoch 2/50\n",
            "32/32 [==============================] - 8s 236ms/step - loss: 0.5482 - accuracy: 0.8230 - val_loss: 0.2859 - val_accuracy: 0.9100\n",
            "Epoch 3/50\n",
            "32/32 [==============================] - 8s 237ms/step - loss: 0.2679 - accuracy: 0.9187 - val_loss: 0.1896 - val_accuracy: 0.9440\n",
            "Epoch 4/50\n",
            "32/32 [==============================] - 8s 237ms/step - loss: 0.1833 - accuracy: 0.9431 - val_loss: 0.1519 - val_accuracy: 0.9535\n",
            "Epoch 5/50\n",
            "32/32 [==============================] - 8s 237ms/step - loss: 0.1414 - accuracy: 0.9572 - val_loss: 0.1252 - val_accuracy: 0.9645\n",
            "Epoch 6/50\n",
            "32/32 [==============================] - 8s 236ms/step - loss: 0.1154 - accuracy: 0.9653 - val_loss: 0.1118 - val_accuracy: 0.9645\n",
            "Epoch 7/50\n",
            "32/32 [==============================] - 8s 236ms/step - loss: 0.0972 - accuracy: 0.9701 - val_loss: 0.0973 - val_accuracy: 0.9695\n",
            "Epoch 8/50\n",
            "32/32 [==============================] - 8s 237ms/step - loss: 0.0822 - accuracy: 0.9749 - val_loss: 0.0897 - val_accuracy: 0.9705\n",
            "Epoch 9/50\n",
            "32/32 [==============================] - 8s 237ms/step - loss: 0.0714 - accuracy: 0.9782 - val_loss: 0.0908 - val_accuracy: 0.9735\n",
            "Epoch 10/50\n",
            "32/32 [==============================] - 8s 238ms/step - loss: 0.0647 - accuracy: 0.9792 - val_loss: 0.0833 - val_accuracy: 0.9755\n",
            "Epoch 11/50\n",
            "32/32 [==============================] - 8s 236ms/step - loss: 0.0586 - accuracy: 0.9816 - val_loss: 0.0809 - val_accuracy: 0.9775\n",
            "Epoch 12/50\n",
            "32/32 [==============================] - 8s 237ms/step - loss: 0.0510 - accuracy: 0.9837 - val_loss: 0.0745 - val_accuracy: 0.9785\n",
            "Epoch 13/50\n",
            "32/32 [==============================] - 8s 236ms/step - loss: 0.0464 - accuracy: 0.9852 - val_loss: 0.0801 - val_accuracy: 0.9740\n",
            "Epoch 14/50\n",
            "32/32 [==============================] - 8s 236ms/step - loss: 0.0431 - accuracy: 0.9858 - val_loss: 0.0723 - val_accuracy: 0.9765\n",
            "Epoch 15/50\n",
            "32/32 [==============================] - 8s 236ms/step - loss: 0.0419 - accuracy: 0.9856 - val_loss: 0.0724 - val_accuracy: 0.9770\n",
            "Epoch 16/50\n",
            "32/32 [==============================] - 8s 237ms/step - loss: 0.0337 - accuracy: 0.9890 - val_loss: 0.0663 - val_accuracy: 0.9805\n",
            "Epoch 17/50\n",
            "32/32 [==============================] - 8s 236ms/step - loss: 0.0330 - accuracy: 0.9889 - val_loss: 0.0678 - val_accuracy: 0.9825\n",
            "Epoch 18/50\n",
            "32/32 [==============================] - 8s 237ms/step - loss: 0.0307 - accuracy: 0.9893 - val_loss: 0.0711 - val_accuracy: 0.9775\n",
            "Epoch 19/50\n",
            "32/32 [==============================] - 8s 237ms/step - loss: 0.0284 - accuracy: 0.9893 - val_loss: 0.0656 - val_accuracy: 0.9805\n",
            "Epoch 20/50\n",
            "32/32 [==============================] - 8s 236ms/step - loss: 0.0254 - accuracy: 0.9914 - val_loss: 0.0573 - val_accuracy: 0.9820\n",
            "Epoch 21/50\n",
            "32/32 [==============================] - 8s 236ms/step - loss: 0.0220 - accuracy: 0.9926 - val_loss: 0.0625 - val_accuracy: 0.9835\n",
            "Epoch 22/50\n",
            "32/32 [==============================] - 8s 236ms/step - loss: 0.0214 - accuracy: 0.9921 - val_loss: 0.0669 - val_accuracy: 0.9825\n",
            "Epoch 23/50\n",
            "32/32 [==============================] - 8s 236ms/step - loss: 0.0198 - accuracy: 0.9933 - val_loss: 0.0633 - val_accuracy: 0.9810\n",
            "Epoch 24/50\n",
            "32/32 [==============================] - 8s 236ms/step - loss: 0.0197 - accuracy: 0.9931 - val_loss: 0.0748 - val_accuracy: 0.9800\n",
            "Epoch 25/50\n",
            "32/32 [==============================] - 8s 236ms/step - loss: 0.0230 - accuracy: 0.9918 - val_loss: 0.0596 - val_accuracy: 0.9820\n",
            "Epoch 26/50\n",
            "32/32 [==============================] - 8s 236ms/step - loss: 0.0132 - accuracy: 0.9958 - val_loss: 0.0703 - val_accuracy: 0.9820\n",
            "Epoch 27/50\n",
            "32/32 [==============================] - 8s 236ms/step - loss: 0.0168 - accuracy: 0.9945 - val_loss: 0.0588 - val_accuracy: 0.9845\n",
            "Epoch 28/50\n",
            "32/32 [==============================] - 8s 236ms/step - loss: 0.0157 - accuracy: 0.9944 - val_loss: 0.0680 - val_accuracy: 0.9830\n",
            "Epoch 29/50\n",
            "32/32 [==============================] - 8s 236ms/step - loss: 0.0142 - accuracy: 0.9946 - val_loss: 0.0673 - val_accuracy: 0.9805\n",
            "Epoch 30/50\n",
            "32/32 [==============================] - 8s 236ms/step - loss: 0.0116 - accuracy: 0.9953 - val_loss: 0.0656 - val_accuracy: 0.9830\n",
            "Epoch 31/50\n",
            "32/32 [==============================] - 8s 237ms/step - loss: 0.0111 - accuracy: 0.9958 - val_loss: 0.0752 - val_accuracy: 0.9850\n",
            "Epoch 32/50\n",
            "32/32 [==============================] - 8s 237ms/step - loss: 0.0132 - accuracy: 0.9949 - val_loss: 0.0676 - val_accuracy: 0.9835\n",
            "Epoch 33/50\n",
            "32/32 [==============================] - 8s 236ms/step - loss: 0.0119 - accuracy: 0.9959 - val_loss: 0.0661 - val_accuracy: 0.9850\n",
            "Epoch 34/50\n",
            "32/32 [==============================] - 8s 236ms/step - loss: 0.0107 - accuracy: 0.9966 - val_loss: 0.0660 - val_accuracy: 0.9820\n",
            "Epoch 35/50\n",
            "32/32 [==============================] - 8s 236ms/step - loss: 0.0087 - accuracy: 0.9969 - val_loss: 0.0744 - val_accuracy: 0.9830\n",
            "Epoch 36/50\n",
            "32/32 [==============================] - 8s 236ms/step - loss: 0.0106 - accuracy: 0.9963 - val_loss: 0.0669 - val_accuracy: 0.9825\n",
            "Epoch 37/50\n",
            "32/32 [==============================] - 8s 236ms/step - loss: 0.0064 - accuracy: 0.9982 - val_loss: 0.0699 - val_accuracy: 0.9855\n",
            "Epoch 38/50\n",
            "32/32 [==============================] - 8s 236ms/step - loss: 0.0074 - accuracy: 0.9976 - val_loss: 0.0715 - val_accuracy: 0.9845\n",
            "Epoch 39/50\n",
            "32/32 [==============================] - 8s 237ms/step - loss: 0.0069 - accuracy: 0.9976 - val_loss: 0.0724 - val_accuracy: 0.9860\n",
            "Epoch 40/50\n",
            "32/32 [==============================] - 8s 237ms/step - loss: 0.0078 - accuracy: 0.9975 - val_loss: 0.0705 - val_accuracy: 0.9835\n"
          ],
          "name": "stdout"
        }
      ]
    },
    {
      "cell_type": "code",
      "metadata": {
        "id": "u3O6YOzjlC27",
        "colab_type": "code",
        "outputId": "a1d5ffa5-845c-4ecb-cbce-a9f53308b784",
        "colab": {
          "base_uri": "https://localhost:8080/",
          "height": 51
        }
      },
      "source": [
        "model.evaluate(recon_test,y_test)"
      ],
      "execution_count": 201,
      "outputs": [
        {
          "output_type": "stream",
          "text": [
            "63/63 [==============================] - 1s 11ms/step - loss: 0.0824 - accuracy: 0.9780\n"
          ],
          "name": "stdout"
        },
        {
          "output_type": "execute_result",
          "data": {
            "text/plain": [
              "[0.08235787600278854, 0.9779999852180481]"
            ]
          },
          "metadata": {
            "tags": []
          },
          "execution_count": 201
        }
      ]
    },
    {
      "cell_type": "code",
      "metadata": {
        "id": "9fk6BVRIMiXQ",
        "colab_type": "code",
        "colab": {}
      },
      "source": [
        ""
      ],
      "execution_count": 0,
      "outputs": []
    }
  ]
}